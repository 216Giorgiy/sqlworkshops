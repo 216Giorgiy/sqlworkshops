{
    "metadata": {
        "kernelspec": {
            "name": "SQL",
            "display_name": "SQL",
            "language": "sql"
        },
        "language_info": {
            "name": "sql",
            "version": ""
        }
    },
    "nbformat_minor": 2,
    "nbformat": 4,
    "cells": [
        {
            "cell_type": "markdown",
            "source": "<img src=\"https://github.com/Microsoft/sqlworkshops/blob/master/graphics/solutions-microsoft-logo-small.png?raw=true\" alt=\"Microsoft\">\r\n<br>\r\n\r\n# SQL Server 2019 big data cluster Tutorial\r\n## 01 - SQL Server Master Instance Queries\r\n\r\nIn this tutorial you will learn how to run standard SQL Server Queries against the Master Instance (MI) in a SQL Server big data cluster. \r\n\r\nWe'll start with a simple set of queries to explore the Instance: \r\n\r\n",
            "metadata": {}
        },
        {
            "cell_type": "code",
            "source": "/* Instance Version */\r\nSELECT @@VERSION; \r\nGO\r\n\r\n/* General Configuration */\r\nUSE master;  \r\nGO  \r\nEXEC sp_configure;\r\nGO\r\n\r\n/* Databases on this Instance */\r\nSELECT db.name AS 'Database Name'\r\n, Physical_Name AS 'Location on Disk'\r\n, Cast(Cast(Round(cast(mf.size as decimal) * 8.0/1024000.0,2) as decimal(18,2)) as nvarchar) 'Size (GB)'\r\nFROM sys.master_files mf\r\nINNER JOIN \r\n    sys.databases db ON db.database_id = mf.database_id\r\nWHERE mf.type_desc = 'ROWS';\r\nGO\r\n\r\nSELECT * from sys.master_files\r\n",
            "metadata": {},
            "outputs": [
                {
                    "output_type": "error",
                    "ename": "",
                    "evalue": "Msg 208, Level 16, State 1, Line 3\r\nInvalid object name 'web_customers_hdfs'.",
                    "traceback": []
                },
                {
                    "output_type": "display_data",
                    "data": {
                        "text/html": "Total execution time: 00:00:00.0061315"
                    },
                    "metadata": {}
                }
            ],
            "execution_count": 1
        },
        {
            "cell_type": "markdown",
            "source": "## Ingest data into the SQL Server Databases\r\n\r\nBefore we start working with data, we need to bring it in to the system. We have several options to do that, from the `bcp` utility to SQL Server Integration Services, the Azure Data Factory and more. \r\n\r\nFor the structured data, we'll use the SQL Server `RESTORE` command to bring in two databases from the location we specified earlier with the `kubectl` command.\r\n\r\nThe Code below shows all of that: ",
            "metadata": {}
        },
        {
            "cell_type": "code",
            "source": "USE [master]\r\nRESTORE DATABASE [WideWorldImporters] \r\nFROM  DISK = N'/var/opt/mssql/data/WWI.bak' \r\nWITH  FILE = 1\r\n,  REPLACE\r\n,  MOVE N'WWI_Primary' TO N'/var/opt/mssql/data/WideWorldImporters.mdf'\r\n,  MOVE N'WWI_UserData' TO N'/var/opt/mssql/data/WideWorldImporters_UserData.ndf'\r\n,  MOVE N'WWI_Log' TO N'/var/opt/mssql/data/WideWorldImporters.ldf'\r\n,  MOVE N'WWI_InMemory_Data_1' TO N'/var/opt/mssql/data/WideWorldImporters_InMemory_Data_1'\r\n,  NOUNLOAD,  STATS = 5;\r\nGO\r\n\r\nUSE [master]\r\nRESTORE DATABASE [WideWorldImportersDW] \r\nFROM  DISK = N'/var/opt/mssql/data/WWIDW.bak' \r\nWITH  FILE = 1\r\n,  REPLACE\r\n,  MOVE N'WWI_Primary' TO N'/var/opt/mssql/data/WideWorldImportersDW.mdf'\r\n,  MOVE N'WWI_UserData' TO N'/var/opt/mssql/data/WideWorldImportersDW_UserData.ndf'\r\n,  MOVE N'WWI_Log' TO N'/var/opt/mssql/data/WideWorldImportersDW.ldf'\r\n,  MOVE N'WWIDW_InMemory_Data_1' TO N'/var/opt/mssql/data/WideWorldImportersDW_InMemory_Data_1'\r\n,  NOUNLOAD,  STATS = 5\r\n\r\nGO\r\n\r\nUSE [master]\r\nRESTORE DATABASE [NYC]\r\nFROM  DISK = N'/var/opt/mssql/data/NYC.bak' \r\nWITH  FILE = 1\r\n,  REPLACE\r\n,  MOVE N'NYCTaxi_Sample' TO N'/var/opt/mssql/data/NYC.mdf'\r\n,  MOVE N'NYCTaxi_Sample_log' TO N'/var/opt/mssql/data/NYC.ldf'\r\n,  NOUNLOAD,  STATS = 5;\r\nGO\r\n\r\nUSE [master]\r\nRESTORE DATABASE [sales] \r\nFROM  DISK = N'/var/opt/mssql/data/sales.bak' \r\nWITH  FILE = 1,  NOUNLOAD,  STATS = 5\r\n\r\nGO\r\n",
            "metadata": {},
            "outputs": [],
            "execution_count": 1
        },
        {
            "cell_type": "markdown",
            "source": "## Query Data\r\n\r\nThe SQL Server 2019 big data cluster Master Instance is a SQL Server Instance - and as such has most all of the query facilities and capabilities of Microsoft SQL Server running on Linux.\r\n\r\n**TODO:** Run some standard queries. Investigate simple ML.",
            "metadata": {}
        },
        {
            "cell_type": "code",
            "source": "USE WideWorldImporters;\r\nGO\r\n\r\n/* Show the Populations. \r\nWhere do we have the most people?\r\n */\r\nSELECT TOP 10 CityName as 'City Name'\r\n, StateProvinceName as 'State or Province'\r\n, sp.LatestRecordedPopulation as 'Population'\r\n, CountryName\r\nFROM Application.Cities AS city\r\nJOIN Application.StateProvinces AS sp on\r\n    city.StateProvinceID = sp.StateProvinceID\r\nJOIN Application.Countries AS ctry on \r\n    sp.CountryID=ctry.CountryID\r\n",
            "metadata": {},
            "outputs": [
                {
                    "output_type": "display_data",
                    "data": {
                        "text/html": "Commands completed successfully."
                    },
                    "metadata": {}
                },
                {
                    "output_type": "display_data",
                    "data": {
                        "text/html": "Total execution time: 00:00:00.0040103"
                    },
                    "metadata": {}
                },
                {
                    "output_type": "display_data",
                    "data": {
                        "text/html": "(10 rows affected)"
                    },
                    "metadata": {}
                },
                {
                    "output_type": "display_data",
                    "data": {
                        "text/html": "Total execution time: 00:00:00.3027652"
                    },
                    "metadata": {}
                },
                {
                    "output_type": "execute_result",
                    "metadata": {},
                    "execution_count": 1,
                    "data": {
                        "application/vnd.dataresource+json": {
                            "schema": {
                                "fields": [
                                    {
                                        "name": "City Name"
                                    },
                                    {
                                        "name": "State or Province"
                                    },
                                    {
                                        "name": "Population"
                                    },
                                    {
                                        "name": "CountryName"
                                    }
                                ]
                            },
                            "data": [
                                {
                                    "0": "Addison",
                                    "1": "Michigan",
                                    "2": "9895622",
                                    "3": "United States"
                                },
                                {
                                    "0": "Adrian",
                                    "1": "Michigan",
                                    "2": "9895622",
                                    "3": "United States"
                                },
                                {
                                    "0": "Advance",
                                    "1": "Michigan",
                                    "2": "9895622",
                                    "3": "United States"
                                },
                                {
                                    "0": "Ahmeek",
                                    "1": "Michigan",
                                    "2": "9895622",
                                    "3": "United States"
                                },
                                {
                                    "0": "Akron",
                                    "1": "Michigan",
                                    "2": "9895622",
                                    "3": "United States"
                                },
                                {
                                    "0": "Alabaster",
                                    "1": "Michigan",
                                    "2": "9895622",
                                    "3": "United States"
                                },
                                {
                                    "0": "Alanson",
                                    "1": "Michigan",
                                    "2": "9895622",
                                    "3": "United States"
                                },
                                {
                                    "0": "Alba",
                                    "1": "Michigan",
                                    "2": "9895622",
                                    "3": "United States"
                                },
                                {
                                    "0": "Albion",
                                    "1": "Michigan",
                                    "2": "9895622",
                                    "3": "United States"
                                },
                                {
                                    "0": "Alden",
                                    "1": "Michigan",
                                    "2": "9895622",
                                    "3": "United States"
                                }
                            ]
                        },
                        "text/html": "<table><tr><th>City Name</th><th>State or Province</th><th>Population</th><th>CountryName</th></tr><tr><td>Addison</td><td>Michigan</td><td>9895622</td><td>United States</td></tr><tr><td>Adrian</td><td>Michigan</td><td>9895622</td><td>United States</td></tr><tr><td>Advance</td><td>Michigan</td><td>9895622</td><td>United States</td></tr><tr><td>Ahmeek</td><td>Michigan</td><td>9895622</td><td>United States</td></tr><tr><td>Akron</td><td>Michigan</td><td>9895622</td><td>United States</td></tr><tr><td>Alabaster</td><td>Michigan</td><td>9895622</td><td>United States</td></tr><tr><td>Alanson</td><td>Michigan</td><td>9895622</td><td>United States</td></tr><tr><td>Alba</td><td>Michigan</td><td>9895622</td><td>United States</td></tr><tr><td>Albion</td><td>Michigan</td><td>9895622</td><td>United States</td></tr><tr><td>Alden</td><td>Michigan</td><td>9895622</td><td>United States</td></tr></table>"
                    }
                }
            ],
            "execution_count": 1
        },
        {
            "cell_type": "code",
            "source": "/* Show Customer Sales\r\nWhere do we have the most customers?\r\n*/\r\nUSE WideWorldImporters;\r\nGO\r\n\r\nSELECT TOP 10 s.CustomerID\r\n, s.CustomerName\r\n, sc.CustomerCategoryName\r\n,  pp.FullName AS PrimaryContact\r\n,  ap.FullName AS AlternateContact\r\n,  s.PhoneNumber\r\n,  s.FaxNumber\r\n,  bg.BuyingGroupName\r\n,  s.WebsiteURL\r\n,  dm.DeliveryMethodName AS DeliveryMethod\r\n,  c.CityName AS CityName\r\n,  s.DeliveryLocation AS DeliveryLocation\r\n,  s.DeliveryRun\r\n,  s.RunPosition\r\nFROM Sales.Customers AS s\r\n    LEFT OUTER JOIN Sales.CustomerCategories AS sc\r\n    ON s.CustomerCategoryID = sc.CustomerCategoryID\r\n    LEFT OUTER JOIN [Application].People AS pp\r\n    ON s.PrimaryContactPersonID = pp.PersonID\r\n    LEFT OUTER JOIN [Application].People AS ap\r\n    ON s.AlternateContactPersonID = ap.PersonID\r\n    LEFT OUTER JOIN Sales.BuyingGroups AS bg\r\n    ON s.BuyingGroupID = bg.BuyingGroupID\r\n    LEFT OUTER JOIN [Application].DeliveryMethods AS dm\r\n    ON s.DeliveryMethodID = dm.DeliveryMethodID\r\n    LEFT OUTER JOIN [Application].Cities AS c\r\n    ON s.DeliveryCityID = c.CityID",
            "metadata": {},
            "outputs": [
                {
                    "output_type": "display_data",
                    "data": {
                        "text/html": "Commands completed successfully."
                    },
                    "metadata": {}
                },
                {
                    "output_type": "display_data",
                    "data": {
                        "text/html": "Total execution time: 00:00:00.0049281"
                    },
                    "metadata": {}
                },
                {
                    "output_type": "display_data",
                    "data": {
                        "text/html": "(10 rows affected)"
                    },
                    "metadata": {}
                },
                {
                    "output_type": "display_data",
                    "data": {
                        "text/html": "Total execution time: 00:00:01.9670829"
                    },
                    "metadata": {}
                },
                {
                    "output_type": "execute_result",
                    "metadata": {},
                    "execution_count": 2,
                    "data": {
                        "application/vnd.dataresource+json": {
                            "schema": {
                                "fields": [
                                    {
                                        "name": "CustomerID"
                                    },
                                    {
                                        "name": "CustomerName"
                                    },
                                    {
                                        "name": "CustomerCategoryName"
                                    },
                                    {
                                        "name": "PrimaryContact"
                                    },
                                    {
                                        "name": "AlternateContact"
                                    },
                                    {
                                        "name": "PhoneNumber"
                                    },
                                    {
                                        "name": "FaxNumber"
                                    },
                                    {
                                        "name": "BuyingGroupName"
                                    },
                                    {
                                        "name": "WebsiteURL"
                                    },
                                    {
                                        "name": "DeliveryMethod"
                                    },
                                    {
                                        "name": "CityName"
                                    },
                                    {
                                        "name": "DeliveryLocation"
                                    },
                                    {
                                        "name": "DeliveryRun"
                                    },
                                    {
                                        "name": "RunPosition"
                                    }
                                ]
                            },
                            "data": [
                                {
                                    "0": "47",
                                    "1": "Tailspin Toys (Lake Hughes, CA)",
                                    "2": "Novelty Shop",
                                    "3": "Serhat Akbulut",
                                    "4": "Nadja Johansson",
                                    "5": "(209) 555-0100",
                                    "6": "(209) 555-0101",
                                    "7": "Tailspin Toys",
                                    "8": "http://www.tailspintoys.com/LakeHughes",
                                    "9": "Delivery Van",
                                    "10": "Lake Hughes",
                                    "11": "0xE6100000010CB759619FA556414000FD63C6809C5DC0",
                                    "12": "",
                                    "13": ""
                                },
                                {
                                    "0": "46",
                                    "1": "Tailspin Toys (Jemison, AL)",
                                    "2": "Novelty Shop",
                                    "3": "Didem ozCelik",
                                    "4": "Krista Andrejev",
                                    "5": "(205) 555-0100",
                                    "6": "(205) 555-0101",
                                    "7": "Tailspin Toys",
                                    "8": "http://www.tailspintoys.com/Jemison",
                                    "9": "Delivery Van",
                                    "10": "Jemison",
                                    "11": "0xE6100000010CE9DC4834DC7A4040221F4F26C9AF55C0",
                                    "12": "",
                                    "13": ""
                                },
                                {
                                    "0": "45",
                                    "1": "Tailspin Toys (Severna Park, MD)",
                                    "2": "Novelty Shop",
                                    "3": "Lap Dinh",
                                    "4": "August Astrom",
                                    "5": "(240) 555-0100",
                                    "6": "(240) 555-0101",
                                    "7": "Tailspin Toys",
                                    "8": "http://www.tailspintoys.com/SevernaPark",
                                    "9": "Delivery Van",
                                    "10": "Severna Park",
                                    "11": "0xE6100000010CF303577902894340437C163AE52253C0",
                                    "12": "",
                                    "13": ""
                                },
                                {
                                    "0": "44",
                                    "1": "Tailspin Toys (Amanda Park, WA)",
                                    "2": "Novelty Shop",
                                    "3": "Adrijana Blagojevic",
                                    "4": "Lina Martins",
                                    "5": "(206) 555-0100",
                                    "6": "(206) 555-0101",
                                    "7": "Tailspin Toys",
                                    "8": "http://www.tailspintoys.com/AmandaPark",
                                    "9": "Delivery Van",
                                    "10": "Amanda Park",
                                    "11": "0xE6100000010C22F4D83B48BB474086B82869B4F85EC0",
                                    "12": "",
                                    "13": ""
                                },
                                {
                                    "0": "43",
                                    "1": "Tailspin Toys (Upper Preston, WA)",
                                    "2": "Novelty Shop",
                                    "3": "Ganapati Gadiyaram",
                                    "4": "Parsa Blijleven",
                                    "5": "(206) 555-0100",
                                    "6": "(206) 555-0101",
                                    "7": "Tailspin Toys",
                                    "8": "http://www.tailspintoys.com/UpperPreston",
                                    "9": "Delivery Van",
                                    "10": "Upper Preston",
                                    "11": "0xE6100000010CE0D2D62DA7C04740FB96395D167A5EC0",
                                    "12": "",
                                    "13": ""
                                },
                                {
                                    "0": "42",
                                    "1": "Tailspin Toys (Arietta, NY)",
                                    "2": "Novelty Shop",
                                    "3": "Chandrakanta Raut",
                                    "4": "Ivan Castellanos",
                                    "5": "(212) 555-0100",
                                    "6": "(212) 555-0101",
                                    "7": "Tailspin Toys",
                                    "8": "http://www.tailspintoys.com/Arietta",
                                    "9": "Delivery Van",
                                    "10": "Arietta",
                                    "11": "0xE6100000010CC3F2E7DB829F4540961F5D1121A152C0",
                                    "12": "",
                                    "13": ""
                                },
                                {
                                    "0": "60",
                                    "1": "Tailspin Toys (East Dailey, WV)",
                                    "2": "Novelty Shop",
                                    "3": "Lekha Mitra",
                                    "4": "Seeta Bose",
                                    "5": "(304) 555-0100",
                                    "6": "(304) 555-0101",
                                    "7": "Tailspin Toys",
                                    "8": "http://www.tailspintoys.com/EastDailey",
                                    "9": "Delivery Van",
                                    "10": "East Dailey",
                                    "11": "0xE6100000010C4A9E46B5E3634340273FF38304F953C0",
                                    "12": "",
                                    "13": ""
                                },
                                {
                                    "0": "41",
                                    "1": "Tailspin Toys (Olivette, MO)",
                                    "2": "Novelty Shop",
                                    "3": "Lana Rozej",
                                    "4": "Kalpana Mukherjee",
                                    "5": "(314) 555-0100",
                                    "6": "(314) 555-0101",
                                    "7": "Tailspin Toys",
                                    "8": "http://www.tailspintoys.com/Olivette",
                                    "9": "Delivery Van",
                                    "10": "Olivette",
                                    "11": "0xE6100000010C5C470B8629554340CE5B2B900F9856C0",
                                    "12": "",
                                    "13": ""
                                },
                                {
                                    "0": "31",
                                    "1": "Tailspin Toys (Lake Stevens, WA)",
                                    "2": "Novelty Shop",
                                    "3": "Kimberly Pace",
                                    "4": "Shobha Gupta",
                                    "5": "(206) 555-0100",
                                    "6": "(206) 555-0101",
                                    "7": "Tailspin Toys",
                                    "8": "http://www.tailspintoys.com/LakeStevens",
                                    "9": "Delivery Van",
                                    "10": "Lake Stevens",
                                    "11": "0xE6100000010C151E34BBEE01484061376C5B14845EC0",
                                    "12": "",
                                    "13": ""
                                },
                                {
                                    "0": "57",
                                    "1": "Tailspin Toys (Lakemore, OH)",
                                    "2": "Novelty Shop",
                                    "3": "Aile Mae",
                                    "4": "Margherita Lucchesi",
                                    "5": "(216) 555-0100",
                                    "6": "(216) 555-0101",
                                    "7": "Tailspin Toys",
                                    "8": "http://www.tailspintoys.com/Lakemore",
                                    "9": "Delivery Van",
                                    "10": "Lakemore",
                                    "11": "0xE6100000010CCB69AA82AC82444007753689E65B54C0",
                                    "12": "",
                                    "13": ""
                                }
                            ]
                        },
                        "text/html": "<table><tr><th>CustomerID</th><th>CustomerName</th><th>CustomerCategoryName</th><th>PrimaryContact</th><th>AlternateContact</th><th>PhoneNumber</th><th>FaxNumber</th><th>BuyingGroupName</th><th>WebsiteURL</th><th>DeliveryMethod</th><th>CityName</th><th>DeliveryLocation</th><th>DeliveryRun</th><th>RunPosition</th></tr><tr><td>47</td><td>Tailspin Toys (Lake Hughes, CA)</td><td>Novelty Shop</td><td>Serhat Akbulut</td><td>Nadja Johansson</td><td>(209) 555-0100</td><td>(209) 555-0101</td><td>Tailspin Toys</td><td>http://www.tailspintoys.com/LakeHughes</td><td>Delivery Van</td><td>Lake Hughes</td><td>0xE6100000010CB759619FA556414000FD63C6809C5DC0</td><td></td><td></td></tr><tr><td>46</td><td>Tailspin Toys (Jemison, AL)</td><td>Novelty Shop</td><td>Didem ozCelik</td><td>Krista Andrejev</td><td>(205) 555-0100</td><td>(205) 555-0101</td><td>Tailspin Toys</td><td>http://www.tailspintoys.com/Jemison</td><td>Delivery Van</td><td>Jemison</td><td>0xE6100000010CE9DC4834DC7A4040221F4F26C9AF55C0</td><td></td><td></td></tr><tr><td>45</td><td>Tailspin Toys (Severna Park, MD)</td><td>Novelty Shop</td><td>Lap Dinh</td><td>August Astrom</td><td>(240) 555-0100</td><td>(240) 555-0101</td><td>Tailspin Toys</td><td>http://www.tailspintoys.com/SevernaPark</td><td>Delivery Van</td><td>Severna Park</td><td>0xE6100000010CF303577902894340437C163AE52253C0</td><td></td><td></td></tr><tr><td>44</td><td>Tailspin Toys (Amanda Park, WA)</td><td>Novelty Shop</td><td>Adrijana Blagojevic</td><td>Lina Martins</td><td>(206) 555-0100</td><td>(206) 555-0101</td><td>Tailspin Toys</td><td>http://www.tailspintoys.com/AmandaPark</td><td>Delivery Van</td><td>Amanda Park</td><td>0xE6100000010C22F4D83B48BB474086B82869B4F85EC0</td><td></td><td></td></tr><tr><td>43</td><td>Tailspin Toys (Upper Preston, WA)</td><td>Novelty Shop</td><td>Ganapati Gadiyaram</td><td>Parsa Blijleven</td><td>(206) 555-0100</td><td>(206) 555-0101</td><td>Tailspin Toys</td><td>http://www.tailspintoys.com/UpperPreston</td><td>Delivery Van</td><td>Upper Preston</td><td>0xE6100000010CE0D2D62DA7C04740FB96395D167A5EC0</td><td></td><td></td></tr><tr><td>42</td><td>Tailspin Toys (Arietta, NY)</td><td>Novelty Shop</td><td>Chandrakanta Raut</td><td>Ivan Castellanos</td><td>(212) 555-0100</td><td>(212) 555-0101</td><td>Tailspin Toys</td><td>http://www.tailspintoys.com/Arietta</td><td>Delivery Van</td><td>Arietta</td><td>0xE6100000010CC3F2E7DB829F4540961F5D1121A152C0</td><td></td><td></td></tr><tr><td>60</td><td>Tailspin Toys (East Dailey, WV)</td><td>Novelty Shop</td><td>Lekha Mitra</td><td>Seeta Bose</td><td>(304) 555-0100</td><td>(304) 555-0101</td><td>Tailspin Toys</td><td>http://www.tailspintoys.com/EastDailey</td><td>Delivery Van</td><td>East Dailey</td><td>0xE6100000010C4A9E46B5E3634340273FF38304F953C0</td><td></td><td></td></tr><tr><td>41</td><td>Tailspin Toys (Olivette, MO)</td><td>Novelty Shop</td><td>Lana Rozej</td><td>Kalpana Mukherjee</td><td>(314) 555-0100</td><td>(314) 555-0101</td><td>Tailspin Toys</td><td>http://www.tailspintoys.com/Olivette</td><td>Delivery Van</td><td>Olivette</td><td>0xE6100000010C5C470B8629554340CE5B2B900F9856C0</td><td></td><td></td></tr><tr><td>31</td><td>Tailspin Toys (Lake Stevens, WA)</td><td>Novelty Shop</td><td>Kimberly Pace</td><td>Shobha Gupta</td><td>(206) 555-0100</td><td>(206) 555-0101</td><td>Tailspin Toys</td><td>http://www.tailspintoys.com/LakeStevens</td><td>Delivery Van</td><td>Lake Stevens</td><td>0xE6100000010C151E34BBEE01484061376C5B14845EC0</td><td></td><td></td></tr><tr><td>57</td><td>Tailspin Toys (Lakemore, OH)</td><td>Novelty Shop</td><td>Aile Mae</td><td>Margherita Lucchesi</td><td>(216) 555-0100</td><td>(216) 555-0101</td><td>Tailspin Toys</td><td>http://www.tailspintoys.com/Lakemore</td><td>Delivery Van</td><td>Lakemore</td><td>0xE6100000010CCB69AA82AC82444007753689E65B54C0</td><td></td><td></td></tr></table>"
                    }
                }
            ],
            "execution_count": 2
        },
        {
            "cell_type": "markdown",
            "source": "## Next Step: Data Virtualization\r\n\r\n**TODO:** Add Link",
            "metadata": {}
        }
    ]
}