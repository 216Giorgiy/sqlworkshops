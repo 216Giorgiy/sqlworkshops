{
    "metadata": {
        "kernelspec": {
            "name": "SQL",
            "display_name": "SQL",
            "language": "sql"
        },
        "language_info": {
            "name": "sql",
            "version": ""
        }
    },
    "nbformat_minor": 2,
    "nbformat": 4,
    "cells": [
        {
            "cell_type": "markdown",
            "source": "<img src=\"https://github.com/Microsoft/sqlworkshops/blob/master/graphics/solutions-microsoft-logo-small.png?raw=true\" alt=\"Microsoft\">\r\n<br>\r\n\r\n# SQL Server 2019 big data cluster Tutorial\r\n## 01 - SQL Server Master Instance Queries\r\n\r\nIn this tutorial you will learn how to run standard SQL Server Queries against the Master Instance (MI) in a SQL Server big data cluster. \r\n\r\nWe'll start with a simple set of queries to explore the Instance: \r\n\r\n",
            "metadata": {}
        },
        {
            "cell_type": "code",
            "source": "/* Instance Version */\r\nSELECT @@VERSION; \r\nGO\r\n\r\n/* General Configuration */\r\nUSE master;  \r\nGO  \r\nEXEC sp_configure;\r\nGO\r\n\r\n/* Databases on this Instance */\r\nSELECT db.name AS 'Database Name'\r\n, Physical_Name AS 'Location on Disk'\r\n, Cast(Cast(Round(cast(mf.size as decimal) * 8.0/1024000.0,2) as decimal(18,2)) as nvarchar) 'Size (GB)'\r\nFROM sys.master_files mf\r\nINNER JOIN \r\n    sys.databases db ON db.database_id = mf.database_id\r\nWHERE mf.type_desc = 'ROWS';\r\nGO\r\n\r\nSELECT * from sys.master_files\r\n",
            "metadata": {},
            "outputs": [
                {
                    "output_type": "display_data",
                    "data": {
                        "text/html": "(1 row affected)"
                    },
                    "metadata": {}
                },
                {
                    "output_type": "display_data",
                    "data": {
                        "text/html": "Total execution time: 00:00:00.1399588"
                    },
                    "metadata": {}
                },
                {
                    "output_type": "display_data",
                    "data": {
                        "text/html": "Commands completed successfully."
                    },
                    "metadata": {}
                },
                {
                    "output_type": "display_data",
                    "data": {
                        "text/html": "Total execution time: 00:00:00.0121076"
                    },
                    "metadata": {}
                },
                {
                    "output_type": "execute_result",
                    "execution_count": 1,
                    "data": {
                        "application/vnd.dataresource+json": {
                            "schema": {
                                "fields": [
                                    {
                                        "name": "(No column name)"
                                    }
                                ]
                            },
                            "data": [
                                {
                                    "0": "Microsoft SQL Server 2019 (CTP2.4) - 15.0.1400.75 (X64) \n\tMar 16 2019 11:53:26 \n\tCopyright (C) 2019 Microsoft Corporation\n\tDeveloper Edition (64-bit) on Linux (Ubuntu 16.04.6 LTS) <X64>"
                                }
                            ]
                        },
                        "text/html": "<table><tr><th>(No column name)</th></tr><tr><td>Microsoft SQL Server 2019 (CTP2.4) - 15.0.1400.75 (X64) \n\tMar 16 2019 11:53:26 \n\tCopyright (C) 2019 Microsoft Corporation\n\tDeveloper Edition (64-bit) on Linux (Ubuntu 16.04.6 LTS) &lt;X64&gt;</td></tr></table>"
                    },
                    "metadata": {}
                },
                {
                    "output_type": "display_data",
                    "data": {
                        "text/html": "Commands completed successfully."
                    },
                    "metadata": {}
                },
                {
                    "output_type": "display_data",
                    "data": {
                        "text/html": "Total execution time: 00:00:00.0662367"
                    },
                    "metadata": {}
                },
                {
                    "output_type": "display_data",
                    "data": {
                        "text/html": "(7 rows affected)"
                    },
                    "metadata": {}
                },
                {
                    "output_type": "display_data",
                    "data": {
                        "text/html": "Total execution time: 00:00:00.0669921"
                    },
                    "metadata": {}
                },
                {
                    "output_type": "display_data",
                    "data": {
                        "text/html": "(14 rows affected)"
                    },
                    "metadata": {}
                },
                {
                    "output_type": "display_data",
                    "data": {
                        "text/html": "Total execution time: 00:00:00.0405191"
                    },
                    "metadata": {}
                },
                {
                    "output_type": "execute_result",
                    "execution_count": 1,
                    "data": {
                        "application/vnd.dataresource+json": {
                            "schema": {
                                "fields": [
                                    {
                                        "name": "name"
                                    },
                                    {
                                        "name": "minimum"
                                    },
                                    {
                                        "name": "maximum"
                                    },
                                    {
                                        "name": "config_value"
                                    },
                                    {
                                        "name": "run_value"
                                    }
                                ]
                            },
                            "data": [
                                {
                                    "0": "allow polybase export",
                                    "1": "0",
                                    "2": "1",
                                    "3": "0",
                                    "4": "0"
                                },
                                {
                                    "0": "allow updates",
                                    "1": "0",
                                    "2": "1",
                                    "3": "0",
                                    "4": "0"
                                },
                                {
                                    "0": "backup checksum default",
                                    "1": "0",
                                    "2": "1",
                                    "3": "0",
                                    "4": "0"
                                },
                                {
                                    "0": "backup compression default",
                                    "1": "0",
                                    "2": "1",
                                    "3": "0",
                                    "4": "0"
                                },
                                {
                                    "0": "clr enabled",
                                    "1": "0",
                                    "2": "1",
                                    "3": "1",
                                    "4": "1"
                                },
                                {
                                    "0": "column encryption enclave type",
                                    "1": "0",
                                    "2": "1",
                                    "3": "0",
                                    "4": "0"
                                },
                                {
                                    "0": "contained database authentication",
                                    "1": "0",
                                    "2": "1",
                                    "3": "0",
                                    "4": "0"
                                },
                                {
                                    "0": "cross db ownership chaining",
                                    "1": "0",
                                    "2": "1",
                                    "3": "0",
                                    "4": "0"
                                },
                                {
                                    "0": "default language",
                                    "1": "0",
                                    "2": "9999",
                                    "3": "0",
                                    "4": "0"
                                },
                                {
                                    "0": "external scripts enabled",
                                    "1": "0",
                                    "2": "1",
                                    "3": "0",
                                    "4": "0"
                                },
                                {
                                    "0": "filestream access level",
                                    "1": "0",
                                    "2": "2",
                                    "3": "0",
                                    "4": "0"
                                },
                                {
                                    "0": "hadoop connectivity",
                                    "1": "0",
                                    "2": "7",
                                    "3": "7",
                                    "4": "7"
                                },
                                {
                                    "0": "max text repl size (B)",
                                    "1": "-1",
                                    "2": "2147483647",
                                    "3": "65536",
                                    "4": "65536"
                                },
                                {
                                    "0": "nested triggers",
                                    "1": "0",
                                    "2": "1",
                                    "3": "1",
                                    "4": "1"
                                },
                                {
                                    "0": "polybase enabled",
                                    "1": "0",
                                    "2": "1",
                                    "3": "1",
                                    "4": "1"
                                },
                                {
                                    "0": "polybase network encryption",
                                    "1": "0",
                                    "2": "1",
                                    "3": "0",
                                    "4": "0"
                                },
                                {
                                    "0": "remote access",
                                    "1": "0",
                                    "2": "1",
                                    "3": "1",
                                    "4": "1"
                                },
                                {
                                    "0": "remote admin connections",
                                    "1": "0",
                                    "2": "1",
                                    "3": "0",
                                    "4": "0"
                                },
                                {
                                    "0": "remote data archive",
                                    "1": "0",
                                    "2": "1",
                                    "3": "0",
                                    "4": "0"
                                },
                                {
                                    "0": "remote login timeout (s)",
                                    "1": "0",
                                    "2": "2147483647",
                                    "3": "10",
                                    "4": "10"
                                },
                                {
                                    "0": "remote proc trans",
                                    "1": "0",
                                    "2": "1",
                                    "3": "0",
                                    "4": "0"
                                },
                                {
                                    "0": "remote query timeout (s)",
                                    "1": "0",
                                    "2": "2147483647",
                                    "3": "600",
                                    "4": "600"
                                },
                                {
                                    "0": "server trigger recursion",
                                    "1": "0",
                                    "2": "1",
                                    "3": "1",
                                    "4": "1"
                                },
                                {
                                    "0": "show advanced options",
                                    "1": "0",
                                    "2": "1",
                                    "3": "0",
                                    "4": "0"
                                },
                                {
                                    "0": "user options",
                                    "1": "0",
                                    "2": "32767",
                                    "3": "0",
                                    "4": "0"
                                }
                            ]
                        },
                        "text/html": "<table><tr><th>name</th><th>minimum</th><th>maximum</th><th>config_value</th><th>run_value</th></tr><tr><td>allow polybase export</td><td>0</td><td>1</td><td>0</td><td>0</td></tr><tr><td>allow updates</td><td>0</td><td>1</td><td>0</td><td>0</td></tr><tr><td>backup checksum default</td><td>0</td><td>1</td><td>0</td><td>0</td></tr><tr><td>backup compression default</td><td>0</td><td>1</td><td>0</td><td>0</td></tr><tr><td>clr enabled</td><td>0</td><td>1</td><td>1</td><td>1</td></tr><tr><td>column encryption enclave type</td><td>0</td><td>1</td><td>0</td><td>0</td></tr><tr><td>contained database authentication</td><td>0</td><td>1</td><td>0</td><td>0</td></tr><tr><td>cross db ownership chaining</td><td>0</td><td>1</td><td>0</td><td>0</td></tr><tr><td>default language</td><td>0</td><td>9999</td><td>0</td><td>0</td></tr><tr><td>external scripts enabled</td><td>0</td><td>1</td><td>0</td><td>0</td></tr><tr><td>filestream access level</td><td>0</td><td>2</td><td>0</td><td>0</td></tr><tr><td>hadoop connectivity</td><td>0</td><td>7</td><td>7</td><td>7</td></tr><tr><td>max text repl size (B)</td><td>-1</td><td>2147483647</td><td>65536</td><td>65536</td></tr><tr><td>nested triggers</td><td>0</td><td>1</td><td>1</td><td>1</td></tr><tr><td>polybase enabled</td><td>0</td><td>1</td><td>1</td><td>1</td></tr><tr><td>polybase network encryption</td><td>0</td><td>1</td><td>0</td><td>0</td></tr><tr><td>remote access</td><td>0</td><td>1</td><td>1</td><td>1</td></tr><tr><td>remote admin connections</td><td>0</td><td>1</td><td>0</td><td>0</td></tr><tr><td>remote data archive</td><td>0</td><td>1</td><td>0</td><td>0</td></tr><tr><td>remote login timeout (s)</td><td>0</td><td>2147483647</td><td>10</td><td>10</td></tr><tr><td>remote proc trans</td><td>0</td><td>1</td><td>0</td><td>0</td></tr><tr><td>remote query timeout (s)</td><td>0</td><td>2147483647</td><td>600</td><td>600</td></tr><tr><td>server trigger recursion</td><td>0</td><td>1</td><td>1</td><td>1</td></tr><tr><td>show advanced options</td><td>0</td><td>1</td><td>0</td><td>0</td></tr><tr><td>user options</td><td>0</td><td>32767</td><td>0</td><td>0</td></tr></table>"
                    },
                    "metadata": {}
                },
                {
                    "output_type": "execute_result",
                    "execution_count": 1,
                    "data": {
                        "application/vnd.dataresource+json": {
                            "schema": {
                                "fields": [
                                    {
                                        "name": "Database Name"
                                    },
                                    {
                                        "name": "Location on Disk"
                                    },
                                    {
                                        "name": "Size (GB)"
                                    }
                                ]
                            },
                            "data": [
                                {
                                    "0": "master",
                                    "1": "/var/opt/mssql/data/master.mdf",
                                    "2": "0.00"
                                },
                                {
                                    "0": "tempdb",
                                    "1": "/var/opt/mssql/data/tempdb.mdf",
                                    "2": "0.01"
                                },
                                {
                                    "0": "model",
                                    "1": "/var/opt/mssql/data/model.mdf",
                                    "2": "0.01"
                                },
                                {
                                    "0": "msdb",
                                    "1": "/var/opt/mssql/data/MSDBData.mdf",
                                    "2": "0.01"
                                },
                                {
                                    "0": "DWDiagnostics",
                                    "1": "/var/opt/mssql/data/DWDiagnostics.mdf",
                                    "2": "0.50"
                                },
                                {
                                    "0": "DWConfiguration",
                                    "1": "/var/opt/mssql/data/DWConfiguration.mdf",
                                    "2": "0.01"
                                },
                                {
                                    "0": "DWQueue",
                                    "1": "/var/opt/mssql/data/DWQueue.mdf",
                                    "2": "0.01"
                                }
                            ]
                        },
                        "text/html": "<table><tr><th>Database Name</th><th>Location on Disk</th><th>Size (GB)</th></tr><tr><td>master</td><td>/var/opt/mssql/data/master.mdf</td><td>0.00</td></tr><tr><td>tempdb</td><td>/var/opt/mssql/data/tempdb.mdf</td><td>0.01</td></tr><tr><td>model</td><td>/var/opt/mssql/data/model.mdf</td><td>0.01</td></tr><tr><td>msdb</td><td>/var/opt/mssql/data/MSDBData.mdf</td><td>0.01</td></tr><tr><td>DWDiagnostics</td><td>/var/opt/mssql/data/DWDiagnostics.mdf</td><td>0.50</td></tr><tr><td>DWConfiguration</td><td>/var/opt/mssql/data/DWConfiguration.mdf</td><td>0.01</td></tr><tr><td>DWQueue</td><td>/var/opt/mssql/data/DWQueue.mdf</td><td>0.01</td></tr></table>"
                    },
                    "metadata": {}
                },
                {
                    "output_type": "execute_result",
                    "execution_count": 1,
                    "data": {
                        "application/vnd.dataresource+json": {
                            "schema": {
                                "fields": [
                                    {
                                        "name": "database_id"
                                    },
                                    {
                                        "name": "file_id"
                                    },
                                    {
                                        "name": "file_guid"
                                    },
                                    {
                                        "name": "type"
                                    },
                                    {
                                        "name": "type_desc"
                                    },
                                    {
                                        "name": "data_space_id"
                                    },
                                    {
                                        "name": "name"
                                    },
                                    {
                                        "name": "physical_name"
                                    },
                                    {
                                        "name": "state"
                                    },
                                    {
                                        "name": "state_desc"
                                    },
                                    {
                                        "name": "size"
                                    },
                                    {
                                        "name": "max_size"
                                    },
                                    {
                                        "name": "growth"
                                    },
                                    {
                                        "name": "is_media_read_only"
                                    },
                                    {
                                        "name": "is_read_only"
                                    },
                                    {
                                        "name": "is_sparse"
                                    },
                                    {
                                        "name": "is_percent_growth"
                                    },
                                    {
                                        "name": "is_name_reserved"
                                    },
                                    {
                                        "name": "is_persistent_log_buffer"
                                    },
                                    {
                                        "name": "create_lsn"
                                    },
                                    {
                                        "name": "drop_lsn"
                                    },
                                    {
                                        "name": "read_only_lsn"
                                    },
                                    {
                                        "name": "read_write_lsn"
                                    },
                                    {
                                        "name": "differential_base_lsn"
                                    },
                                    {
                                        "name": "differential_base_guid"
                                    },
                                    {
                                        "name": "differential_base_time"
                                    },
                                    {
                                        "name": "redo_start_lsn"
                                    },
                                    {
                                        "name": "redo_start_fork_guid"
                                    },
                                    {
                                        "name": "redo_target_lsn"
                                    },
                                    {
                                        "name": "redo_target_fork_guid"
                                    },
                                    {
                                        "name": "backup_lsn"
                                    },
                                    {
                                        "name": "credential_id"
                                    }
                                ]
                            },
                            "data": [
                                {
                                    "0": "1",
                                    "1": "1",
                                    "2": "NULL",
                                    "3": "0",
                                    "4": "ROWS",
                                    "5": "1",
                                    "6": "master",
                                    "7": "/var/opt/mssql/data/master.mdf",
                                    "8": "0",
                                    "9": "ONLINE",
                                    "10": "512",
                                    "11": "-1",
                                    "12": "10",
                                    "13": "0",
                                    "14": "0",
                                    "15": "0",
                                    "16": "1",
                                    "17": "0",
                                    "18": "0",
                                    "19": "NULL",
                                    "20": "NULL",
                                    "21": "NULL",
                                    "22": "NULL",
                                    "23": "NULL",
                                    "24": "NULL",
                                    "25": "NULL",
                                    "26": "NULL",
                                    "27": "NULL",
                                    "28": "NULL",
                                    "29": "NULL",
                                    "30": "NULL",
                                    "31": "NULL"
                                },
                                {
                                    "0": "1",
                                    "1": "2",
                                    "2": "NULL",
                                    "3": "1",
                                    "4": "LOG",
                                    "5": "0",
                                    "6": "mastlog",
                                    "7": "/var/opt/mssql/data/mastlog.ldf",
                                    "8": "0",
                                    "9": "ONLINE",
                                    "10": "256",
                                    "11": "-1",
                                    "12": "10",
                                    "13": "0",
                                    "14": "0",
                                    "15": "0",
                                    "16": "1",
                                    "17": "0",
                                    "18": "0",
                                    "19": "NULL",
                                    "20": "NULL",
                                    "21": "NULL",
                                    "22": "NULL",
                                    "23": "NULL",
                                    "24": "NULL",
                                    "25": "NULL",
                                    "26": "NULL",
                                    "27": "NULL",
                                    "28": "NULL",
                                    "29": "NULL",
                                    "30": "NULL",
                                    "31": "NULL"
                                },
                                {
                                    "0": "2",
                                    "1": "1",
                                    "2": "NULL",
                                    "3": "0",
                                    "4": "ROWS",
                                    "5": "1",
                                    "6": "tempdev",
                                    "7": "/var/opt/mssql/data/tempdb.mdf",
                                    "8": "0",
                                    "9": "ONLINE",
                                    "10": "1024",
                                    "11": "-1",
                                    "12": "8192",
                                    "13": "0",
                                    "14": "0",
                                    "15": "0",
                                    "16": "0",
                                    "17": "0",
                                    "18": "0",
                                    "19": "NULL",
                                    "20": "NULL",
                                    "21": "NULL",
                                    "22": "NULL",
                                    "23": "NULL",
                                    "24": "NULL",
                                    "25": "NULL",
                                    "26": "NULL",
                                    "27": "NULL",
                                    "28": "NULL",
                                    "29": "NULL",
                                    "30": "NULL",
                                    "31": "NULL"
                                },
                                {
                                    "0": "2",
                                    "1": "2",
                                    "2": "NULL",
                                    "3": "1",
                                    "4": "LOG",
                                    "5": "0",
                                    "6": "templog",
                                    "7": "/var/opt/mssql/data/templog.ldf",
                                    "8": "0",
                                    "9": "ONLINE",
                                    "10": "1024",
                                    "11": "-1",
                                    "12": "8192",
                                    "13": "0",
                                    "14": "0",
                                    "15": "0",
                                    "16": "0",
                                    "17": "0",
                                    "18": "0",
                                    "19": "NULL",
                                    "20": "NULL",
                                    "21": "NULL",
                                    "22": "NULL",
                                    "23": "NULL",
                                    "24": "NULL",
                                    "25": "NULL",
                                    "26": "NULL",
                                    "27": "NULL",
                                    "28": "NULL",
                                    "29": "NULL",
                                    "30": "NULL",
                                    "31": "NULL"
                                },
                                {
                                    "0": "3",
                                    "1": "1",
                                    "2": "NULL",
                                    "3": "0",
                                    "4": "ROWS",
                                    "5": "1",
                                    "6": "modeldev",
                                    "7": "/var/opt/mssql/data/model.mdf",
                                    "8": "0",
                                    "9": "ONLINE",
                                    "10": "1024",
                                    "11": "-1",
                                    "12": "8192",
                                    "13": "0",
                                    "14": "0",
                                    "15": "0",
                                    "16": "0",
                                    "17": "0",
                                    "18": "0",
                                    "19": "NULL",
                                    "20": "NULL",
                                    "21": "NULL",
                                    "22": "NULL",
                                    "23": "NULL",
                                    "24": "NULL",
                                    "25": "NULL",
                                    "26": "NULL",
                                    "27": "NULL",
                                    "28": "NULL",
                                    "29": "NULL",
                                    "30": "NULL",
                                    "31": "NULL"
                                },
                                {
                                    "0": "3",
                                    "1": "2",
                                    "2": "NULL",
                                    "3": "1",
                                    "4": "LOG",
                                    "5": "0",
                                    "6": "modellog",
                                    "7": "/var/opt/mssql/data/modellog.ldf",
                                    "8": "0",
                                    "9": "ONLINE",
                                    "10": "1024",
                                    "11": "-1",
                                    "12": "8192",
                                    "13": "0",
                                    "14": "0",
                                    "15": "0",
                                    "16": "0",
                                    "17": "0",
                                    "18": "0",
                                    "19": "NULL",
                                    "20": "NULL",
                                    "21": "NULL",
                                    "22": "NULL",
                                    "23": "NULL",
                                    "24": "NULL",
                                    "25": "NULL",
                                    "26": "NULL",
                                    "27": "NULL",
                                    "28": "NULL",
                                    "29": "NULL",
                                    "30": "NULL",
                                    "31": "NULL"
                                },
                                {
                                    "0": "4",
                                    "1": "1",
                                    "2": "8fcf842e-a342-414e-a894-f45196a9db85",
                                    "3": "0",
                                    "4": "ROWS",
                                    "5": "1",
                                    "6": "MSDBData",
                                    "7": "/var/opt/mssql/data/MSDBData.mdf",
                                    "8": "0",
                                    "9": "ONLINE",
                                    "10": "1712",
                                    "11": "-1",
                                    "12": "10",
                                    "13": "0",
                                    "14": "0",
                                    "15": "0",
                                    "16": "1",
                                    "17": "0",
                                    "18": "0",
                                    "19": "NULL",
                                    "20": "NULL",
                                    "21": "NULL",
                                    "22": "NULL",
                                    "23": "NULL",
                                    "24": "NULL",
                                    "25": "NULL",
                                    "26": "NULL",
                                    "27": "NULL",
                                    "28": "NULL",
                                    "29": "NULL",
                                    "30": "NULL",
                                    "31": "NULL"
                                },
                                {
                                    "0": "4",
                                    "1": "2",
                                    "2": "2f169600-e65f-41b4-b9f0-348866a58fe8",
                                    "3": "1",
                                    "4": "LOG",
                                    "5": "0",
                                    "6": "MSDBLog",
                                    "7": "/var/opt/mssql/data/MSDBLog.ldf",
                                    "8": "0",
                                    "9": "ONLINE",
                                    "10": "64",
                                    "11": "268435456",
                                    "12": "10",
                                    "13": "0",
                                    "14": "0",
                                    "15": "0",
                                    "16": "1",
                                    "17": "0",
                                    "18": "0",
                                    "19": "NULL",
                                    "20": "NULL",
                                    "21": "NULL",
                                    "22": "NULL",
                                    "23": "NULL",
                                    "24": "NULL",
                                    "25": "NULL",
                                    "26": "NULL",
                                    "27": "NULL",
                                    "28": "NULL",
                                    "29": "NULL",
                                    "30": "NULL",
                                    "31": "NULL"
                                },
                                {
                                    "0": "5",
                                    "1": "1",
                                    "2": "bd6a15ac-29cf-40ed-ab8b-0f4617f5b39b",
                                    "3": "0",
                                    "4": "ROWS",
                                    "5": "1",
                                    "6": "DWDiagnostics",
                                    "7": "/var/opt/mssql/data/DWDiagnostics.mdf",
                                    "8": "0",
                                    "9": "ONLINE",
                                    "10": "64000",
                                    "11": "256000",
                                    "12": "8192",
                                    "13": "0",
                                    "14": "0",
                                    "15": "0",
                                    "16": "0",
                                    "17": "0",
                                    "18": "0",
                                    "19": "NULL",
                                    "20": "NULL",
                                    "21": "NULL",
                                    "22": "NULL",
                                    "23": "NULL",
                                    "24": "NULL",
                                    "25": "NULL",
                                    "26": "NULL",
                                    "27": "NULL",
                                    "28": "NULL",
                                    "29": "NULL",
                                    "30": "NULL",
                                    "31": "NULL"
                                },
                                {
                                    "0": "5",
                                    "1": "2",
                                    "2": "0a35d259-b590-4338-9ebe-04b814c522f4",
                                    "3": "1",
                                    "4": "LOG",
                                    "5": "0",
                                    "6": "DWDiagnostics_log",
                                    "7": "/var/opt/mssql/data/DWDiagnostics_log.ldf",
                                    "8": "0",
                                    "9": "ONLINE",
                                    "10": "9216",
                                    "11": "268435456",
                                    "12": "8192",
                                    "13": "0",
                                    "14": "0",
                                    "15": "0",
                                    "16": "0",
                                    "17": "0",
                                    "18": "0",
                                    "19": "NULL",
                                    "20": "NULL",
                                    "21": "NULL",
                                    "22": "NULL",
                                    "23": "NULL",
                                    "24": "NULL",
                                    "25": "NULL",
                                    "26": "NULL",
                                    "27": "NULL",
                                    "28": "NULL",
                                    "29": "NULL",
                                    "30": "NULL",
                                    "31": "NULL"
                                },
                                {
                                    "0": "6",
                                    "1": "1",
                                    "2": "102c6552-92f3-483f-afd2-806c2b0147d4",
                                    "3": "0",
                                    "4": "ROWS",
                                    "5": "1",
                                    "6": "DWConfiguration",
                                    "7": "/var/opt/mssql/data/DWConfiguration.mdf",
                                    "8": "0",
                                    "9": "ONLINE",
                                    "10": "1024",
                                    "11": "-1",
                                    "12": "8192",
                                    "13": "0",
                                    "14": "0",
                                    "15": "0",
                                    "16": "0",
                                    "17": "0",
                                    "18": "0",
                                    "19": "NULL",
                                    "20": "NULL",
                                    "21": "NULL",
                                    "22": "NULL",
                                    "23": "NULL",
                                    "24": "NULL",
                                    "25": "NULL",
                                    "26": "NULL",
                                    "27": "NULL",
                                    "28": "NULL",
                                    "29": "NULL",
                                    "30": "NULL",
                                    "31": "NULL"
                                },
                                {
                                    "0": "6",
                                    "1": "2",
                                    "2": "85c7f32d-c686-4adb-a631-bd9ab5d5493b",
                                    "3": "1",
                                    "4": "LOG",
                                    "5": "0",
                                    "6": "DWConfiguration_log",
                                    "7": "/var/opt/mssql/data/DWConfiguration_log.ldf",
                                    "8": "0",
                                    "9": "ONLINE",
                                    "10": "1024",
                                    "11": "268435456",
                                    "12": "8192",
                                    "13": "0",
                                    "14": "0",
                                    "15": "0",
                                    "16": "0",
                                    "17": "0",
                                    "18": "0",
                                    "19": "NULL",
                                    "20": "NULL",
                                    "21": "NULL",
                                    "22": "NULL",
                                    "23": "NULL",
                                    "24": "NULL",
                                    "25": "NULL",
                                    "26": "NULL",
                                    "27": "NULL",
                                    "28": "NULL",
                                    "29": "NULL",
                                    "30": "NULL",
                                    "31": "NULL"
                                },
                                {
                                    "0": "7",
                                    "1": "1",
                                    "2": "c3a66027-97db-45d1-a755-14c74ee47a65",
                                    "3": "0",
                                    "4": "ROWS",
                                    "5": "1",
                                    "6": "DWQueue",
                                    "7": "/var/opt/mssql/data/DWQueue.mdf",
                                    "8": "0",
                                    "9": "ONLINE",
                                    "10": "1024",
                                    "11": "-1",
                                    "12": "8192",
                                    "13": "0",
                                    "14": "0",
                                    "15": "0",
                                    "16": "0",
                                    "17": "0",
                                    "18": "0",
                                    "19": "NULL",
                                    "20": "NULL",
                                    "21": "NULL",
                                    "22": "NULL",
                                    "23": "NULL",
                                    "24": "NULL",
                                    "25": "NULL",
                                    "26": "NULL",
                                    "27": "NULL",
                                    "28": "NULL",
                                    "29": "NULL",
                                    "30": "NULL",
                                    "31": "NULL"
                                },
                                {
                                    "0": "7",
                                    "1": "2",
                                    "2": "a83e7399-6476-4e8a-9bd2-73cea36548fd",
                                    "3": "1",
                                    "4": "LOG",
                                    "5": "0",
                                    "6": "DWQueue_log",
                                    "7": "/var/opt/mssql/data/DWQueue_log.ldf",
                                    "8": "0",
                                    "9": "ONLINE",
                                    "10": "1024",
                                    "11": "268435456",
                                    "12": "8192",
                                    "13": "0",
                                    "14": "0",
                                    "15": "0",
                                    "16": "0",
                                    "17": "0",
                                    "18": "0",
                                    "19": "NULL",
                                    "20": "NULL",
                                    "21": "NULL",
                                    "22": "NULL",
                                    "23": "NULL",
                                    "24": "NULL",
                                    "25": "NULL",
                                    "26": "NULL",
                                    "27": "NULL",
                                    "28": "NULL",
                                    "29": "NULL",
                                    "30": "NULL",
                                    "31": "NULL"
                                }
                            ]
                        },
                        "text/html": "<table><tr><th>database_id</th><th>file_id</th><th>file_guid</th><th>type</th><th>type_desc</th><th>data_space_id</th><th>name</th><th>physical_name</th><th>state</th><th>state_desc</th><th>size</th><th>max_size</th><th>growth</th><th>is_media_read_only</th><th>is_read_only</th><th>is_sparse</th><th>is_percent_growth</th><th>is_name_reserved</th><th>is_persistent_log_buffer</th><th>create_lsn</th><th>drop_lsn</th><th>read_only_lsn</th><th>read_write_lsn</th><th>differential_base_lsn</th><th>differential_base_guid</th><th>differential_base_time</th><th>redo_start_lsn</th><th>redo_start_fork_guid</th><th>redo_target_lsn</th><th>redo_target_fork_guid</th><th>backup_lsn</th><th>credential_id</th></tr><tr><td>1</td><td>1</td><td>NULL</td><td>0</td><td>ROWS</td><td>1</td><td>master</td><td>/var/opt/mssql/data/master.mdf</td><td>0</td><td>ONLINE</td><td>512</td><td>-1</td><td>10</td><td>0</td><td>0</td><td>0</td><td>1</td><td>0</td><td>0</td><td>NULL</td><td>NULL</td><td>NULL</td><td>NULL</td><td>NULL</td><td>NULL</td><td>NULL</td><td>NULL</td><td>NULL</td><td>NULL</td><td>NULL</td><td>NULL</td><td>NULL</td></tr><tr><td>1</td><td>2</td><td>NULL</td><td>1</td><td>LOG</td><td>0</td><td>mastlog</td><td>/var/opt/mssql/data/mastlog.ldf</td><td>0</td><td>ONLINE</td><td>256</td><td>-1</td><td>10</td><td>0</td><td>0</td><td>0</td><td>1</td><td>0</td><td>0</td><td>NULL</td><td>NULL</td><td>NULL</td><td>NULL</td><td>NULL</td><td>NULL</td><td>NULL</td><td>NULL</td><td>NULL</td><td>NULL</td><td>NULL</td><td>NULL</td><td>NULL</td></tr><tr><td>2</td><td>1</td><td>NULL</td><td>0</td><td>ROWS</td><td>1</td><td>tempdev</td><td>/var/opt/mssql/data/tempdb.mdf</td><td>0</td><td>ONLINE</td><td>1024</td><td>-1</td><td>8192</td><td>0</td><td>0</td><td>0</td><td>0</td><td>0</td><td>0</td><td>NULL</td><td>NULL</td><td>NULL</td><td>NULL</td><td>NULL</td><td>NULL</td><td>NULL</td><td>NULL</td><td>NULL</td><td>NULL</td><td>NULL</td><td>NULL</td><td>NULL</td></tr><tr><td>2</td><td>2</td><td>NULL</td><td>1</td><td>LOG</td><td>0</td><td>templog</td><td>/var/opt/mssql/data/templog.ldf</td><td>0</td><td>ONLINE</td><td>1024</td><td>-1</td><td>8192</td><td>0</td><td>0</td><td>0</td><td>0</td><td>0</td><td>0</td><td>NULL</td><td>NULL</td><td>NULL</td><td>NULL</td><td>NULL</td><td>NULL</td><td>NULL</td><td>NULL</td><td>NULL</td><td>NULL</td><td>NULL</td><td>NULL</td><td>NULL</td></tr><tr><td>3</td><td>1</td><td>NULL</td><td>0</td><td>ROWS</td><td>1</td><td>modeldev</td><td>/var/opt/mssql/data/model.mdf</td><td>0</td><td>ONLINE</td><td>1024</td><td>-1</td><td>8192</td><td>0</td><td>0</td><td>0</td><td>0</td><td>0</td><td>0</td><td>NULL</td><td>NULL</td><td>NULL</td><td>NULL</td><td>NULL</td><td>NULL</td><td>NULL</td><td>NULL</td><td>NULL</td><td>NULL</td><td>NULL</td><td>NULL</td><td>NULL</td></tr><tr><td>3</td><td>2</td><td>NULL</td><td>1</td><td>LOG</td><td>0</td><td>modellog</td><td>/var/opt/mssql/data/modellog.ldf</td><td>0</td><td>ONLINE</td><td>1024</td><td>-1</td><td>8192</td><td>0</td><td>0</td><td>0</td><td>0</td><td>0</td><td>0</td><td>NULL</td><td>NULL</td><td>NULL</td><td>NULL</td><td>NULL</td><td>NULL</td><td>NULL</td><td>NULL</td><td>NULL</td><td>NULL</td><td>NULL</td><td>NULL</td><td>NULL</td></tr><tr><td>4</td><td>1</td><td>8fcf842e-a342-414e-a894-f45196a9db85</td><td>0</td><td>ROWS</td><td>1</td><td>MSDBData</td><td>/var/opt/mssql/data/MSDBData.mdf</td><td>0</td><td>ONLINE</td><td>1712</td><td>-1</td><td>10</td><td>0</td><td>0</td><td>0</td><td>1</td><td>0</td><td>0</td><td>NULL</td><td>NULL</td><td>NULL</td><td>NULL</td><td>NULL</td><td>NULL</td><td>NULL</td><td>NULL</td><td>NULL</td><td>NULL</td><td>NULL</td><td>NULL</td><td>NULL</td></tr><tr><td>4</td><td>2</td><td>2f169600-e65f-41b4-b9f0-348866a58fe8</td><td>1</td><td>LOG</td><td>0</td><td>MSDBLog</td><td>/var/opt/mssql/data/MSDBLog.ldf</td><td>0</td><td>ONLINE</td><td>64</td><td>268435456</td><td>10</td><td>0</td><td>0</td><td>0</td><td>1</td><td>0</td><td>0</td><td>NULL</td><td>NULL</td><td>NULL</td><td>NULL</td><td>NULL</td><td>NULL</td><td>NULL</td><td>NULL</td><td>NULL</td><td>NULL</td><td>NULL</td><td>NULL</td><td>NULL</td></tr><tr><td>5</td><td>1</td><td>bd6a15ac-29cf-40ed-ab8b-0f4617f5b39b</td><td>0</td><td>ROWS</td><td>1</td><td>DWDiagnostics</td><td>/var/opt/mssql/data/DWDiagnostics.mdf</td><td>0</td><td>ONLINE</td><td>64000</td><td>256000</td><td>8192</td><td>0</td><td>0</td><td>0</td><td>0</td><td>0</td><td>0</td><td>NULL</td><td>NULL</td><td>NULL</td><td>NULL</td><td>NULL</td><td>NULL</td><td>NULL</td><td>NULL</td><td>NULL</td><td>NULL</td><td>NULL</td><td>NULL</td><td>NULL</td></tr><tr><td>5</td><td>2</td><td>0a35d259-b590-4338-9ebe-04b814c522f4</td><td>1</td><td>LOG</td><td>0</td><td>DWDiagnostics_log</td><td>/var/opt/mssql/data/DWDiagnostics_log.ldf</td><td>0</td><td>ONLINE</td><td>9216</td><td>268435456</td><td>8192</td><td>0</td><td>0</td><td>0</td><td>0</td><td>0</td><td>0</td><td>NULL</td><td>NULL</td><td>NULL</td><td>NULL</td><td>NULL</td><td>NULL</td><td>NULL</td><td>NULL</td><td>NULL</td><td>NULL</td><td>NULL</td><td>NULL</td><td>NULL</td></tr><tr><td>6</td><td>1</td><td>102c6552-92f3-483f-afd2-806c2b0147d4</td><td>0</td><td>ROWS</td><td>1</td><td>DWConfiguration</td><td>/var/opt/mssql/data/DWConfiguration.mdf</td><td>0</td><td>ONLINE</td><td>1024</td><td>-1</td><td>8192</td><td>0</td><td>0</td><td>0</td><td>0</td><td>0</td><td>0</td><td>NULL</td><td>NULL</td><td>NULL</td><td>NULL</td><td>NULL</td><td>NULL</td><td>NULL</td><td>NULL</td><td>NULL</td><td>NULL</td><td>NULL</td><td>NULL</td><td>NULL</td></tr><tr><td>6</td><td>2</td><td>85c7f32d-c686-4adb-a631-bd9ab5d5493b</td><td>1</td><td>LOG</td><td>0</td><td>DWConfiguration_log</td><td>/var/opt/mssql/data/DWConfiguration_log.ldf</td><td>0</td><td>ONLINE</td><td>1024</td><td>268435456</td><td>8192</td><td>0</td><td>0</td><td>0</td><td>0</td><td>0</td><td>0</td><td>NULL</td><td>NULL</td><td>NULL</td><td>NULL</td><td>NULL</td><td>NULL</td><td>NULL</td><td>NULL</td><td>NULL</td><td>NULL</td><td>NULL</td><td>NULL</td><td>NULL</td></tr><tr><td>7</td><td>1</td><td>c3a66027-97db-45d1-a755-14c74ee47a65</td><td>0</td><td>ROWS</td><td>1</td><td>DWQueue</td><td>/var/opt/mssql/data/DWQueue.mdf</td><td>0</td><td>ONLINE</td><td>1024</td><td>-1</td><td>8192</td><td>0</td><td>0</td><td>0</td><td>0</td><td>0</td><td>0</td><td>NULL</td><td>NULL</td><td>NULL</td><td>NULL</td><td>NULL</td><td>NULL</td><td>NULL</td><td>NULL</td><td>NULL</td><td>NULL</td><td>NULL</td><td>NULL</td><td>NULL</td></tr><tr><td>7</td><td>2</td><td>a83e7399-6476-4e8a-9bd2-73cea36548fd</td><td>1</td><td>LOG</td><td>0</td><td>DWQueue_log</td><td>/var/opt/mssql/data/DWQueue_log.ldf</td><td>0</td><td>ONLINE</td><td>1024</td><td>268435456</td><td>8192</td><td>0</td><td>0</td><td>0</td><td>0</td><td>0</td><td>0</td><td>NULL</td><td>NULL</td><td>NULL</td><td>NULL</td><td>NULL</td><td>NULL</td><td>NULL</td><td>NULL</td><td>NULL</td><td>NULL</td><td>NULL</td><td>NULL</td><td>NULL</td></tr></table>"
                    },
                    "metadata": {}
                }
            ],
            "execution_count": 1
        },
        {
            "cell_type": "markdown",
            "source": "## Ingest data into the SQL Server Databases\r\n\r\nBefore we start working with data, we need to bring it in to the system. We have several options to do that, from the `bcp` utility to SQL Server Integration Services, the Azure Data Factory and more. \r\n\r\nFor the structured data, we'll use the SQL Server `RESTORE` command to bring in two databases from the location we specified earlier with the `kubectl` command.\r\n\r\nThe Code below shows all of that: ",
            "metadata": {}
        },
        {
            "cell_type": "code",
            "source": "/* Add the Customer Databases for Wide World Importers */\r\nUSE [master]\r\nRESTORE DATABASE [WideWorldImporters] \r\nFROM  DISK = N'/var/opt/mssql/data/WWI.bak' \r\nWITH  FILE = 1\r\n,  REPLACE\r\n,  MOVE N'WWI_Primary' TO N'/var/opt/mssql/data/WideWorldImporters.mdf'\r\n,  MOVE N'WWI_UserData' TO N'/var/opt/mssql/data/WideWorldImporters_UserData.ndf'\r\n,  MOVE N'WWI_Log' TO N'/var/opt/mssql/data/WideWorldImporters.ldf'\r\n,  MOVE N'WWI_InMemory_Data_1' TO N'/var/opt/mssql/data/WideWorldImporters_InMemory_Data_1'\r\n,  NOUNLOAD,  STATS = 5;\r\nGO\r\n",
            "metadata": {},
            "outputs": [
                {
                    "output_type": "error",
                    "ename": "",
                    "evalue": "Msg 3101, Level 16, State 1, Line 3\r\nExclusive access could not be obtained because the database is in use.",
                    "traceback": []
                },
                {
                    "output_type": "error",
                    "ename": "",
                    "evalue": "Msg 3013, Level 16, State 1, Line 3\r\nRESTORE DATABASE is terminating abnormally.",
                    "traceback": []
                },
                {
                    "output_type": "display_data",
                    "data": {
                        "text/html": "Total execution time: 00:00:20.3496739"
                    },
                    "metadata": {}
                }
            ],
            "execution_count": 1
        },
        {
            "cell_type": "markdown",
            "source": "## Query Data\r\n\r\nThe SQL Server 2019 big data cluster Master Instance is a SQL Server Instance - and as such has most all of the query facilities and capabilities of Microsoft SQL Server running on Linux.\r\n\r\n**TODO:** Run some standard queries. Investigate simple ML.",
            "metadata": {}
        },
        {
            "cell_type": "code",
            "source": "/* Get some general information about the data in the WWI OLTP system */\r\nUSE WideWorldImporters;\r\nGO\r\n\r\n/* Show the Populations. \r\nWhere do we have the most people?\r\n */\r\nSELECT TOP 10 CityName as 'City Name'\r\n, StateProvinceName as 'State or Province'\r\n, sp.LatestRecordedPopulation as 'Population'\r\n, CountryName\r\nFROM Application.Cities AS city\r\nJOIN Application.StateProvinces AS sp on\r\n    city.StateProvinceID = sp.StateProvinceID\r\nJOIN Application.Countries AS ctry on \r\n    sp.CountryID=ctry.CountryID\r\n",
            "metadata": {},
            "outputs": [
                {
                    "output_type": "display_data",
                    "data": {
                        "text/html": "Commands completed successfully."
                    },
                    "metadata": {}
                },
                {
                    "output_type": "display_data",
                    "data": {
                        "text/html": "Total execution time: 00:00:00.0041862"
                    },
                    "metadata": {}
                },
                {
                    "output_type": "display_data",
                    "data": {
                        "text/html": "(10 rows affected)"
                    },
                    "metadata": {}
                },
                {
                    "output_type": "display_data",
                    "data": {
                        "text/html": "Total execution time: 00:00:00.4554272"
                    },
                    "metadata": {}
                },
                {
                    "output_type": "execute_result",
                    "execution_count": 3,
                    "data": {
                        "application/vnd.dataresource+json": {
                            "schema": {
                                "fields": [
                                    {
                                        "name": "City Name"
                                    },
                                    {
                                        "name": "State or Province"
                                    },
                                    {
                                        "name": "Population"
                                    },
                                    {
                                        "name": "CountryName"
                                    }
                                ]
                            },
                            "data": [
                                {
                                    "0": "Addison",
                                    "1": "Michigan",
                                    "2": "9895622",
                                    "3": "United States"
                                },
                                {
                                    "0": "Adrian",
                                    "1": "Michigan",
                                    "2": "9895622",
                                    "3": "United States"
                                },
                                {
                                    "0": "Advance",
                                    "1": "Michigan",
                                    "2": "9895622",
                                    "3": "United States"
                                },
                                {
                                    "0": "Ahmeek",
                                    "1": "Michigan",
                                    "2": "9895622",
                                    "3": "United States"
                                },
                                {
                                    "0": "Akron",
                                    "1": "Michigan",
                                    "2": "9895622",
                                    "3": "United States"
                                },
                                {
                                    "0": "Alabaster",
                                    "1": "Michigan",
                                    "2": "9895622",
                                    "3": "United States"
                                },
                                {
                                    "0": "Alanson",
                                    "1": "Michigan",
                                    "2": "9895622",
                                    "3": "United States"
                                },
                                {
                                    "0": "Alba",
                                    "1": "Michigan",
                                    "2": "9895622",
                                    "3": "United States"
                                },
                                {
                                    "0": "Albion",
                                    "1": "Michigan",
                                    "2": "9895622",
                                    "3": "United States"
                                },
                                {
                                    "0": "Alden",
                                    "1": "Michigan",
                                    "2": "9895622",
                                    "3": "United States"
                                }
                            ]
                        },
                        "text/html": "<table><tr><th>City Name</th><th>State or Province</th><th>Population</th><th>CountryName</th></tr><tr><td>Addison</td><td>Michigan</td><td>9895622</td><td>United States</td></tr><tr><td>Adrian</td><td>Michigan</td><td>9895622</td><td>United States</td></tr><tr><td>Advance</td><td>Michigan</td><td>9895622</td><td>United States</td></tr><tr><td>Ahmeek</td><td>Michigan</td><td>9895622</td><td>United States</td></tr><tr><td>Akron</td><td>Michigan</td><td>9895622</td><td>United States</td></tr><tr><td>Alabaster</td><td>Michigan</td><td>9895622</td><td>United States</td></tr><tr><td>Alanson</td><td>Michigan</td><td>9895622</td><td>United States</td></tr><tr><td>Alba</td><td>Michigan</td><td>9895622</td><td>United States</td></tr><tr><td>Albion</td><td>Michigan</td><td>9895622</td><td>United States</td></tr><tr><td>Alden</td><td>Michigan</td><td>9895622</td><td>United States</td></tr></table>"
                    },
                    "metadata": {}
                }
            ],
            "execution_count": 3
        },
        {
            "cell_type": "code",
            "source": "/* Show Customer Sales in WWI OLTP\r\nWhere do we have the most customers?\r\n*/\r\nUSE WideWorldImporters;\r\nGO\r\n\r\nSELECT TOP 10 s.CustomerID\r\n, s.CustomerName\r\n, sc.CustomerCategoryName\r\n,  pp.FullName AS PrimaryContact\r\n,  ap.FullName AS AlternateContact\r\n,  s.PhoneNumber\r\n,  s.FaxNumber\r\n,  bg.BuyingGroupName\r\n,  s.WebsiteURL\r\n,  dm.DeliveryMethodName AS DeliveryMethod\r\n,  c.CityName AS CityName\r\n,  s.DeliveryLocation AS DeliveryLocation\r\n,  s.DeliveryRun\r\n,  s.RunPosition\r\nFROM Sales.Customers AS s\r\n    LEFT OUTER JOIN Sales.CustomerCategories AS sc\r\n    ON s.CustomerCategoryID = sc.CustomerCategoryID\r\n    LEFT OUTER JOIN [Application].People AS pp\r\n    ON s.PrimaryContactPersonID = pp.PersonID\r\n    LEFT OUTER JOIN [Application].People AS ap\r\n    ON s.AlternateContactPersonID = ap.PersonID\r\n    LEFT OUTER JOIN Sales.BuyingGroups AS bg\r\n    ON s.BuyingGroupID = bg.BuyingGroupID\r\n    LEFT OUTER JOIN [Application].DeliveryMethods AS dm\r\n    ON s.DeliveryMethodID = dm.DeliveryMethodID\r\n    LEFT OUTER JOIN [Application].Cities AS c\r\n    ON s.DeliveryCityID = c.CityID",
            "metadata": {},
            "outputs": [
                {
                    "output_type": "display_data",
                    "data": {
                        "text/html": "Commands completed successfully."
                    },
                    "metadata": {}
                },
                {
                    "output_type": "display_data",
                    "data": {
                        "text/html": "Total execution time: 00:00:00.0043681"
                    },
                    "metadata": {}
                },
                {
                    "output_type": "display_data",
                    "data": {
                        "text/html": "(10 rows affected)"
                    },
                    "metadata": {}
                },
                {
                    "output_type": "display_data",
                    "data": {
                        "text/html": "Total execution time: 00:00:00.8590423"
                    },
                    "metadata": {}
                },
                {
                    "output_type": "execute_result",
                    "execution_count": 4,
                    "data": {
                        "application/vnd.dataresource+json": {
                            "schema": {
                                "fields": [
                                    {
                                        "name": "CustomerID"
                                    },
                                    {
                                        "name": "CustomerName"
                                    },
                                    {
                                        "name": "CustomerCategoryName"
                                    },
                                    {
                                        "name": "PrimaryContact"
                                    },
                                    {
                                        "name": "AlternateContact"
                                    },
                                    {
                                        "name": "PhoneNumber"
                                    },
                                    {
                                        "name": "FaxNumber"
                                    },
                                    {
                                        "name": "BuyingGroupName"
                                    },
                                    {
                                        "name": "WebsiteURL"
                                    },
                                    {
                                        "name": "DeliveryMethod"
                                    },
                                    {
                                        "name": "CityName"
                                    },
                                    {
                                        "name": "DeliveryLocation"
                                    },
                                    {
                                        "name": "DeliveryRun"
                                    },
                                    {
                                        "name": "RunPosition"
                                    }
                                ]
                            },
                            "data": [
                                {
                                    "0": "47",
                                    "1": "Tailspin Toys (Lake Hughes, CA)",
                                    "2": "Novelty Shop",
                                    "3": "Serhat Akbulut",
                                    "4": "Nadja Johansson",
                                    "5": "(209) 555-0100",
                                    "6": "(209) 555-0101",
                                    "7": "Tailspin Toys",
                                    "8": "http://www.tailspintoys.com/LakeHughes",
                                    "9": "Delivery Van",
                                    "10": "Lake Hughes",
                                    "11": "0xE6100000010CB759619FA556414000FD63C6809C5DC0",
                                    "12": "",
                                    "13": ""
                                },
                                {
                                    "0": "46",
                                    "1": "Tailspin Toys (Jemison, AL)",
                                    "2": "Novelty Shop",
                                    "3": "Didem ozCelik",
                                    "4": "Krista Andrejev",
                                    "5": "(205) 555-0100",
                                    "6": "(205) 555-0101",
                                    "7": "Tailspin Toys",
                                    "8": "http://www.tailspintoys.com/Jemison",
                                    "9": "Delivery Van",
                                    "10": "Jemison",
                                    "11": "0xE6100000010CE9DC4834DC7A4040221F4F26C9AF55C0",
                                    "12": "",
                                    "13": ""
                                },
                                {
                                    "0": "44",
                                    "1": "Tailspin Toys (Amanda Park, WA)",
                                    "2": "Novelty Shop",
                                    "3": "Adrijana Blagojevic",
                                    "4": "Lina Martins",
                                    "5": "(206) 555-0100",
                                    "6": "(206) 555-0101",
                                    "7": "Tailspin Toys",
                                    "8": "http://www.tailspintoys.com/AmandaPark",
                                    "9": "Delivery Van",
                                    "10": "Amanda Park",
                                    "11": "0xE6100000010C22F4D83B48BB474086B82869B4F85EC0",
                                    "12": "",
                                    "13": ""
                                },
                                {
                                    "0": "43",
                                    "1": "Tailspin Toys (Upper Preston, WA)",
                                    "2": "Novelty Shop",
                                    "3": "Ganapati Gadiyaram",
                                    "4": "Parsa Blijleven",
                                    "5": "(206) 555-0100",
                                    "6": "(206) 555-0101",
                                    "7": "Tailspin Toys",
                                    "8": "http://www.tailspintoys.com/UpperPreston",
                                    "9": "Delivery Van",
                                    "10": "Upper Preston",
                                    "11": "0xE6100000010CE0D2D62DA7C04740FB96395D167A5EC0",
                                    "12": "",
                                    "13": ""
                                },
                                {
                                    "0": "42",
                                    "1": "Tailspin Toys (Arietta, NY)",
                                    "2": "Novelty Shop",
                                    "3": "Chandrakanta Raut",
                                    "4": "Ivan Castellanos",
                                    "5": "(212) 555-0100",
                                    "6": "(212) 555-0101",
                                    "7": "Tailspin Toys",
                                    "8": "http://www.tailspintoys.com/Arietta",
                                    "9": "Delivery Van",
                                    "10": "Arietta",
                                    "11": "0xE6100000010CC3F2E7DB829F4540961F5D1121A152C0",
                                    "12": "",
                                    "13": ""
                                },
                                {
                                    "0": "41",
                                    "1": "Tailspin Toys (Olivette, MO)",
                                    "2": "Novelty Shop",
                                    "3": "Lana Rozej",
                                    "4": "Kalpana Mukherjee",
                                    "5": "(314) 555-0100",
                                    "6": "(314) 555-0101",
                                    "7": "Tailspin Toys",
                                    "8": "http://www.tailspintoys.com/Olivette",
                                    "9": "Delivery Van",
                                    "10": "Olivette",
                                    "11": "0xE6100000010C5C470B8629554340CE5B2B900F9856C0",
                                    "12": "",
                                    "13": ""
                                },
                                {
                                    "0": "38",
                                    "1": "Tailspin Toys (Airport Drive, MO)",
                                    "2": "Novelty Shop",
                                    "3": "Nils Kalnins",
                                    "4": "Rajiv Kotadia",
                                    "5": "(314) 555-0100",
                                    "6": "(314) 555-0101",
                                    "7": "Tailspin Toys",
                                    "8": "http://www.tailspintoys.com/AirportDrive",
                                    "9": "Delivery Van",
                                    "10": "Airport Drive",
                                    "11": "0xE6100000010CE6E0E35D3F924240D5D7A9A8B0A057C0",
                                    "12": "",
                                    "13": ""
                                },
                                {
                                    "0": "32",
                                    "1": "Tailspin Toys (Maypearl, TX)",
                                    "2": "Novelty Shop",
                                    "3": "Nikolajs Kalejs",
                                    "4": "Philippe Lamy",
                                    "5": "(210) 555-0100",
                                    "6": "(210) 555-0101",
                                    "7": "Tailspin Toys",
                                    "8": "http://www.tailspintoys.com/Maypearl",
                                    "9": "Delivery Van",
                                    "10": "Maypearl",
                                    "11": "0xE6100000010C77CC8AF216284040ECB7C02FBF4058C0",
                                    "12": "",
                                    "13": ""
                                },
                                {
                                    "0": "31",
                                    "1": "Tailspin Toys (Lake Stevens, WA)",
                                    "2": "Novelty Shop",
                                    "3": "Kimberly Pace",
                                    "4": "Shobha Gupta",
                                    "5": "(206) 555-0100",
                                    "6": "(206) 555-0101",
                                    "7": "Tailspin Toys",
                                    "8": "http://www.tailspintoys.com/LakeStevens",
                                    "9": "Delivery Van",
                                    "10": "Lake Stevens",
                                    "11": "0xE6100000010C151E34BBEE01484061376C5B14845EC0",
                                    "12": "",
                                    "13": ""
                                },
                                {
                                    "0": "30",
                                    "1": "Tailspin Toys (Koontzville, WA)",
                                    "2": "Novelty Shop",
                                    "3": "Odessa Schneider",
                                    "4": "Konrads Sprogis",
                                    "5": "(206) 555-0100",
                                    "6": "(206) 555-0101",
                                    "7": "Tailspin Toys",
                                    "8": "http://www.tailspintoys.com/Koontzville",
                                    "9": "Delivery Van",
                                    "10": "Koontzville",
                                    "11": "0xE6100000010C881F52C2020248404F7633A39FBC5DC0",
                                    "12": "",
                                    "13": ""
                                }
                            ]
                        },
                        "text/html": "<table><tr><th>CustomerID</th><th>CustomerName</th><th>CustomerCategoryName</th><th>PrimaryContact</th><th>AlternateContact</th><th>PhoneNumber</th><th>FaxNumber</th><th>BuyingGroupName</th><th>WebsiteURL</th><th>DeliveryMethod</th><th>CityName</th><th>DeliveryLocation</th><th>DeliveryRun</th><th>RunPosition</th></tr><tr><td>47</td><td>Tailspin Toys (Lake Hughes, CA)</td><td>Novelty Shop</td><td>Serhat Akbulut</td><td>Nadja Johansson</td><td>(209) 555-0100</td><td>(209) 555-0101</td><td>Tailspin Toys</td><td>http://www.tailspintoys.com/LakeHughes</td><td>Delivery Van</td><td>Lake Hughes</td><td>0xE6100000010CB759619FA556414000FD63C6809C5DC0</td><td></td><td></td></tr><tr><td>46</td><td>Tailspin Toys (Jemison, AL)</td><td>Novelty Shop</td><td>Didem ozCelik</td><td>Krista Andrejev</td><td>(205) 555-0100</td><td>(205) 555-0101</td><td>Tailspin Toys</td><td>http://www.tailspintoys.com/Jemison</td><td>Delivery Van</td><td>Jemison</td><td>0xE6100000010CE9DC4834DC7A4040221F4F26C9AF55C0</td><td></td><td></td></tr><tr><td>44</td><td>Tailspin Toys (Amanda Park, WA)</td><td>Novelty Shop</td><td>Adrijana Blagojevic</td><td>Lina Martins</td><td>(206) 555-0100</td><td>(206) 555-0101</td><td>Tailspin Toys</td><td>http://www.tailspintoys.com/AmandaPark</td><td>Delivery Van</td><td>Amanda Park</td><td>0xE6100000010C22F4D83B48BB474086B82869B4F85EC0</td><td></td><td></td></tr><tr><td>43</td><td>Tailspin Toys (Upper Preston, WA)</td><td>Novelty Shop</td><td>Ganapati Gadiyaram</td><td>Parsa Blijleven</td><td>(206) 555-0100</td><td>(206) 555-0101</td><td>Tailspin Toys</td><td>http://www.tailspintoys.com/UpperPreston</td><td>Delivery Van</td><td>Upper Preston</td><td>0xE6100000010CE0D2D62DA7C04740FB96395D167A5EC0</td><td></td><td></td></tr><tr><td>42</td><td>Tailspin Toys (Arietta, NY)</td><td>Novelty Shop</td><td>Chandrakanta Raut</td><td>Ivan Castellanos</td><td>(212) 555-0100</td><td>(212) 555-0101</td><td>Tailspin Toys</td><td>http://www.tailspintoys.com/Arietta</td><td>Delivery Van</td><td>Arietta</td><td>0xE6100000010CC3F2E7DB829F4540961F5D1121A152C0</td><td></td><td></td></tr><tr><td>41</td><td>Tailspin Toys (Olivette, MO)</td><td>Novelty Shop</td><td>Lana Rozej</td><td>Kalpana Mukherjee</td><td>(314) 555-0100</td><td>(314) 555-0101</td><td>Tailspin Toys</td><td>http://www.tailspintoys.com/Olivette</td><td>Delivery Van</td><td>Olivette</td><td>0xE6100000010C5C470B8629554340CE5B2B900F9856C0</td><td></td><td></td></tr><tr><td>38</td><td>Tailspin Toys (Airport Drive, MO)</td><td>Novelty Shop</td><td>Nils Kalnins</td><td>Rajiv Kotadia</td><td>(314) 555-0100</td><td>(314) 555-0101</td><td>Tailspin Toys</td><td>http://www.tailspintoys.com/AirportDrive</td><td>Delivery Van</td><td>Airport Drive</td><td>0xE6100000010CE6E0E35D3F924240D5D7A9A8B0A057C0</td><td></td><td></td></tr><tr><td>32</td><td>Tailspin Toys (Maypearl, TX)</td><td>Novelty Shop</td><td>Nikolajs Kalejs</td><td>Philippe Lamy</td><td>(210) 555-0100</td><td>(210) 555-0101</td><td>Tailspin Toys</td><td>http://www.tailspintoys.com/Maypearl</td><td>Delivery Van</td><td>Maypearl</td><td>0xE6100000010C77CC8AF216284040ECB7C02FBF4058C0</td><td></td><td></td></tr><tr><td>31</td><td>Tailspin Toys (Lake Stevens, WA)</td><td>Novelty Shop</td><td>Kimberly Pace</td><td>Shobha Gupta</td><td>(206) 555-0100</td><td>(206) 555-0101</td><td>Tailspin Toys</td><td>http://www.tailspintoys.com/LakeStevens</td><td>Delivery Van</td><td>Lake Stevens</td><td>0xE6100000010C151E34BBEE01484061376C5B14845EC0</td><td></td><td></td></tr><tr><td>30</td><td>Tailspin Toys (Koontzville, WA)</td><td>Novelty Shop</td><td>Odessa Schneider</td><td>Konrads Sprogis</td><td>(206) 555-0100</td><td>(206) 555-0101</td><td>Tailspin Toys</td><td>http://www.tailspintoys.com/Koontzville</td><td>Delivery Van</td><td>Koontzville</td><td>0xE6100000010C881F52C2020248404F7633A39FBC5DC0</td><td></td><td></td></tr></table>"
                    },
                    "metadata": {}
                }
            ],
            "execution_count": 2
        },
        {
            "cell_type": "markdown",
            "source": "## Next Step: Data Virtualization\r\n\r\n**TODO:** Add Link",
            "metadata": {}
        }
    ]
}