{
    "metadata": {
        "kernelspec": {
            "name": "SQL",
            "display_name": "SQL",
            "language": "sql"
        },
        "language_info": {
            "name": "sql",
            "version": ""
        }
    },
    "nbformat_minor": 2,
    "nbformat": 4,
    "cells": [
        {
            "cell_type": "markdown",
            "source": "<img src=\"https://github.com/Microsoft/sqlworkshops/blob/master/graphics/solutions-microsoft-logo-small.png?raw=true\" alt=\"Microsoft\">\r\n<br>\r\n\r\n# SQL Server 2019 big data cluster Tutorial\r\n## 01 - SQL Server Master Instance Queries\r\n\r\nIn this tutorial you will learn how to run standard SQL Server Queries against the Master Instance (MI) in a SQL Server big data cluster. \r\n\r\nWe'll start with a simple set of queries to explore the Instance: \r\n\r\n",
            "metadata": {}
        },
        {
            "cell_type": "code",
            "source": "/* Instance Version */\r\nSELECT @@VERSION; \r\nGO\r\n\r\n/* General Configuration */\r\nUSE master;  \r\nGO  \r\nEXEC sp_configure;\r\nGO\r\n\r\n/* Databases on this Instance */\r\nSELECT db.name AS 'Database Name'\r\n, Physical_Name AS 'Location on Disk'\r\n, Cast(Cast(Round(cast(mf.size as decimal) * 8.0/1024000.0,2) as decimal(18,2)) as nvarchar) 'Size (GB)'\r\nFROM sys.master_files mf\r\nINNER JOIN \r\n    sys.databases db ON db.database_id = mf.database_id\r\nWHERE mf.type_desc = 'ROWS';\r\nGO\r\n\r\nSELECT * from sys.master_files\r\n",
            "metadata": {},
            "outputs": [
                {
                    "output_type": "display_data",
                    "data": {
                        "text/html": "(1 row affected)"
                    },
                    "metadata": {}
                },
                {
                    "output_type": "display_data",
                    "data": {
                        "text/html": "Total execution time: 00:00:00.1399588"
                    },
                    "metadata": {}
                },
                {
                    "output_type": "display_data",
                    "data": {
                        "text/html": "Commands completed successfully."
                    },
                    "metadata": {}
                },
                {
                    "output_type": "display_data",
                    "data": {
                        "text/html": "Total execution time: 00:00:00.0121076"
                    },
                    "metadata": {}
                },
                {
                    "output_type": "execute_result",
                    "execution_count": 1,
                    "data": {
                        "application/vnd.dataresource+json": {
                            "schema": {
                                "fields": [
                                    {
                                        "name": "(No column name)"
                                    }
                                ]
                            },
                            "data": [
                                {
                                    "0": "Microsoft SQL Server 2019 (CTP2.4) - 15.0.1400.75 (X64) \n\tMar 16 2019 11:53:26 \n\tCopyright (C) 2019 Microsoft Corporation\n\tDeveloper Edition (64-bit) on Linux (Ubuntu 16.04.6 LTS) <X64>"
                                }
                            ]
                        },
                        "text/html": "<table><tr><th>(No column name)</th></tr><tr><td>Microsoft SQL Server 2019 (CTP2.4) - 15.0.1400.75 (X64) \n\tMar 16 2019 11:53:26 \n\tCopyright (C) 2019 Microsoft Corporation\n\tDeveloper Edition (64-bit) on Linux (Ubuntu 16.04.6 LTS) &lt;X64&gt;</td></tr></table>"
                    },
                    "metadata": {}
                },
                {
                    "output_type": "display_data",
                    "data": {
                        "text/html": "Commands completed successfully."
                    },
                    "metadata": {}
                },
                {
                    "output_type": "display_data",
                    "data": {
                        "text/html": "Total execution time: 00:00:00.0662367"
                    },
                    "metadata": {}
                },
                {
                    "output_type": "display_data",
                    "data": {
                        "text/html": "(7 rows affected)"
                    },
                    "metadata": {}
                },
                {
                    "output_type": "display_data",
                    "data": {
                        "text/html": "Total execution time: 00:00:00.0669921"
                    },
                    "metadata": {}
                },
                {
                    "output_type": "display_data",
                    "data": {
                        "text/html": "(14 rows affected)"
                    },
                    "metadata": {}
                },
                {
                    "output_type": "display_data",
                    "data": {
                        "text/html": "Total execution time: 00:00:00.0405191"
                    },
                    "metadata": {}
                },
                {
                    "output_type": "execute_result",
                    "execution_count": 1,
                    "data": {
                        "application/vnd.dataresource+json": {
                            "schema": {
                                "fields": [
                                    {
                                        "name": "name"
                                    },
                                    {
                                        "name": "minimum"
                                    },
                                    {
                                        "name": "maximum"
                                    },
                                    {
                                        "name": "config_value"
                                    },
                                    {
                                        "name": "run_value"
                                    }
                                ]
                            },
                            "data": [
                                {
                                    "0": "allow polybase export",
                                    "1": "0",
                                    "2": "1",
                                    "3": "0",
                                    "4": "0"
                                },
                                {
                                    "0": "allow updates",
                                    "1": "0",
                                    "2": "1",
                                    "3": "0",
                                    "4": "0"
                                },
                                {
                                    "0": "backup checksum default",
                                    "1": "0",
                                    "2": "1",
                                    "3": "0",
                                    "4": "0"
                                },
                                {
                                    "0": "backup compression default",
                                    "1": "0",
                                    "2": "1",
                                    "3": "0",
                                    "4": "0"
                                },
                                {
                                    "0": "clr enabled",
                                    "1": "0",
                                    "2": "1",
                                    "3": "1",
                                    "4": "1"
                                },
                                {
                                    "0": "column encryption enclave type",
                                    "1": "0",
                                    "2": "1",
                                    "3": "0",
                                    "4": "0"
                                },
                                {
                                    "0": "contained database authentication",
                                    "1": "0",
                                    "2": "1",
                                    "3": "0",
                                    "4": "0"
                                },
                                {
                                    "0": "cross db ownership chaining",
                                    "1": "0",
                                    "2": "1",
                                    "3": "0",
                                    "4": "0"
                                },
                                {
                                    "0": "default language",
                                    "1": "0",
                                    "2": "9999",
                                    "3": "0",
                                    "4": "0"
                                },
                                {
                                    "0": "external scripts enabled",
                                    "1": "0",
                                    "2": "1",
                                    "3": "0",
                                    "4": "0"
                                },
                                {
                                    "0": "filestream access level",
                                    "1": "0",
                                    "2": "2",
                                    "3": "0",
                                    "4": "0"
                                },
                                {
                                    "0": "hadoop connectivity",
                                    "1": "0",
                                    "2": "7",
                                    "3": "7",
                                    "4": "7"
                                },
                                {
                                    "0": "max text repl size (B)",
                                    "1": "-1",
                                    "2": "2147483647",
                                    "3": "65536",
                                    "4": "65536"
                                },
                                {
                                    "0": "nested triggers",
                                    "1": "0",
                                    "2": "1",
                                    "3": "1",
                                    "4": "1"
                                },
                                {
                                    "0": "polybase enabled",
                                    "1": "0",
                                    "2": "1",
                                    "3": "1",
                                    "4": "1"
                                },
                                {
                                    "0": "polybase network encryption",
                                    "1": "0",
                                    "2": "1",
                                    "3": "0",
                                    "4": "0"
                                },
                                {
                                    "0": "remote access",
                                    "1": "0",
                                    "2": "1",
                                    "3": "1",
                                    "4": "1"
                                },
                                {
                                    "0": "remote admin connections",
                                    "1": "0",
                                    "2": "1",
                                    "3": "0",
                                    "4": "0"
                                },
                                {
                                    "0": "remote data archive",
                                    "1": "0",
                                    "2": "1",
                                    "3": "0",
                                    "4": "0"
                                },
                                {
                                    "0": "remote login timeout (s)",
                                    "1": "0",
                                    "2": "2147483647",
                                    "3": "10",
                                    "4": "10"
                                },
                                {
                                    "0": "remote proc trans",
                                    "1": "0",
                                    "2": "1",
                                    "3": "0",
                                    "4": "0"
                                },
                                {
                                    "0": "remote query timeout (s)",
                                    "1": "0",
                                    "2": "2147483647",
                                    "3": "600",
                                    "4": "600"
                                },
                                {
                                    "0": "server trigger recursion",
                                    "1": "0",
                                    "2": "1",
                                    "3": "1",
                                    "4": "1"
                                },
                                {
                                    "0": "show advanced options",
                                    "1": "0",
                                    "2": "1",
                                    "3": "0",
                                    "4": "0"
                                },
                                {
                                    "0": "user options",
                                    "1": "0",
                                    "2": "32767",
                                    "3": "0",
                                    "4": "0"
                                }
                            ]
                        },
                        "text/html": "<table><tr><th>name</th><th>minimum</th><th>maximum</th><th>config_value</th><th>run_value</th></tr><tr><td>allow polybase export</td><td>0</td><td>1</td><td>0</td><td>0</td></tr><tr><td>allow updates</td><td>0</td><td>1</td><td>0</td><td>0</td></tr><tr><td>backup checksum default</td><td>0</td><td>1</td><td>0</td><td>0</td></tr><tr><td>backup compression default</td><td>0</td><td>1</td><td>0</td><td>0</td></tr><tr><td>clr enabled</td><td>0</td><td>1</td><td>1</td><td>1</td></tr><tr><td>column encryption enclave type</td><td>0</td><td>1</td><td>0</td><td>0</td></tr><tr><td>contained database authentication</td><td>0</td><td>1</td><td>0</td><td>0</td></tr><tr><td>cross db ownership chaining</td><td>0</td><td>1</td><td>0</td><td>0</td></tr><tr><td>default language</td><td>0</td><td>9999</td><td>0</td><td>0</td></tr><tr><td>external scripts enabled</td><td>0</td><td>1</td><td>0</td><td>0</td></tr><tr><td>filestream access level</td><td>0</td><td>2</td><td>0</td><td>0</td></tr><tr><td>hadoop connectivity</td><td>0</td><td>7</td><td>7</td><td>7</td></tr><tr><td>max text repl size (B)</td><td>-1</td><td>2147483647</td><td>65536</td><td>65536</td></tr><tr><td>nested triggers</td><td>0</td><td>1</td><td>1</td><td>1</td></tr><tr><td>polybase enabled</td><td>0</td><td>1</td><td>1</td><td>1</td></tr><tr><td>polybase network encryption</td><td>0</td><td>1</td><td>0</td><td>0</td></tr><tr><td>remote access</td><td>0</td><td>1</td><td>1</td><td>1</td></tr><tr><td>remote admin connections</td><td>0</td><td>1</td><td>0</td><td>0</td></tr><tr><td>remote data archive</td><td>0</td><td>1</td><td>0</td><td>0</td></tr><tr><td>remote login timeout (s)</td><td>0</td><td>2147483647</td><td>10</td><td>10</td></tr><tr><td>remote proc trans</td><td>0</td><td>1</td><td>0</td><td>0</td></tr><tr><td>remote query timeout (s)</td><td>0</td><td>2147483647</td><td>600</td><td>600</td></tr><tr><td>server trigger recursion</td><td>0</td><td>1</td><td>1</td><td>1</td></tr><tr><td>show advanced options</td><td>0</td><td>1</td><td>0</td><td>0</td></tr><tr><td>user options</td><td>0</td><td>32767</td><td>0</td><td>0</td></tr></table>"
                    },
                    "metadata": {}
                },
                {
                    "output_type": "execute_result",
                    "execution_count": 1,
                    "data": {
                        "application/vnd.dataresource+json": {
                            "schema": {
                                "fields": [
                                    {
                                        "name": "Database Name"
                                    },
                                    {
                                        "name": "Location on Disk"
                                    },
                                    {
                                        "name": "Size (GB)"
                                    }
                                ]
                            },
                            "data": [
                                {
                                    "0": "master",
                                    "1": "/var/opt/mssql/data/master.mdf",
                                    "2": "0.00"
                                },
                                {
                                    "0": "tempdb",
                                    "1": "/var/opt/mssql/data/tempdb.mdf",
                                    "2": "0.01"
                                },
                                {
                                    "0": "model",
                                    "1": "/var/opt/mssql/data/model.mdf",
                                    "2": "0.01"
                                },
                                {
                                    "0": "msdb",
                                    "1": "/var/opt/mssql/data/MSDBData.mdf",
                                    "2": "0.01"
                                },
                                {
                                    "0": "DWDiagnostics",
                                    "1": "/var/opt/mssql/data/DWDiagnostics.mdf",
                                    "2": "0.50"
                                },
                                {
                                    "0": "DWConfiguration",
                                    "1": "/var/opt/mssql/data/DWConfiguration.mdf",
                                    "2": "0.01"
                                },
                                {
                                    "0": "DWQueue",
                                    "1": "/var/opt/mssql/data/DWQueue.mdf",
                                    "2": "0.01"
                                }
                            ]
                        },
                        "text/html": "<table><tr><th>Database Name</th><th>Location on Disk</th><th>Size (GB)</th></tr><tr><td>master</td><td>/var/opt/mssql/data/master.mdf</td><td>0.00</td></tr><tr><td>tempdb</td><td>/var/opt/mssql/data/tempdb.mdf</td><td>0.01</td></tr><tr><td>model</td><td>/var/opt/mssql/data/model.mdf</td><td>0.01</td></tr><tr><td>msdb</td><td>/var/opt/mssql/data/MSDBData.mdf</td><td>0.01</td></tr><tr><td>DWDiagnostics</td><td>/var/opt/mssql/data/DWDiagnostics.mdf</td><td>0.50</td></tr><tr><td>DWConfiguration</td><td>/var/opt/mssql/data/DWConfiguration.mdf</td><td>0.01</td></tr><tr><td>DWQueue</td><td>/var/opt/mssql/data/DWQueue.mdf</td><td>0.01</td></tr></table>"
                    },
                    "metadata": {}
                },
                {
                    "output_type": "execute_result",
                    "execution_count": 1,
                    "data": {
                        "application/vnd.dataresource+json": {
                            "schema": {
                                "fields": [
                                    {
                                        "name": "database_id"
                                    },
                                    {
                                        "name": "file_id"
                                    },
                                    {
                                        "name": "file_guid"
                                    },
                                    {
                                        "name": "type"
                                    },
                                    {
                                        "name": "type_desc"
                                    },
                                    {
                                        "name": "data_space_id"
                                    },
                                    {
                                        "name": "name"
                                    },
                                    {
                                        "name": "physical_name"
                                    },
                                    {
                                        "name": "state"
                                    },
                                    {
                                        "name": "state_desc"
                                    },
                                    {
                                        "name": "size"
                                    },
                                    {
                                        "name": "max_size"
                                    },
                                    {
                                        "name": "growth"
                                    },
                                    {
                                        "name": "is_media_read_only"
                                    },
                                    {
                                        "name": "is_read_only"
                                    },
                                    {
                                        "name": "is_sparse"
                                    },
                                    {
                                        "name": "is_percent_growth"
                                    },
                                    {
                                        "name": "is_name_reserved"
                                    },
                                    {
                                        "name": "is_persistent_log_buffer"
                                    },
                                    {
                                        "name": "create_lsn"
                                    },
                                    {
                                        "name": "drop_lsn"
                                    },
                                    {
                                        "name": "read_only_lsn"
                                    },
                                    {
                                        "name": "read_write_lsn"
                                    },
                                    {
                                        "name": "differential_base_lsn"
                                    },
                                    {
                                        "name": "differential_base_guid"
                                    },
                                    {
                                        "name": "differential_base_time"
                                    },
                                    {
                                        "name": "redo_start_lsn"
                                    },
                                    {
                                        "name": "redo_start_fork_guid"
                                    },
                                    {
                                        "name": "redo_target_lsn"
                                    },
                                    {
                                        "name": "redo_target_fork_guid"
                                    },
                                    {
                                        "name": "backup_lsn"
                                    },
                                    {
                                        "name": "credential_id"
                                    }
                                ]
                            },
                            "data": [
                                {
                                    "0": "1",
                                    "1": "1",
                                    "2": "NULL",
                                    "3": "0",
                                    "4": "ROWS",
                                    "5": "1",
                                    "6": "master",
                                    "7": "/var/opt/mssql/data/master.mdf",
                                    "8": "0",
                                    "9": "ONLINE",
                                    "10": "512",
                                    "11": "-1",
                                    "12": "10",
                                    "13": "0",
                                    "14": "0",
                                    "15": "0",
                                    "16": "1",
                                    "17": "0",
                                    "18": "0",
                                    "19": "NULL",
                                    "20": "NULL",
                                    "21": "NULL",
                                    "22": "NULL",
                                    "23": "NULL",
                                    "24": "NULL",
                                    "25": "NULL",
                                    "26": "NULL",
                                    "27": "NULL",
                                    "28": "NULL",
                                    "29": "NULL",
                                    "30": "NULL",
                                    "31": "NULL"
                                },
                                {
                                    "0": "1",
                                    "1": "2",
                                    "2": "NULL",
                                    "3": "1",
                                    "4": "LOG",
                                    "5": "0",
                                    "6": "mastlog",
                                    "7": "/var/opt/mssql/data/mastlog.ldf",
                                    "8": "0",
                                    "9": "ONLINE",
                                    "10": "256",
                                    "11": "-1",
                                    "12": "10",
                                    "13": "0",
                                    "14": "0",
                                    "15": "0",
                                    "16": "1",
                                    "17": "0",
                                    "18": "0",
                                    "19": "NULL",
                                    "20": "NULL",
                                    "21": "NULL",
                                    "22": "NULL",
                                    "23": "NULL",
                                    "24": "NULL",
                                    "25": "NULL",
                                    "26": "NULL",
                                    "27": "NULL",
                                    "28": "NULL",
                                    "29": "NULL",
                                    "30": "NULL",
                                    "31": "NULL"
                                },
                                {
                                    "0": "2",
                                    "1": "1",
                                    "2": "NULL",
                                    "3": "0",
                                    "4": "ROWS",
                                    "5": "1",
                                    "6": "tempdev",
                                    "7": "/var/opt/mssql/data/tempdb.mdf",
                                    "8": "0",
                                    "9": "ONLINE",
                                    "10": "1024",
                                    "11": "-1",
                                    "12": "8192",
                                    "13": "0",
                                    "14": "0",
                                    "15": "0",
                                    "16": "0",
                                    "17": "0",
                                    "18": "0",
                                    "19": "NULL",
                                    "20": "NULL",
                                    "21": "NULL",
                                    "22": "NULL",
                                    "23": "NULL",
                                    "24": "NULL",
                                    "25": "NULL",
                                    "26": "NULL",
                                    "27": "NULL",
                                    "28": "NULL",
                                    "29": "NULL",
                                    "30": "NULL",
                                    "31": "NULL"
                                },
                                {
                                    "0": "2",
                                    "1": "2",
                                    "2": "NULL",
                                    "3": "1",
                                    "4": "LOG",
                                    "5": "0",
                                    "6": "templog",
                                    "7": "/var/opt/mssql/data/templog.ldf",
                                    "8": "0",
                                    "9": "ONLINE",
                                    "10": "1024",
                                    "11": "-1",
                                    "12": "8192",
                                    "13": "0",
                                    "14": "0",
                                    "15": "0",
                                    "16": "0",
                                    "17": "0",
                                    "18": "0",
                                    "19": "NULL",
                                    "20": "NULL",
                                    "21": "NULL",
                                    "22": "NULL",
                                    "23": "NULL",
                                    "24": "NULL",
                                    "25": "NULL",
                                    "26": "NULL",
                                    "27": "NULL",
                                    "28": "NULL",
                                    "29": "NULL",
                                    "30": "NULL",
                                    "31": "NULL"
                                },
                                {
                                    "0": "3",
                                    "1": "1",
                                    "2": "NULL",
                                    "3": "0",
                                    "4": "ROWS",
                                    "5": "1",
                                    "6": "modeldev",
                                    "7": "/var/opt/mssql/data/model.mdf",
                                    "8": "0",
                                    "9": "ONLINE",
                                    "10": "1024",
                                    "11": "-1",
                                    "12": "8192",
                                    "13": "0",
                                    "14": "0",
                                    "15": "0",
                                    "16": "0",
                                    "17": "0",
                                    "18": "0",
                                    "19": "NULL",
                                    "20": "NULL",
                                    "21": "NULL",
                                    "22": "NULL",
                                    "23": "NULL",
                                    "24": "NULL",
                                    "25": "NULL",
                                    "26": "NULL",
                                    "27": "NULL",
                                    "28": "NULL",
                                    "29": "NULL",
                                    "30": "NULL",
                                    "31": "NULL"
                                },
                                {
                                    "0": "3",
                                    "1": "2",
                                    "2": "NULL",
                                    "3": "1",
                                    "4": "LOG",
                                    "5": "0",
                                    "6": "modellog",
                                    "7": "/var/opt/mssql/data/modellog.ldf",
                                    "8": "0",
                                    "9": "ONLINE",
                                    "10": "1024",
                                    "11": "-1",
                                    "12": "8192",
                                    "13": "0",
                                    "14": "0",
                                    "15": "0",
                                    "16": "0",
                                    "17": "0",
                                    "18": "0",
                                    "19": "NULL",
                                    "20": "NULL",
                                    "21": "NULL",
                                    "22": "NULL",
                                    "23": "NULL",
                                    "24": "NULL",
                                    "25": "NULL",
                                    "26": "NULL",
                                    "27": "NULL",
                                    "28": "NULL",
                                    "29": "NULL",
                                    "30": "NULL",
                                    "31": "NULL"
                                },
                                {
                                    "0": "4",
                                    "1": "1",
                                    "2": "8fcf842e-a342-414e-a894-f45196a9db85",
                                    "3": "0",
                                    "4": "ROWS",
                                    "5": "1",
                                    "6": "MSDBData",
                                    "7": "/var/opt/mssql/data/MSDBData.mdf",
                                    "8": "0",
                                    "9": "ONLINE",
                                    "10": "1712",
                                    "11": "-1",
                                    "12": "10",
                                    "13": "0",
                                    "14": "0",
                                    "15": "0",
                                    "16": "1",
                                    "17": "0",
                                    "18": "0",
                                    "19": "NULL",
                                    "20": "NULL",
                                    "21": "NULL",
                                    "22": "NULL",
                                    "23": "NULL",
                                    "24": "NULL",
                                    "25": "NULL",
                                    "26": "NULL",
                                    "27": "NULL",
                                    "28": "NULL",
                                    "29": "NULL",
                                    "30": "NULL",
                                    "31": "NULL"
                                },
                                {
                                    "0": "4",
                                    "1": "2",
                                    "2": "2f169600-e65f-41b4-b9f0-348866a58fe8",
                                    "3": "1",
                                    "4": "LOG",
                                    "5": "0",
                                    "6": "MSDBLog",
                                    "7": "/var/opt/mssql/data/MSDBLog.ldf",
                                    "8": "0",
                                    "9": "ONLINE",
                                    "10": "64",
                                    "11": "268435456",
                                    "12": "10",
                                    "13": "0",
                                    "14": "0",
                                    "15": "0",
                                    "16": "1",
                                    "17": "0",
                                    "18": "0",
                                    "19": "NULL",
                                    "20": "NULL",
                                    "21": "NULL",
                                    "22": "NULL",
                                    "23": "NULL",
                                    "24": "NULL",
                                    "25": "NULL",
                                    "26": "NULL",
                                    "27": "NULL",
                                    "28": "NULL",
                                    "29": "NULL",
                                    "30": "NULL",
                                    "31": "NULL"
                                },
                                {
                                    "0": "5",
                                    "1": "1",
                                    "2": "bd6a15ac-29cf-40ed-ab8b-0f4617f5b39b",
                                    "3": "0",
                                    "4": "ROWS",
                                    "5": "1",
                                    "6": "DWDiagnostics",
                                    "7": "/var/opt/mssql/data/DWDiagnostics.mdf",
                                    "8": "0",
                                    "9": "ONLINE",
                                    "10": "64000",
                                    "11": "256000",
                                    "12": "8192",
                                    "13": "0",
                                    "14": "0",
                                    "15": "0",
                                    "16": "0",
                                    "17": "0",
                                    "18": "0",
                                    "19": "NULL",
                                    "20": "NULL",
                                    "21": "NULL",
                                    "22": "NULL",
                                    "23": "NULL",
                                    "24": "NULL",
                                    "25": "NULL",
                                    "26": "NULL",
                                    "27": "NULL",
                                    "28": "NULL",
                                    "29": "NULL",
                                    "30": "NULL",
                                    "31": "NULL"
                                },
                                {
                                    "0": "5",
                                    "1": "2",
                                    "2": "0a35d259-b590-4338-9ebe-04b814c522f4",
                                    "3": "1",
                                    "4": "LOG",
                                    "5": "0",
                                    "6": "DWDiagnostics_log",
                                    "7": "/var/opt/mssql/data/DWDiagnostics_log.ldf",
                                    "8": "0",
                                    "9": "ONLINE",
                                    "10": "9216",
                                    "11": "268435456",
                                    "12": "8192",
                                    "13": "0",
                                    "14": "0",
                                    "15": "0",
                                    "16": "0",
                                    "17": "0",
                                    "18": "0",
                                    "19": "NULL",
                                    "20": "NULL",
                                    "21": "NULL",
                                    "22": "NULL",
                                    "23": "NULL",
                                    "24": "NULL",
                                    "25": "NULL",
                                    "26": "NULL",
                                    "27": "NULL",
                                    "28": "NULL",
                                    "29": "NULL",
                                    "30": "NULL",
                                    "31": "NULL"
                                },
                                {
                                    "0": "6",
                                    "1": "1",
                                    "2": "102c6552-92f3-483f-afd2-806c2b0147d4",
                                    "3": "0",
                                    "4": "ROWS",
                                    "5": "1",
                                    "6": "DWConfiguration",
                                    "7": "/var/opt/mssql/data/DWConfiguration.mdf",
                                    "8": "0",
                                    "9": "ONLINE",
                                    "10": "1024",
                                    "11": "-1",
                                    "12": "8192",
                                    "13": "0",
                                    "14": "0",
                                    "15": "0",
                                    "16": "0",
                                    "17": "0",
                                    "18": "0",
                                    "19": "NULL",
                                    "20": "NULL",
                                    "21": "NULL",
                                    "22": "NULL",
                                    "23": "NULL",
                                    "24": "NULL",
                                    "25": "NULL",
                                    "26": "NULL",
                                    "27": "NULL",
                                    "28": "NULL",
                                    "29": "NULL",
                                    "30": "NULL",
                                    "31": "NULL"
                                },
                                {
                                    "0": "6",
                                    "1": "2",
                                    "2": "85c7f32d-c686-4adb-a631-bd9ab5d5493b",
                                    "3": "1",
                                    "4": "LOG",
                                    "5": "0",
                                    "6": "DWConfiguration_log",
                                    "7": "/var/opt/mssql/data/DWConfiguration_log.ldf",
                                    "8": "0",
                                    "9": "ONLINE",
                                    "10": "1024",
                                    "11": "268435456",
                                    "12": "8192",
                                    "13": "0",
                                    "14": "0",
                                    "15": "0",
                                    "16": "0",
                                    "17": "0",
                                    "18": "0",
                                    "19": "NULL",
                                    "20": "NULL",
                                    "21": "NULL",
                                    "22": "NULL",
                                    "23": "NULL",
                                    "24": "NULL",
                                    "25": "NULL",
                                    "26": "NULL",
                                    "27": "NULL",
                                    "28": "NULL",
                                    "29": "NULL",
                                    "30": "NULL",
                                    "31": "NULL"
                                },
                                {
                                    "0": "7",
                                    "1": "1",
                                    "2": "c3a66027-97db-45d1-a755-14c74ee47a65",
                                    "3": "0",
                                    "4": "ROWS",
                                    "5": "1",
                                    "6": "DWQueue",
                                    "7": "/var/opt/mssql/data/DWQueue.mdf",
                                    "8": "0",
                                    "9": "ONLINE",
                                    "10": "1024",
                                    "11": "-1",
                                    "12": "8192",
                                    "13": "0",
                                    "14": "0",
                                    "15": "0",
                                    "16": "0",
                                    "17": "0",
                                    "18": "0",
                                    "19": "NULL",
                                    "20": "NULL",
                                    "21": "NULL",
                                    "22": "NULL",
                                    "23": "NULL",
                                    "24": "NULL",
                                    "25": "NULL",
                                    "26": "NULL",
                                    "27": "NULL",
                                    "28": "NULL",
                                    "29": "NULL",
                                    "30": "NULL",
                                    "31": "NULL"
                                },
                                {
                                    "0": "7",
                                    "1": "2",
                                    "2": "a83e7399-6476-4e8a-9bd2-73cea36548fd",
                                    "3": "1",
                                    "4": "LOG",
                                    "5": "0",
                                    "6": "DWQueue_log",
                                    "7": "/var/opt/mssql/data/DWQueue_log.ldf",
                                    "8": "0",
                                    "9": "ONLINE",
                                    "10": "1024",
                                    "11": "268435456",
                                    "12": "8192",
                                    "13": "0",
                                    "14": "0",
                                    "15": "0",
                                    "16": "0",
                                    "17": "0",
                                    "18": "0",
                                    "19": "NULL",
                                    "20": "NULL",
                                    "21": "NULL",
                                    "22": "NULL",
                                    "23": "NULL",
                                    "24": "NULL",
                                    "25": "NULL",
                                    "26": "NULL",
                                    "27": "NULL",
                                    "28": "NULL",
                                    "29": "NULL",
                                    "30": "NULL",
                                    "31": "NULL"
                                }
                            ]
                        },
                        "text/html": "<table><tr><th>database_id</th><th>file_id</th><th>file_guid</th><th>type</th><th>type_desc</th><th>data_space_id</th><th>name</th><th>physical_name</th><th>state</th><th>state_desc</th><th>size</th><th>max_size</th><th>growth</th><th>is_media_read_only</th><th>is_read_only</th><th>is_sparse</th><th>is_percent_growth</th><th>is_name_reserved</th><th>is_persistent_log_buffer</th><th>create_lsn</th><th>drop_lsn</th><th>read_only_lsn</th><th>read_write_lsn</th><th>differential_base_lsn</th><th>differential_base_guid</th><th>differential_base_time</th><th>redo_start_lsn</th><th>redo_start_fork_guid</th><th>redo_target_lsn</th><th>redo_target_fork_guid</th><th>backup_lsn</th><th>credential_id</th></tr><tr><td>1</td><td>1</td><td>NULL</td><td>0</td><td>ROWS</td><td>1</td><td>master</td><td>/var/opt/mssql/data/master.mdf</td><td>0</td><td>ONLINE</td><td>512</td><td>-1</td><td>10</td><td>0</td><td>0</td><td>0</td><td>1</td><td>0</td><td>0</td><td>NULL</td><td>NULL</td><td>NULL</td><td>NULL</td><td>NULL</td><td>NULL</td><td>NULL</td><td>NULL</td><td>NULL</td><td>NULL</td><td>NULL</td><td>NULL</td><td>NULL</td></tr><tr><td>1</td><td>2</td><td>NULL</td><td>1</td><td>LOG</td><td>0</td><td>mastlog</td><td>/var/opt/mssql/data/mastlog.ldf</td><td>0</td><td>ONLINE</td><td>256</td><td>-1</td><td>10</td><td>0</td><td>0</td><td>0</td><td>1</td><td>0</td><td>0</td><td>NULL</td><td>NULL</td><td>NULL</td><td>NULL</td><td>NULL</td><td>NULL</td><td>NULL</td><td>NULL</td><td>NULL</td><td>NULL</td><td>NULL</td><td>NULL</td><td>NULL</td></tr><tr><td>2</td><td>1</td><td>NULL</td><td>0</td><td>ROWS</td><td>1</td><td>tempdev</td><td>/var/opt/mssql/data/tempdb.mdf</td><td>0</td><td>ONLINE</td><td>1024</td><td>-1</td><td>8192</td><td>0</td><td>0</td><td>0</td><td>0</td><td>0</td><td>0</td><td>NULL</td><td>NULL</td><td>NULL</td><td>NULL</td><td>NULL</td><td>NULL</td><td>NULL</td><td>NULL</td><td>NULL</td><td>NULL</td><td>NULL</td><td>NULL</td><td>NULL</td></tr><tr><td>2</td><td>2</td><td>NULL</td><td>1</td><td>LOG</td><td>0</td><td>templog</td><td>/var/opt/mssql/data/templog.ldf</td><td>0</td><td>ONLINE</td><td>1024</td><td>-1</td><td>8192</td><td>0</td><td>0</td><td>0</td><td>0</td><td>0</td><td>0</td><td>NULL</td><td>NULL</td><td>NULL</td><td>NULL</td><td>NULL</td><td>NULL</td><td>NULL</td><td>NULL</td><td>NULL</td><td>NULL</td><td>NULL</td><td>NULL</td><td>NULL</td></tr><tr><td>3</td><td>1</td><td>NULL</td><td>0</td><td>ROWS</td><td>1</td><td>modeldev</td><td>/var/opt/mssql/data/model.mdf</td><td>0</td><td>ONLINE</td><td>1024</td><td>-1</td><td>8192</td><td>0</td><td>0</td><td>0</td><td>0</td><td>0</td><td>0</td><td>NULL</td><td>NULL</td><td>NULL</td><td>NULL</td><td>NULL</td><td>NULL</td><td>NULL</td><td>NULL</td><td>NULL</td><td>NULL</td><td>NULL</td><td>NULL</td><td>NULL</td></tr><tr><td>3</td><td>2</td><td>NULL</td><td>1</td><td>LOG</td><td>0</td><td>modellog</td><td>/var/opt/mssql/data/modellog.ldf</td><td>0</td><td>ONLINE</td><td>1024</td><td>-1</td><td>8192</td><td>0</td><td>0</td><td>0</td><td>0</td><td>0</td><td>0</td><td>NULL</td><td>NULL</td><td>NULL</td><td>NULL</td><td>NULL</td><td>NULL</td><td>NULL</td><td>NULL</td><td>NULL</td><td>NULL</td><td>NULL</td><td>NULL</td><td>NULL</td></tr><tr><td>4</td><td>1</td><td>8fcf842e-a342-414e-a894-f45196a9db85</td><td>0</td><td>ROWS</td><td>1</td><td>MSDBData</td><td>/var/opt/mssql/data/MSDBData.mdf</td><td>0</td><td>ONLINE</td><td>1712</td><td>-1</td><td>10</td><td>0</td><td>0</td><td>0</td><td>1</td><td>0</td><td>0</td><td>NULL</td><td>NULL</td><td>NULL</td><td>NULL</td><td>NULL</td><td>NULL</td><td>NULL</td><td>NULL</td><td>NULL</td><td>NULL</td><td>NULL</td><td>NULL</td><td>NULL</td></tr><tr><td>4</td><td>2</td><td>2f169600-e65f-41b4-b9f0-348866a58fe8</td><td>1</td><td>LOG</td><td>0</td><td>MSDBLog</td><td>/var/opt/mssql/data/MSDBLog.ldf</td><td>0</td><td>ONLINE</td><td>64</td><td>268435456</td><td>10</td><td>0</td><td>0</td><td>0</td><td>1</td><td>0</td><td>0</td><td>NULL</td><td>NULL</td><td>NULL</td><td>NULL</td><td>NULL</td><td>NULL</td><td>NULL</td><td>NULL</td><td>NULL</td><td>NULL</td><td>NULL</td><td>NULL</td><td>NULL</td></tr><tr><td>5</td><td>1</td><td>bd6a15ac-29cf-40ed-ab8b-0f4617f5b39b</td><td>0</td><td>ROWS</td><td>1</td><td>DWDiagnostics</td><td>/var/opt/mssql/data/DWDiagnostics.mdf</td><td>0</td><td>ONLINE</td><td>64000</td><td>256000</td><td>8192</td><td>0</td><td>0</td><td>0</td><td>0</td><td>0</td><td>0</td><td>NULL</td><td>NULL</td><td>NULL</td><td>NULL</td><td>NULL</td><td>NULL</td><td>NULL</td><td>NULL</td><td>NULL</td><td>NULL</td><td>NULL</td><td>NULL</td><td>NULL</td></tr><tr><td>5</td><td>2</td><td>0a35d259-b590-4338-9ebe-04b814c522f4</td><td>1</td><td>LOG</td><td>0</td><td>DWDiagnostics_log</td><td>/var/opt/mssql/data/DWDiagnostics_log.ldf</td><td>0</td><td>ONLINE</td><td>9216</td><td>268435456</td><td>8192</td><td>0</td><td>0</td><td>0</td><td>0</td><td>0</td><td>0</td><td>NULL</td><td>NULL</td><td>NULL</td><td>NULL</td><td>NULL</td><td>NULL</td><td>NULL</td><td>NULL</td><td>NULL</td><td>NULL</td><td>NULL</td><td>NULL</td><td>NULL</td></tr><tr><td>6</td><td>1</td><td>102c6552-92f3-483f-afd2-806c2b0147d4</td><td>0</td><td>ROWS</td><td>1</td><td>DWConfiguration</td><td>/var/opt/mssql/data/DWConfiguration.mdf</td><td>0</td><td>ONLINE</td><td>1024</td><td>-1</td><td>8192</td><td>0</td><td>0</td><td>0</td><td>0</td><td>0</td><td>0</td><td>NULL</td><td>NULL</td><td>NULL</td><td>NULL</td><td>NULL</td><td>NULL</td><td>NULL</td><td>NULL</td><td>NULL</td><td>NULL</td><td>NULL</td><td>NULL</td><td>NULL</td></tr><tr><td>6</td><td>2</td><td>85c7f32d-c686-4adb-a631-bd9ab5d5493b</td><td>1</td><td>LOG</td><td>0</td><td>DWConfiguration_log</td><td>/var/opt/mssql/data/DWConfiguration_log.ldf</td><td>0</td><td>ONLINE</td><td>1024</td><td>268435456</td><td>8192</td><td>0</td><td>0</td><td>0</td><td>0</td><td>0</td><td>0</td><td>NULL</td><td>NULL</td><td>NULL</td><td>NULL</td><td>NULL</td><td>NULL</td><td>NULL</td><td>NULL</td><td>NULL</td><td>NULL</td><td>NULL</td><td>NULL</td><td>NULL</td></tr><tr><td>7</td><td>1</td><td>c3a66027-97db-45d1-a755-14c74ee47a65</td><td>0</td><td>ROWS</td><td>1</td><td>DWQueue</td><td>/var/opt/mssql/data/DWQueue.mdf</td><td>0</td><td>ONLINE</td><td>1024</td><td>-1</td><td>8192</td><td>0</td><td>0</td><td>0</td><td>0</td><td>0</td><td>0</td><td>NULL</td><td>NULL</td><td>NULL</td><td>NULL</td><td>NULL</td><td>NULL</td><td>NULL</td><td>NULL</td><td>NULL</td><td>NULL</td><td>NULL</td><td>NULL</td><td>NULL</td></tr><tr><td>7</td><td>2</td><td>a83e7399-6476-4e8a-9bd2-73cea36548fd</td><td>1</td><td>LOG</td><td>0</td><td>DWQueue_log</td><td>/var/opt/mssql/data/DWQueue_log.ldf</td><td>0</td><td>ONLINE</td><td>1024</td><td>268435456</td><td>8192</td><td>0</td><td>0</td><td>0</td><td>0</td><td>0</td><td>0</td><td>NULL</td><td>NULL</td><td>NULL</td><td>NULL</td><td>NULL</td><td>NULL</td><td>NULL</td><td>NULL</td><td>NULL</td><td>NULL</td><td>NULL</td><td>NULL</td><td>NULL</td></tr></table>"
                    },
                    "metadata": {}
                }
            ],
            "execution_count": 1
        },
        {
            "cell_type": "markdown",
            "source": "## Ingest data into the SQL Server Databases\r\n\r\nBefore we start working with data, we need to bring it in to the system. We have several options to do that, from the `bcp` utility to SQL Server Integration Services, the Azure Data Factory and more. \r\n\r\nFor the structured data, we'll use the SQL Server `RESTORE` command to bring in two databases from the location we specified earlier with the `kubectl` command.\r\n\r\nThe Code below shows all of that: ",
            "metadata": {}
        },
        {
            "cell_type": "code",
            "source": "/* Add the Customer Databases for Wide World Importers */\r\nUSE [master]\r\nRESTORE DATABASE [WideWorldImporters] \r\nFROM  DISK = N'/var/opt/mssql/data/WWI.bak' \r\nWITH  FILE = 1\r\n,  REPLACE\r\n,  MOVE N'WWI_Primary' TO N'/var/opt/mssql/data/WideWorldImporters.mdf'\r\n,  MOVE N'WWI_UserData' TO N'/var/opt/mssql/data/WideWorldImporters_UserData.ndf'\r\n,  MOVE N'WWI_Log' TO N'/var/opt/mssql/data/WideWorldImporters.ldf'\r\n,  MOVE N'WWI_InMemory_Data_1' TO N'/var/opt/mssql/data/WideWorldImporters_InMemory_Data_1'\r\n,  NOUNLOAD,  STATS = 5;\r\nGO\r\n",
            "metadata": {},
            "outputs": [],
            "execution_count": 1
        },
        {
            "cell_type": "markdown",
            "source": "## Query Data\r\n\r\nThe SQL Server 2019 big data cluster Master Instance is a SQL Server Instance - and as such has most all of the query facilities and capabilities of Microsoft SQL Server running on Linux.\r\n\r\n**TODO:** Run some standard queries. Investigate simple ML.",
            "metadata": {}
        },
        {
            "cell_type": "code",
            "source": "/* Get some general information about the data in the WWI OLTP system */\r\nUSE WideWorldImporters;\r\nGO\r\n\r\n/* Show the Populations. \r\nWhere do we have the most people?\r\n */\r\nSELECT TOP 10 CityName as 'City Name'\r\n, StateProvinceName as 'State or Province'\r\n, sp.LatestRecordedPopulation as 'Population'\r\n, CountryName\r\nFROM Application.Cities AS city\r\nJOIN Application.StateProvinces AS sp on\r\n    city.StateProvinceID = sp.StateProvinceID\r\nJOIN Application.Countries AS ctry on \r\n    sp.CountryID=ctry.CountryID\r\n",
            "metadata": {},
            "outputs": [
                {
                    "output_type": "display_data",
                    "data": {
                        "text/html": "Commands completed successfully."
                    },
                    "metadata": {}
                },
                {
                    "output_type": "display_data",
                    "data": {
                        "text/html": "Total execution time: 00:00:00.0777492"
                    },
                    "metadata": {}
                },
                {
                    "output_type": "display_data",
                    "data": {
                        "text/html": "(10 rows affected)"
                    },
                    "metadata": {}
                },
                {
                    "output_type": "display_data",
                    "data": {
                        "text/html": "Total execution time: 00:00:00.2088759"
                    },
                    "metadata": {}
                },
                {
                    "output_type": "execute_result",
                    "metadata": {},
                    "execution_count": 2,
                    "data": {
                        "application/vnd.dataresource+json": {
                            "schema": {
                                "fields": [
                                    {
                                        "name": "City Name"
                                    },
                                    {
                                        "name": "State or Province"
                                    },
                                    {
                                        "name": "Population"
                                    },
                                    {
                                        "name": "CountryName"
                                    }
                                ]
                            },
                            "data": [
                                {
                                    "0": "Abbeville",
                                    "1": "Georgia",
                                    "2": "9992167",
                                    "3": "United States"
                                },
                                {
                                    "0": "Acree",
                                    "1": "Georgia",
                                    "2": "9992167",
                                    "3": "United States"
                                },
                                {
                                    "0": "Acworth",
                                    "1": "Georgia",
                                    "2": "9992167",
                                    "3": "United States"
                                },
                                {
                                    "0": "Adairsville",
                                    "1": "Georgia",
                                    "2": "9992167",
                                    "3": "United States"
                                },
                                {
                                    "0": "Adel",
                                    "1": "Georgia",
                                    "2": "9992167",
                                    "3": "United States"
                                },
                                {
                                    "0": "Adgateville",
                                    "1": "Georgia",
                                    "2": "9992167",
                                    "3": "United States"
                                },
                                {
                                    "0": "Adrian",
                                    "1": "Georgia",
                                    "2": "9992167",
                                    "3": "United States"
                                },
                                {
                                    "0": "Ailey",
                                    "1": "Georgia",
                                    "2": "9992167",
                                    "3": "United States"
                                },
                                {
                                    "0": "Alamo",
                                    "1": "Georgia",
                                    "2": "9992167",
                                    "3": "United States"
                                },
                                {
                                    "0": "Alapaha",
                                    "1": "Georgia",
                                    "2": "9992167",
                                    "3": "United States"
                                }
                            ]
                        },
                        "text/html": "<table><tr><th>City Name</th><th>State or Province</th><th>Population</th><th>CountryName</th></tr><tr><td>Abbeville</td><td>Georgia</td><td>9992167</td><td>United States</td></tr><tr><td>Acree</td><td>Georgia</td><td>9992167</td><td>United States</td></tr><tr><td>Acworth</td><td>Georgia</td><td>9992167</td><td>United States</td></tr><tr><td>Adairsville</td><td>Georgia</td><td>9992167</td><td>United States</td></tr><tr><td>Adel</td><td>Georgia</td><td>9992167</td><td>United States</td></tr><tr><td>Adgateville</td><td>Georgia</td><td>9992167</td><td>United States</td></tr><tr><td>Adrian</td><td>Georgia</td><td>9992167</td><td>United States</td></tr><tr><td>Ailey</td><td>Georgia</td><td>9992167</td><td>United States</td></tr><tr><td>Alamo</td><td>Georgia</td><td>9992167</td><td>United States</td></tr><tr><td>Alapaha</td><td>Georgia</td><td>9992167</td><td>United States</td></tr></table>"
                    }
                }
            ],
            "execution_count": 2
        },
        {
            "cell_type": "code",
            "source": "/* Show Customer Sales in WWI OLTP\r\nWhere do we have the most customers?\r\n*/\r\nUSE WideWorldImporters;\r\nGO\r\n\r\nSELECT TOP 10 s.CustomerID\r\n, s.CustomerName\r\n, sc.CustomerCategoryName\r\n,  pp.FullName AS PrimaryContact\r\n,  ap.FullName AS AlternateContact\r\n,  s.PhoneNumber\r\n,  s.FaxNumber\r\n,  bg.BuyingGroupName\r\n,  s.WebsiteURL\r\n,  dm.DeliveryMethodName AS DeliveryMethod\r\n,  c.CityName AS CityName\r\n,  s.DeliveryLocation AS DeliveryLocation\r\n,  s.DeliveryRun\r\n,  s.RunPosition\r\nFROM Sales.Customers AS s\r\n    LEFT OUTER JOIN Sales.CustomerCategories AS sc\r\n    ON s.CustomerCategoryID = sc.CustomerCategoryID\r\n    LEFT OUTER JOIN [Application].People AS pp\r\n    ON s.PrimaryContactPersonID = pp.PersonID\r\n    LEFT OUTER JOIN [Application].People AS ap\r\n    ON s.AlternateContactPersonID = ap.PersonID\r\n    LEFT OUTER JOIN Sales.BuyingGroups AS bg\r\n    ON s.BuyingGroupID = bg.BuyingGroupID\r\n    LEFT OUTER JOIN [Application].DeliveryMethods AS dm\r\n    ON s.DeliveryMethodID = dm.DeliveryMethodID\r\n    LEFT OUTER JOIN [Application].Cities AS c\r\n    ON s.DeliveryCityID = c.CityID",
            "metadata": {},
            "outputs": [
                {
                    "output_type": "display_data",
                    "data": {
                        "text/html": "Commands completed successfully."
                    },
                    "metadata": {}
                },
                {
                    "output_type": "display_data",
                    "data": {
                        "text/html": "Total execution time: 00:00:00.0772630"
                    },
                    "metadata": {}
                },
                {
                    "output_type": "display_data",
                    "data": {
                        "text/html": "(10 rows affected)"
                    },
                    "metadata": {}
                },
                {
                    "output_type": "display_data",
                    "data": {
                        "text/html": "Total execution time: 00:00:00.0879768"
                    },
                    "metadata": {}
                },
                {
                    "output_type": "execute_result",
                    "metadata": {},
                    "execution_count": 4,
                    "data": {
                        "application/vnd.dataresource+json": {
                            "schema": {
                                "fields": [
                                    {
                                        "name": "CustomerID"
                                    },
                                    {
                                        "name": "CustomerName"
                                    },
                                    {
                                        "name": "CustomerCategoryName"
                                    },
                                    {
                                        "name": "PrimaryContact"
                                    },
                                    {
                                        "name": "AlternateContact"
                                    },
                                    {
                                        "name": "PhoneNumber"
                                    },
                                    {
                                        "name": "FaxNumber"
                                    },
                                    {
                                        "name": "BuyingGroupName"
                                    },
                                    {
                                        "name": "WebsiteURL"
                                    },
                                    {
                                        "name": "DeliveryMethod"
                                    },
                                    {
                                        "name": "CityName"
                                    },
                                    {
                                        "name": "DeliveryLocation"
                                    },
                                    {
                                        "name": "DeliveryRun"
                                    },
                                    {
                                        "name": "RunPosition"
                                    }
                                ]
                            },
                            "data": [
                                {
                                    "0": "1",
                                    "1": "Tailspin Toys (Head Office)",
                                    "2": "Novelty Shop",
                                    "3": "Waldemar Fisar",
                                    "4": "Laimonis Berzins",
                                    "5": "(308) 555-0100",
                                    "6": "(308) 555-0101",
                                    "7": "Tailspin Toys",
                                    "8": "http://www.tailspintoys.com",
                                    "9": "Delivery Van",
                                    "10": "Lisco",
                                    "11": "0xE6100000010CE73F5A52A4BF444010638852B1A759C0",
                                    "12": "",
                                    "13": ""
                                },
                                {
                                    "0": "2",
                                    "1": "Tailspin Toys (Sylvanite, MT)",
                                    "2": "Novelty Shop",
                                    "3": "Lorena Cindric",
                                    "4": "Hung Van Groesen",
                                    "5": "(406) 555-0100",
                                    "6": "(406) 555-0101",
                                    "7": "Tailspin Toys",
                                    "8": "http://www.tailspintoys.com/Sylvanite",
                                    "9": "Delivery Van",
                                    "10": "Sylvanite",
                                    "11": "0xE6100000010CF37A8BE2B05B4840056FA35CF5F75CC0",
                                    "12": "",
                                    "13": ""
                                },
                                {
                                    "0": "3",
                                    "1": "Tailspin Toys (Peeples Valley, AZ)",
                                    "2": "Novelty Shop",
                                    "3": "Bhaargav Rambhatla",
                                    "4": "Mudar Jevtic",
                                    "5": "(480) 555-0100",
                                    "6": "(480) 555-0101",
                                    "7": "Tailspin Toys",
                                    "8": "http://www.tailspintoys.com/PeeplesValley",
                                    "9": "Delivery Van",
                                    "10": "Peeples Valley",
                                    "11": "0xE6100000010CC97553CA6B2241404FACF82B892E5CC0",
                                    "12": "",
                                    "13": ""
                                },
                                {
                                    "0": "6",
                                    "1": "Tailspin Toys (Jessie, ND)",
                                    "2": "Novelty Shop",
                                    "3": "Biswajeet Thakur",
                                    "4": "Radha Shah",
                                    "5": "(701) 555-0100",
                                    "6": "(701) 555-0101",
                                    "7": "Tailspin Toys",
                                    "8": "http://www.tailspintoys.com/Jessie",
                                    "9": "Delivery Van",
                                    "10": "Jessie",
                                    "11": "0xE6100000010CB9A6406667C54740BD7E77E13D8F58C0",
                                    "12": "",
                                    "13": ""
                                },
                                {
                                    "0": "7",
                                    "1": "Tailspin Toys (Frankewing, TN)",
                                    "2": "Novelty Shop",
                                    "3": "Kalidas Nadar",
                                    "4": "Filip Nedvidek",
                                    "5": "(423) 555-0100",
                                    "6": "(423) 555-0101",
                                    "7": "Tailspin Toys",
                                    "8": "http://www.tailspintoys.com/Frankewing",
                                    "9": "Delivery Van",
                                    "10": "Frankewing",
                                    "11": "0xE6100000010C8DEE2076A6984140C8EBC1A478B655C0",
                                    "12": "",
                                    "13": ""
                                },
                                {
                                    "0": "8",
                                    "1": "Tailspin Toys (Bow Mar, CO)",
                                    "2": "Novelty Shop",
                                    "3": "Kanti Kotadia",
                                    "4": "Hoa Cu",
                                    "5": "(303) 555-0100",
                                    "6": "(303) 555-0101",
                                    "7": "Tailspin Toys",
                                    "8": "http://www.tailspintoys.com/BowMar",
                                    "9": "Delivery Van",
                                    "10": "Bow Mar",
                                    "11": "0xE6100000010CEC3191D26CD043407BB482F032435AC0",
                                    "12": "",
                                    "13": ""
                                },
                                {
                                    "0": "9",
                                    "1": "Tailspin Toys (Netcong, NJ)",
                                    "2": "Novelty Shop",
                                    "3": "Sointu Aalto",
                                    "4": "Jae-Gon Min",
                                    "5": "(201) 555-0100",
                                    "6": "(201) 555-0101",
                                    "7": "Tailspin Toys",
                                    "8": "http://www.tailspintoys.com/Netcong",
                                    "9": "Delivery Van",
                                    "10": "Netcong",
                                    "11": "0xE6100000010CCD80690712734440EFBB332438AD52C0",
                                    "12": "",
                                    "13": ""
                                },
                                {
                                    "0": "10",
                                    "1": "Tailspin Toys (Wimbledon, ND)",
                                    "2": "Novelty Shop",
                                    "3": "Siddhartha Parkar",
                                    "4": "Paula Matos",
                                    "5": "(701) 555-0100",
                                    "6": "(701) 555-0101",
                                    "7": "Tailspin Toys",
                                    "8": "http://www.tailspintoys.com/Wimbledon",
                                    "9": "Delivery Van",
                                    "10": "Wimbledon",
                                    "11": "0xE6100000010CEF14BC32B9954740CEE737A76D9D58C0",
                                    "12": "",
                                    "13": ""
                                },
                                {
                                    "0": "11",
                                    "1": "Tailspin Toys (Devault, PA)",
                                    "2": "Novelty Shop",
                                    "3": "Elnaz Javan",
                                    "4": "Jayashish Ghatak",
                                    "5": "(215) 555-0100",
                                    "6": "(215) 555-0101",
                                    "7": "Tailspin Toys",
                                    "8": "http://www.tailspintoys.com/Devault",
                                    "9": "Delivery Van",
                                    "10": "Devault",
                                    "11": "0xE6100000010C18343EDD8A094440681888AF40E252C0",
                                    "12": "",
                                    "13": ""
                                },
                                {
                                    "0": "12",
                                    "1": "Tailspin Toys (Biscay, MN)",
                                    "2": "Novelty Shop",
                                    "3": "Heloisa Fernandes",
                                    "4": "Amornrat Rattanaporn",
                                    "5": "(218) 555-0100",
                                    "6": "(218) 555-0101",
                                    "7": "Tailspin Toys",
                                    "8": "http://www.tailspintoys.com/Biscay",
                                    "9": "Delivery Van",
                                    "10": "Biscay",
                                    "11": "0xE6100000010C4D158C4AEA69464040232246999157C0",
                                    "12": "",
                                    "13": ""
                                }
                            ]
                        },
                        "text/html": "<table><tr><th>CustomerID</th><th>CustomerName</th><th>CustomerCategoryName</th><th>PrimaryContact</th><th>AlternateContact</th><th>PhoneNumber</th><th>FaxNumber</th><th>BuyingGroupName</th><th>WebsiteURL</th><th>DeliveryMethod</th><th>CityName</th><th>DeliveryLocation</th><th>DeliveryRun</th><th>RunPosition</th></tr><tr><td>1</td><td>Tailspin Toys (Head Office)</td><td>Novelty Shop</td><td>Waldemar Fisar</td><td>Laimonis Berzins</td><td>(308) 555-0100</td><td>(308) 555-0101</td><td>Tailspin Toys</td><td>http://www.tailspintoys.com</td><td>Delivery Van</td><td>Lisco</td><td>0xE6100000010CE73F5A52A4BF444010638852B1A759C0</td><td></td><td></td></tr><tr><td>2</td><td>Tailspin Toys (Sylvanite, MT)</td><td>Novelty Shop</td><td>Lorena Cindric</td><td>Hung Van Groesen</td><td>(406) 555-0100</td><td>(406) 555-0101</td><td>Tailspin Toys</td><td>http://www.tailspintoys.com/Sylvanite</td><td>Delivery Van</td><td>Sylvanite</td><td>0xE6100000010CF37A8BE2B05B4840056FA35CF5F75CC0</td><td></td><td></td></tr><tr><td>3</td><td>Tailspin Toys (Peeples Valley, AZ)</td><td>Novelty Shop</td><td>Bhaargav Rambhatla</td><td>Mudar Jevtic</td><td>(480) 555-0100</td><td>(480) 555-0101</td><td>Tailspin Toys</td><td>http://www.tailspintoys.com/PeeplesValley</td><td>Delivery Van</td><td>Peeples Valley</td><td>0xE6100000010CC97553CA6B2241404FACF82B892E5CC0</td><td></td><td></td></tr><tr><td>6</td><td>Tailspin Toys (Jessie, ND)</td><td>Novelty Shop</td><td>Biswajeet Thakur</td><td>Radha Shah</td><td>(701) 555-0100</td><td>(701) 555-0101</td><td>Tailspin Toys</td><td>http://www.tailspintoys.com/Jessie</td><td>Delivery Van</td><td>Jessie</td><td>0xE6100000010CB9A6406667C54740BD7E77E13D8F58C0</td><td></td><td></td></tr><tr><td>7</td><td>Tailspin Toys (Frankewing, TN)</td><td>Novelty Shop</td><td>Kalidas Nadar</td><td>Filip Nedvidek</td><td>(423) 555-0100</td><td>(423) 555-0101</td><td>Tailspin Toys</td><td>http://www.tailspintoys.com/Frankewing</td><td>Delivery Van</td><td>Frankewing</td><td>0xE6100000010C8DEE2076A6984140C8EBC1A478B655C0</td><td></td><td></td></tr><tr><td>8</td><td>Tailspin Toys (Bow Mar, CO)</td><td>Novelty Shop</td><td>Kanti Kotadia</td><td>Hoa Cu</td><td>(303) 555-0100</td><td>(303) 555-0101</td><td>Tailspin Toys</td><td>http://www.tailspintoys.com/BowMar</td><td>Delivery Van</td><td>Bow Mar</td><td>0xE6100000010CEC3191D26CD043407BB482F032435AC0</td><td></td><td></td></tr><tr><td>9</td><td>Tailspin Toys (Netcong, NJ)</td><td>Novelty Shop</td><td>Sointu Aalto</td><td>Jae-Gon Min</td><td>(201) 555-0100</td><td>(201) 555-0101</td><td>Tailspin Toys</td><td>http://www.tailspintoys.com/Netcong</td><td>Delivery Van</td><td>Netcong</td><td>0xE6100000010CCD80690712734440EFBB332438AD52C0</td><td></td><td></td></tr><tr><td>10</td><td>Tailspin Toys (Wimbledon, ND)</td><td>Novelty Shop</td><td>Siddhartha Parkar</td><td>Paula Matos</td><td>(701) 555-0100</td><td>(701) 555-0101</td><td>Tailspin Toys</td><td>http://www.tailspintoys.com/Wimbledon</td><td>Delivery Van</td><td>Wimbledon</td><td>0xE6100000010CEF14BC32B9954740CEE737A76D9D58C0</td><td></td><td></td></tr><tr><td>11</td><td>Tailspin Toys (Devault, PA)</td><td>Novelty Shop</td><td>Elnaz Javan</td><td>Jayashish Ghatak</td><td>(215) 555-0100</td><td>(215) 555-0101</td><td>Tailspin Toys</td><td>http://www.tailspintoys.com/Devault</td><td>Delivery Van</td><td>Devault</td><td>0xE6100000010C18343EDD8A094440681888AF40E252C0</td><td></td><td></td></tr><tr><td>12</td><td>Tailspin Toys (Biscay, MN)</td><td>Novelty Shop</td><td>Heloisa Fernandes</td><td>Amornrat Rattanaporn</td><td>(218) 555-0100</td><td>(218) 555-0101</td><td>Tailspin Toys</td><td>http://www.tailspintoys.com/Biscay</td><td>Delivery Van</td><td>Biscay</td><td>0xE6100000010C4D158C4AEA69464040232246999157C0</td><td></td><td></td></tr></table>"
                    }
                }
            ],
            "execution_count": 4
        },
        {
            "cell_type": "markdown",
            "source": "## Next Step: Data Virtualization\r\n\r\n**TODO:** Add Link",
            "metadata": {}
        }
    ]
}