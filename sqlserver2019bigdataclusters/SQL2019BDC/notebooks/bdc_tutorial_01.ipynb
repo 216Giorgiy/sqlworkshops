{
    "metadata": {
        "kernelspec": {
            "name": "SQL",
            "display_name": "SQL",
            "language": "sql"
        },
        "language_info": {
            "name": "sql",
            "version": ""
        }
    },
    "nbformat_minor": 2,
    "nbformat": 4,
    "cells": [
        {
            "cell_type": "markdown",
            "source": "<img src=\"https://github.com/Microsoft/sqlworkshops/blob/master/graphics/solutions-microsoft-logo-small.png?raw=true\" alt=\"Microsoft\">\r\n<br>\r\n\r\n# SQL Server 2019 big data cluster Tutorial\r\n## 01 - SQL Server Master Instance Queries\r\n\r\nIn this tutorial you will learn how to run standard SQL Server Queries against the Master Instance (MI) in a SQL Server big data cluster. \r\n\r\nWe'll start with a simple set of queries to explore the Instance: \r\n\r\n",
            "metadata": {}
        },
        {
            "cell_type": "code",
            "source": "/* Instance Version */\r\nSELECT @@VERSION; \r\nGO\r\n\r\n/* General Configuration */\r\nUSE master;  \r\nGO  \r\nEXEC sp_configure;\r\nGO\r\n\r\n/* Databases on this Instance */\r\nSELECT db.name AS 'Database Name'\r\n, Physical_Name AS 'Location on Disk'\r\n, Cast(Cast(Round(cast(mf.size as decimal) * 8.0/1024000.0,2) as decimal(18,2)) as nvarchar) 'Size (GB)'\r\nFROM sys.master_files mf\r\nINNER JOIN \r\n    sys.databases db ON db.database_id = mf.database_id\r\nWHERE mf.type_desc = 'ROWS';\r\nGO\r\n\r\nSELECT * from sys.master_files\r\n",
            "metadata": {},
            "outputs": [],
            "execution_count": 15
        },
        {
            "cell_type": "markdown",
            "source": "## Ingest data into the SQL Server Databases\r\n\r\nBefore we start working with data, we need to bring it in to the system. We have several options to do that, from the `bcp` utility to SQL Server Integration Services, the Azure Data Factory and more. \r\n\r\nFor the structured data, we'll use the SQL Server `RESTORE` command to bring in databases from a location on the web, where we have database backups stored in a Blob (Binary Large Object) inside Microsoft Azure. To restore databases from that blob, we'll use a kind of authentication called a \"Shared Access Signature\" - a sort of token that allows you to access a file for a short period of time. We'll first create that Token as a SQL Server \"Credential\". \r\n\r\nWe'll then use the `RESTORE` command in SQL Server to restore the databases from the URL, which will call out to the Credential automatically. \r\n\r\nThe Code below shows all of that: ",
            "metadata": {}
        },
        {
            "cell_type": "code",
            "source": "USE master\r\n/* \r\nDROP CREDENTIAL [https://cs7a9736a9346a1x44c6xb00.blob.core.windows.net/backups]\r\nGO\r\n*/\r\n\r\nCREATE CREDENTIAL [https://cs7a9736a9346a1x44c6xb00.blob.core.windows.net/backups] \r\n   WITH IDENTITY = 'SHARED ACCESS SIGNATURE',  \r\n   SECRET = 'sp=r&st=2019-03-28T18:31:35Z&se=2020-03-29T02:31:35Z&spr=https&sv=2018-03-28&sig=psWVkJ%2F41JMmTKziszSduVYDGOYL546GmaaEsbowi6Q%3D&sr=b';\r\n\r\nRESTORE DATABASE [WideWorldImportersDW] \r\n    FROM URL = 'https://cs7a9736a9346a1x44c6xb00.blob.core.windows.net/backups/WWIDW.bak'\r\nGO",
            "metadata": {},
            "outputs": [],
            "execution_count": 3
        },
        {
            "cell_type": "markdown",
            "source": "## Query Data\r\n\r\nThe SQL Server 2019 big data cluster Master Instance is a SQL Server Instance - and as such has most all of the query facilities and capabilities of Microsoft SQL Server running on Linux.\r\n\r\n**TODO:** Run some standard queries. Investigate simple ML.",
            "metadata": {}
        }
    ]
}