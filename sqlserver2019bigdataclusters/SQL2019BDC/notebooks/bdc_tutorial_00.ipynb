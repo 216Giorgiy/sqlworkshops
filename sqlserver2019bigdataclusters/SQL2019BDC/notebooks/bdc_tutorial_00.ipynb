{
    "metadata": {
        "kernelspec": {
            "name": "python3",
            "display_name": "Python 3"
        },
        "language_info": {
            "name": "python",
            "version": "3.6.6",
            "mimetype": "text/x-python",
            "codemirror_mode": {
                "name": "ipython",
                "version": 3
            },
            "pygments_lexer": "ipython3",
            "nbconvert_exporter": "python",
            "file_extension": ".py"
        }
    },
    "nbformat_minor": 2,
    "nbformat": 4,
    "cells": [
        {
            "cell_type": "markdown",
            "source": "<img src=\"https://github.com/Microsoft/sqlworkshops/blob/master/graphics/solutions-microsoft-logo-small.png?raw=true\" alt=\"Microsoft\">\r\n<br>\r\n\r\n# SQL Server 2019 big data cluster Tutorial\r\n## 00 - Scenario Overview and System Setup\r\n\r\nIn this set of tutorials you'll work with an end-to-end scenario that uses SQL Server 2019's big data clusters to solve real-world problems. \r\n",
            "metadata": {}
        },
        {
            "cell_type": "markdown",
            "source": "## Wide World Importers\r\n\r\n**TODO:** Describe company and use-case",
            "metadata": {}
        },
        {
            "cell_type": "markdown",
            "source": "## Running these Tutorials\r\n\r\n - You'll need a SQL Server 2019 big data cluster installed to work through these tutorials, or you can just look at the output of these completed tutorials. \r\n\r\n- To set up your own cluster, check this location and follow the steps you see there. **TODO:** link to install\r\n\r\n- You can follow along with the steps you see in these tutorials by copying what you see into a SQL Query window and Spark Notebook using the Azure Data Studio tool. \r\n\r\n- You can also download these Jupyter Notebooks and run them in Azure Data Studio for a more interactive experience.\r\n\r\n- For a complete workshop on SQL Server 2019's big data clusters, check out this resource. **TODO:** link to bdc ws",
            "metadata": {}
        },
        {
            "cell_type": "markdown",
            "source": "## Copy Files to the SQL Server 2019 big data cluster\r\n\r\n**TODO:** describe curl, etc. Code for file transfer",
            "metadata": {}
        },
        {
            "cell_type": "code",
            "source": "!md c:\\temp\r\n!dir c:\\temp",
            "metadata": {},
            "outputs": [],
            "execution_count": 2
        },
        {
            "cell_type": "markdown",
            "source": "## Next Step: Working with the SQL Server 2019 big data cluster Master Instance\r\n\r\n**TODO:** Add Link",
            "metadata": {}
        }
    ]
}