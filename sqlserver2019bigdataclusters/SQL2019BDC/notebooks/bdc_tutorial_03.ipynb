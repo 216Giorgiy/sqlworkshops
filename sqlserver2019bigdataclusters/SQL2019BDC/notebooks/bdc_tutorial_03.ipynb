{
    "metadata": {
        "kernelspec": {
            "name": "SQL",
            "display_name": "SQL",
            "language": "sql"
        },
        "language_info": {
            "name": "sql",
            "version": ""
        }
    },
    "nbformat_minor": 2,
    "nbformat": 4,
    "cells": [
        {
            "cell_type": "markdown",
            "source": "<img src=\"https://github.com/Microsoft/sqlworkshops/blob/master/graphics/solutions-microsoft-logo-small.png?raw=true\" alt=\"Microsoft\">\r\n<br>\r\n\r\n# SQL Server 2019 big data cluster Tutorial\r\n## 03 - Creating and Querying a Data Mart\r\n\r\nIn this tutorial you will learn how to create and query a Data Mart using Virtualized Data in a SQL Server big data cluster. \r\n\r\n**TODO:** Complete Tutorial ",
            "metadata": {}
        },
        {
            "cell_type": "code",
            "source": "USE WideWorldImporters;\r\nGO\r\n\r\nIF NOT EXISTS(SELECT * FROM sys.external_data_sources WHERE name = 'SqlDataPool')\r\n  CREATE EXTERNAL DATA SOURCE SqlDataPool\r\n  WITH (LOCATION = 'sqldatapool://service-mssql-controller:8080/datapools/default');",
            "metadata": {},
            "outputs": [
                {
                    "output_type": "display_data",
                    "data": {
                        "text/html": "Commands completed successfully."
                    },
                    "metadata": {}
                },
                {
                    "output_type": "display_data",
                    "data": {
                        "text/html": "Total execution time: 00:00:00.0030108"
                    },
                    "metadata": {}
                },
                {
                    "output_type": "display_data",
                    "data": {
                        "text/html": "Commands completed successfully."
                    },
                    "metadata": {}
                },
                {
                    "output_type": "display_data",
                    "data": {
                        "text/html": "Total execution time: 00:00:00.2592320"
                    },
                    "metadata": {}
                }
            ],
            "execution_count": 9
        },
        {
            "cell_type": "code",
            "source": "CREATE EXTERNAL TABLE [web_clickstream_clicks_data_pool]\r\n(\"wcs_click_date_sk\" BIGINT , \"wcs_click_time_sk\" BIGINT , \"wcs_sales_sk\" BIGINT , \"wcs_item_sk\" BIGINT, \"wcs_web_page_sk\" BIGINT , \"wcs_user_sk\" BIGINT)\r\nWITH\r\n(\r\n    DATA_SOURCE = SqlDataPool,\r\n    DISTRIBUTION = ROUND_ROBIN\r\n);",
            "metadata": {},
            "outputs": [
                {
                    "output_type": "display_data",
                    "data": {
                        "text/html": "Commands completed successfully."
                    },
                    "metadata": {}
                },
                {
                    "output_type": "display_data",
                    "data": {
                        "text/html": "Total execution time: 00:00:01.8526029"
                    },
                    "metadata": {}
                }
            ],
            "execution_count": 10
        },
        {
            "cell_type": "code",
            "source": "/* Create an External Table that can read from the Storage Pool File Location */\r\nIF NOT EXISTS(SELECT * FROM sys.external_tables WHERE name = 'web_customers_hdfs')\r\nBEGIN\r\n    CREATE EXTERNAL TABLE [web_customers_hdfs]\r\n    (FieldName\" VARCHAR(250) \r\n)\r\n    WITH\r\n    (\r\n        DATA_SOURCE = SqlStoragePool,\r\n        LOCATION = '/adventureworks_export',\r\n        FILE_FORMAT = csv_file\r\n    );\r\nEND",
            "metadata": {},
            "outputs": []
        },
        {
            "cell_type": "code",
            "source": "BEGIN\r\n   INSERT INTO web_clickstream_clicks_data_pool\r\n   SELECT wcs_user_sk, i_category_id, COUNT_BIG(*) as clicks\r\n     FROM web_clickstreams_hdfs\r\nEND",
            "metadata": {},
            "outputs": [
                {
                    "output_type": "error",
                    "evalue": "Msg 208, Level 16, State 1, Line 2\r\nInvalid object name 'sales.dbo.web_clickstreams_hdfs_parquet'.",
                    "ename": "",
                    "traceback": []
                },
                {
                    "output_type": "display_data",
                    "data": {
                        "text/html": "Total execution time: 00:00:00.0044263"
                    },
                    "metadata": {}
                }
            ],
            "execution_count": 12
        },
        {
            "cell_type": "code",
            "source": "SELECT count(*) FROM [dbo].[web_clickstream_clicks_data_pool]\r\nSELECT TOP 10 * FROM [dbo].[web_clickstream_clicks_data_pool]",
            "metadata": {},
            "outputs": [
                {
                    "output_type": "display_data",
                    "data": {
                        "text/html": "(1 row affected)"
                    },
                    "metadata": {}
                },
                {
                    "output_type": "display_data",
                    "data": {
                        "text/html": "(10 rows affected)"
                    },
                    "metadata": {}
                },
                {
                    "output_type": "display_data",
                    "data": {
                        "text/html": "Total execution time: 00:00:03.4759142"
                    },
                    "metadata": {}
                },
                {
                    "output_type": "execute_result",
                    "execution_count": 22,
                    "data": {
                        "application/vnd.dataresource+json": {
                            "schema": {
                                "fields": [
                                    {
                                        "name": "(No column name)"
                                    }
                                ]
                            },
                            "data": [
                                {
                                    "0": "512000"
                                }
                            ]
                        },
                        "text/html": "<table><tr><th>(No column name)</th></tr><tr><td>512000</td></tr></table>"
                    },
                    "metadata": {}
                },
                {
                    "output_type": "execute_result",
                    "execution_count": 22,
                    "data": {
                        "application/vnd.dataresource+json": {
                            "schema": {
                                "fields": [
                                    {
                                        "name": "wcs_click_date_sk"
                                    },
                                    {
                                        "name": "wcs_click_time_sk"
                                    },
                                    {
                                        "name": "wcs_sales_sk"
                                    },
                                    {
                                        "name": "wcs_item_sk"
                                    },
                                    {
                                        "name": "wcs_web_page_sk"
                                    },
                                    {
                                        "name": "wcs_user_sk"
                                    }
                                ]
                            },
                            "data": [
                                {
                                    "0": "37019",
                                    "1": "85961",
                                    "2": "NULL",
                                    "3": "3971",
                                    "4": "14",
                                    "5": "NULL"
                                },
                                {
                                    "0": "37019",
                                    "1": "24228",
                                    "2": "NULL",
                                    "3": "3716",
                                    "4": "14",
                                    "5": "NULL"
                                },
                                {
                                    "0": "37019",
                                    "1": "62814",
                                    "2": "NULL",
                                    "3": "3143",
                                    "4": "14",
                                    "5": "NULL"
                                },
                                {
                                    "0": "37019",
                                    "1": "60131",
                                    "2": "NULL",
                                    "3": "13202",
                                    "4": "14",
                                    "5": "NULL"
                                },
                                {
                                    "0": "37019",
                                    "1": "48860",
                                    "2": "NULL",
                                    "3": "13714",
                                    "4": "14",
                                    "5": "NULL"
                                },
                                {
                                    "0": "37019",
                                    "1": "70453",
                                    "2": "NULL",
                                    "3": "248",
                                    "4": "14",
                                    "5": "NULL"
                                },
                                {
                                    "0": "37019",
                                    "1": "72847",
                                    "2": "NULL",
                                    "3": "6721",
                                    "4": "14",
                                    "5": "NULL"
                                },
                                {
                                    "0": "37019",
                                    "1": "50429",
                                    "2": "NULL",
                                    "3": "17647",
                                    "4": "14",
                                    "5": "NULL"
                                },
                                {
                                    "0": "37019",
                                    "1": "60478",
                                    "2": "NULL",
                                    "3": "16914",
                                    "4": "14",
                                    "5": "NULL"
                                },
                                {
                                    "0": "37019",
                                    "1": "63148",
                                    "2": "NULL",
                                    "3": "6664",
                                    "4": "14",
                                    "5": "NULL"
                                }
                            ]
                        },
                        "text/html": "<table><tr><th>wcs_click_date_sk</th><th>wcs_click_time_sk</th><th>wcs_sales_sk</th><th>wcs_item_sk</th><th>wcs_web_page_sk</th><th>wcs_user_sk</th></tr><tr><td>37019</td><td>85961</td><td>NULL</td><td>3971</td><td>14</td><td>NULL</td></tr><tr><td>37019</td><td>24228</td><td>NULL</td><td>3716</td><td>14</td><td>NULL</td></tr><tr><td>37019</td><td>62814</td><td>NULL</td><td>3143</td><td>14</td><td>NULL</td></tr><tr><td>37019</td><td>60131</td><td>NULL</td><td>13202</td><td>14</td><td>NULL</td></tr><tr><td>37019</td><td>48860</td><td>NULL</td><td>13714</td><td>14</td><td>NULL</td></tr><tr><td>37019</td><td>70453</td><td>NULL</td><td>248</td><td>14</td><td>NULL</td></tr><tr><td>37019</td><td>72847</td><td>NULL</td><td>6721</td><td>14</td><td>NULL</td></tr><tr><td>37019</td><td>50429</td><td>NULL</td><td>17647</td><td>14</td><td>NULL</td></tr><tr><td>37019</td><td>60478</td><td>NULL</td><td>16914</td><td>14</td><td>NULL</td></tr><tr><td>37019</td><td>63148</td><td>NULL</td><td>6664</td><td>14</td><td>NULL</td></tr></table>"
                    },
                    "metadata": {}
                }
            ],
            "execution_count": 22
        }
    ]
}