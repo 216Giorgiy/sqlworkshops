{
    "metadata": {
        "kernelspec": {
            "name": "SQL",
            "display_name": "SQL",
            "language": "sql"
        },
        "language_info": {
            "name": "sql",
            "version": ""
        }
    },
    "nbformat_minor": 2,
    "nbformat": 4,
    "cells": [
        {
            "cell_type": "markdown",
            "source": "<img src=\"https://github.com/Microsoft/sqlworkshops/blob/master/graphics/solutions-microsoft-logo-small.png?raw=true\" alt=\"Microsoft\">\r\n<br>\r\n\r\n# SQL Server 2019 big data cluster Tutorial\r\n## 02 - Data Virtualization\r\n\r\nIn this tutorial you will learn how to create and query Virtualized Data in a SQL Server big data cluster. \r\n\r\n**TODO:** Complete Tutorial \r\n",
            "metadata": {}
        },
        {
            "cell_type": "code",
            "source": "/* Create External File Format */\r\n\r\nUSE WideWorldImporters;\r\nGO\r\n\r\nIF NOT EXISTS(SELECT * FROM sys.external_file_formats WHERE name = 'csv_file')\r\nBEGIN\r\n    CREATE EXTERNAL FILE FORMAT csv_file\r\n    WITH (\r\n        FORMAT_TYPE = DELIMITEDTEXT,\r\n        FORMAT_OPTIONS(\r\n            FIELD_TERMINATOR = ',',\r\n            STRING_DELIMITER = '0x22',\r\n            FIRST_ROW = 2,\r\n            USE_TYPE_DEFAULT = TRUE)\r\n    );\r\nEND",
            "metadata": {},
            "outputs": [],
            "execution_count": 31
        },
        {
            "cell_type": "code",
            "source": "/* Create External Data Source to the Storage Pool */\r\nIF NOT EXISTS(SELECT * FROM sys.external_data_sources WHERE name = 'SqlStoragePool')\r\nBEGIN\r\n  IF (SELECT @@VERSION) LIKE '%CTP2.3%'\r\n    CREATE EXTERNAL DATA SOURCE SqlStoragePool\r\n    WITH (LOCATION = 'sqlhdfs://service-mssql-controller:8080');\r\n  ELSE IF (SELECT @@VERSION) LIKE '%CTP2.4%'\r\n    CREATE EXTERNAL DATA SOURCE SqlStoragePool\r\n    WITH (LOCATION = 'sqlhdfs://service-master-pool:50070');\r\nEND",
            "metadata": {},
            "outputs": [],
            "execution_count": 6
        },
        {
            "cell_type": "code",
            "source": "/* Create an External Table that can read from the Storage Pool File Location */\r\nIF NOT EXISTS(SELECT * FROM sys.external_tables WHERE name = 'web_customers_hdfs')\r\nBEGIN\r\n    CREATE EXTERNAL TABLE [web_customers_hdfs]\r\n    (\"CustomerCategoryName\" VARCHAR(250) \r\n    , \"PrimaryContact\" VARCHAR(250) \r\n    , \"WebsiteURL\" VARCHAR(250))\r\n    WITH\r\n    (\r\n        DATA_SOURCE = SqlStoragePool,\r\n        LOCATION = '/adventureworks_export',\r\n        FILE_FORMAT = csv_file\r\n    );\r\nEND",
            "metadata": {},
            "outputs": [],
            "execution_count": 40
        },
        {
            "cell_type": "code",
            "source": "/* Read Data from HDFS using only T-SQL */\r\n\r\nSELECT hdfs.PrimaryContact\r\n, hdfs.CustomerCategoryName\r\n    FROM [web_customers_hdfs] hdfs\r\nWHERE WebsiteURL LIKE '%wingtip%';\r\nGO\r\n",
            "metadata": {},
            "outputs": [
                {
                    "output_type": "display_data",
                    "data": {
                        "text/html": "(201 rows affected)"
                    },
                    "metadata": {}
                },
                {
                    "output_type": "display_data",
                    "data": {
                        "text/html": "Total execution time: 00:00:01.8202476"
                    },
                    "metadata": {}
                },
                {
                    "output_type": "execute_result",
                    "execution_count": 2,
                    "data": {
                        "application/vnd.dataresource+json": {
                            "schema": {
                                "fields": [
                                    {
                                        "name": "PrimaryContact"
                                    },
                                    {
                                        "name": "CustomerCategoryName"
                                    }
                                ]
                            },
                            "data": [
                                {
                                    "0": "Mario Jogi",
                                    "1": "Novelty Shop"
                                },
                                {
                                    "0": "Kaya ozbek",
                                    "1": "Novelty Shop"
                                },
                                {
                                    "0": "Seo-yeon Rim",
                                    "1": "Novelty Shop"
                                },
                                {
                                    "0": "Sitara Benjaree",
                                    "1": "Novelty Shop"
                                },
                                {
                                    "0": "Javier Caraballo",
                                    "1": "Novelty Shop"
                                },
                                {
                                    "0": "Akhtar Shahrestaani",
                                    "1": "Novelty Shop"
                                },
                                {
                                    "0": "Vanita Bhowmick",
                                    "1": "Novelty Shop"
                                },
                                {
                                    "0": "Nishant Menon",
                                    "1": "Novelty Shop"
                                },
                                {
                                    "0": "Josef Benda",
                                    "1": "Novelty Shop"
                                },
                                {
                                    "0": "Teresa Bender",
                                    "1": "Novelty Shop"
                                },
                                {
                                    "0": "Deepesh Bose",
                                    "1": "Novelty Shop"
                                },
                                {
                                    "0": "Madhavi Gupta",
                                    "1": "Novelty Shop"
                                },
                                {
                                    "0": "Bich Banh",
                                    "1": "Novelty Shop"
                                },
                                {
                                    "0": "Åšani Nair",
                                    "1": "Novelty Shop"
                                },
                                {
                                    "0": "Angelina Gormanston",
                                    "1": "Novelty Shop"
                                },
                                {
                                    "0": "Prasert Supitayaporn",
                                    "1": "Novelty Shop"
                                },
                                {
                                    "0": "Abhaya Rambhatla",
                                    "1": "Novelty Shop"
                                },
                                {
                                    "0": "Lalit Ogra",
                                    "1": "Novelty Shop"
                                },
                                {
                                    "0": "Mina Bagheri",
                                    "1": "Novelty Shop"
                                },
                                {
                                    "0": "Debraj Sanyal",
                                    "1": "Novelty Shop"
                                },
                                {
                                    "0": "Marco Costa",
                                    "1": "Novelty Shop"
                                },
                                {
                                    "0": "Crina Nechita",
                                    "1": "Novelty Shop"
                                },
                                {
                                    "0": "Zala Ibrahimagic",
                                    "1": "Novelty Shop"
                                },
                                {
                                    "0": "Gundega Kundzina",
                                    "1": "Novelty Shop"
                                },
                                {
                                    "0": "Parveen Haldar",
                                    "1": "Novelty Shop"
                                },
                                {
                                    "0": "Noel Cartier",
                                    "1": "Novelty Shop"
                                },
                                {
                                    "0": "Ilgonis Dzenis",
                                    "1": "Novelty Shop"
                                },
                                {
                                    "0": "Ondrej Tomek",
                                    "1": "Novelty Shop"
                                },
                                {
                                    "0": "Mohini Kaul",
                                    "1": "Novelty Shop"
                                },
                                {
                                    "0": "Arnab Malakar",
                                    "1": "Novelty Shop"
                                },
                                {
                                    "0": "Mary Barney",
                                    "1": "Novelty Shop"
                                },
                                {
                                    "0": "Dhaeraemdranaadh Allu",
                                    "1": "Novelty Shop"
                                },
                                {
                                    "0": "Paola Greece",
                                    "1": "Novelty Shop"
                                },
                                {
                                    "0": "Flora Olofsson",
                                    "1": "Novelty Shop"
                                },
                                {
                                    "0": "Nguyet Bach",
                                    "1": "Novelty Shop"
                                },
                                {
                                    "0": "Jyoti Karnik",
                                    "1": "Novelty Shop"
                                },
                                {
                                    "0": "Samuel Almaraz",
                                    "1": "Novelty Shop"
                                },
                                {
                                    "0": "Zuzana Kuchtova",
                                    "1": "Novelty Shop"
                                },
                                {
                                    "0": "Mark Ruutel",
                                    "1": "Novelty Shop"
                                },
                                {
                                    "0": "Corneliu Vladu",
                                    "1": "Novelty Shop"
                                },
                                {
                                    "0": "Severins Polis",
                                    "1": "Novelty Shop"
                                },
                                {
                                    "0": "Linda Ledezma",
                                    "1": "Novelty Shop"
                                },
                                {
                                    "0": "Halit Gunes",
                                    "1": "Novelty Shop"
                                },
                                {
                                    "0": "Vallo Vesik",
                                    "1": "Novelty Shop"
                                },
                                {
                                    "0": "Dana Mrazova",
                                    "1": "Novelty Shop"
                                },
                                {
                                    "0": "Ema Slosar",
                                    "1": "Novelty Shop"
                                },
                                {
                                    "0": "Hemchandra Debnath",
                                    "1": "Novelty Shop"
                                },
                                {
                                    "0": "Monika Valentova",
                                    "1": "Novelty Shop"
                                },
                                {
                                    "0": "Dattaatraeya Tottempudi",
                                    "1": "Novelty Shop"
                                },
                                {
                                    "0": "Kahkushan Shakiba",
                                    "1": "Novelty Shop"
                                },
                                {
                                    "0": "Taner YÄ±lmaz",
                                    "1": "Novelty Shop"
                                },
                                {
                                    "0": "Abhra Thakur",
                                    "1": "Novelty Shop"
                                },
                                {
                                    "0": "Dunja Radoncis",
                                    "1": "Novelty Shop"
                                },
                                {
                                    "0": "Darakhshan Javaherian",
                                    "1": "Novelty Shop"
                                },
                                {
                                    "0": "Youssef Eriksson",
                                    "1": "Novelty Shop"
                                },
                                {
                                    "0": "Pavel Bohuslav",
                                    "1": "Novelty Shop"
                                },
                                {
                                    "0": "Jiri Vacha",
                                    "1": "Novelty Shop"
                                },
                                {
                                    "0": "Magdalena Cervenkova",
                                    "1": "Novelty Shop"
                                },
                                {
                                    "0": "Asha Mudigonda",
                                    "1": "Novelty Shop"
                                },
                                {
                                    "0": "Anete Kundzina",
                                    "1": "Novelty Shop"
                                },
                                {
                                    "0": "Daniela Sal",
                                    "1": "Novelty Shop"
                                },
                                {
                                    "0": "Duangrat Atitarn",
                                    "1": "Novelty Shop"
                                },
                                {
                                    "0": "Deviprasad PrabhupÄda",
                                    "1": "Novelty Shop"
                                },
                                {
                                    "0": "Olga Alexandrova",
                                    "1": "Novelty Shop"
                                },
                                {
                                    "0": "Maris Baltins",
                                    "1": "Novelty Shop"
                                },
                                {
                                    "0": "Parsa Reuser",
                                    "1": "Novelty Shop"
                                },
                                {
                                    "0": "Duleep Srivastava",
                                    "1": "Novelty Shop"
                                },
                                {
                                    "0": "Miran Nikolic",
                                    "1": "Novelty Shop"
                                },
                                {
                                    "0": "Calin Bojin",
                                    "1": "Novelty Shop"
                                },
                                {
                                    "0": "Lang Le",
                                    "1": "Novelty Shop"
                                },
                                {
                                    "0": "Bhaagyalakshmi Muppavarapu",
                                    "1": "Novelty Shop"
                                },
                                {
                                    "0": "Dimitry Nechita",
                                    "1": "Novelty Shop"
                                },
                                {
                                    "0": "Miroslav Kohout",
                                    "1": "Novelty Shop"
                                },
                                {
                                    "0": "Fransje Mutlu",
                                    "1": "Novelty Shop"
                                },
                                {
                                    "0": "Chati Ornlamai",
                                    "1": "Novelty Shop"
                                },
                                {
                                    "0": "Raine Knihtila",
                                    "1": "Novelty Shop"
                                },
                                {
                                    "0": "Lan Chu",
                                    "1": "Novelty Shop"
                                },
                                {
                                    "0": "Maurice English",
                                    "1": "Novelty Shop"
                                },
                                {
                                    "0": "Irene Sepp",
                                    "1": "Novelty Shop"
                                },
                                {
                                    "0": "Chandranath Bose",
                                    "1": "Novelty Shop"
                                },
                                {
                                    "0": "Ana Julijana Isa",
                                    "1": "Novelty Shop"
                                },
                                {
                                    "0": "Gireesh Bhogireddy",
                                    "1": "Novelty Shop"
                                },
                                {
                                    "0": "Premwadee Atitarn",
                                    "1": "Novelty Shop"
                                },
                                {
                                    "0": "Nishant Patil",
                                    "1": "Novelty Shop"
                                },
                                {
                                    "0": "Rohan Das",
                                    "1": "Novelty Shop"
                                },
                                {
                                    "0": "Aamdaal Kamasamudram",
                                    "1": "Novelty Shop"
                                },
                                {
                                    "0": "Baebeesarasvati Kamasamudram",
                                    "1": "Novelty Shop"
                                },
                                {
                                    "0": "Marcello Dellucci",
                                    "1": "Novelty Shop"
                                },
                                {
                                    "0": "Mee-Kyong Sin",
                                    "1": "Novelty Shop"
                                },
                                {
                                    "0": "Ivica LuÄic",
                                    "1": "Novelty Shop"
                                },
                                {
                                    "0": "Vinicius Correa",
                                    "1": "Novelty Shop"
                                },
                                {
                                    "0": "Fabio Pena",
                                    "1": "Novelty Shop"
                                },
                                {
                                    "0": "Lakshmi Roy",
                                    "1": "Novelty Shop"
                                },
                                {
                                    "0": "Selma Seppanen",
                                    "1": "Novelty Shop"
                                },
                                {
                                    "0": "Bay Ly",
                                    "1": "Novelty Shop"
                                },
                                {
                                    "0": "Adirake Saenamuang",
                                    "1": "Novelty Shop"
                                },
                                {
                                    "0": "Tarja Penttila",
                                    "1": "Novelty Shop"
                                },
                                {
                                    "0": "Devendranath Huq",
                                    "1": "Novelty Shop"
                                },
                                {
                                    "0": "Enes Olsson",
                                    "1": "Novelty Shop"
                                },
                                {
                                    "0": "Vanja Grgic",
                                    "1": "Novelty Shop"
                                },
                                {
                                    "0": "Dayaram Mishra",
                                    "1": "Novelty Shop"
                                },
                                {
                                    "0": "Mina Omidzadeh",
                                    "1": "Novelty Shop"
                                },
                                {
                                    "0": "Kadir Usenuly",
                                    "1": "Novelty Shop"
                                },
                                {
                                    "0": "Kajsa Jakobsson",
                                    "1": "Novelty Shop"
                                },
                                {
                                    "0": "Rahul Ghate",
                                    "1": "Novelty Shop"
                                },
                                {
                                    "0": "Lien Banh",
                                    "1": "Novelty Shop"
                                },
                                {
                                    "0": "Divyendu Chakraborty",
                                    "1": "Novelty Shop"
                                },
                                {
                                    "0": "An Dung Ngo",
                                    "1": "Novelty Shop"
                                },
                                {
                                    "0": "Chetana Kamath",
                                    "1": "Novelty Shop"
                                },
                                {
                                    "0": "Premwadee Saowaluk",
                                    "1": "Novelty Shop"
                                },
                                {
                                    "0": "Jae-Hwa Min",
                                    "1": "Novelty Shop"
                                },
                                {
                                    "0": "Catalina Nechita",
                                    "1": "Novelty Shop"
                                },
                                {
                                    "0": "Constanza Laureano",
                                    "1": "Novelty Shop"
                                },
                                {
                                    "0": "Aakriti Bhamidipati",
                                    "1": "Novelty Shop"
                                },
                                {
                                    "0": "Himadri PrabhupÄda",
                                    "1": "Novelty Shop"
                                },
                                {
                                    "0": "Bryan Helms",
                                    "1": "Novelty Shop"
                                },
                                {
                                    "0": "Harri Kask",
                                    "1": "Novelty Shop"
                                },
                                {
                                    "0": "Ilse Sandell",
                                    "1": "Novelty Shop"
                                },
                                {
                                    "0": "Subhash Matondkar",
                                    "1": "Novelty Shop"
                                },
                                {
                                    "0": "Eesvaraavu Ankitham",
                                    "1": "Novelty Shop"
                                },
                                {
                                    "0": "Miguel Paez",
                                    "1": "Novelty Shop"
                                },
                                {
                                    "0": "Tobias Gruber",
                                    "1": "Novelty Shop"
                                },
                                {
                                    "0": "Daniela Dumina",
                                    "1": "Novelty Shop"
                                },
                                {
                                    "0": "Ganesh Mukherjee",
                                    "1": "Novelty Shop"
                                },
                                {
                                    "0": "Avanti Nishad",
                                    "1": "Novelty Shop"
                                },
                                {
                                    "0": "Daedeepya Thota",
                                    "1": "Novelty Shop"
                                },
                                {
                                    "0": "Gabriela Chirila",
                                    "1": "Novelty Shop"
                                },
                                {
                                    "0": "Nagur Atluri",
                                    "1": "Novelty Shop"
                                },
                                {
                                    "0": "Sintja Buecek",
                                    "1": "Novelty Shop"
                                },
                                {
                                    "0": "Pongrit Srisati",
                                    "1": "Novelty Shop"
                                },
                                {
                                    "0": "Linda Green",
                                    "1": "Novelty Shop"
                                },
                                {
                                    "0": "Sarmis Skujins",
                                    "1": "Novelty Shop"
                                },
                                {
                                    "0": "Libuse Srbova",
                                    "1": "Novelty Shop"
                                },
                                {
                                    "0": "Viktorie Stejskalova",
                                    "1": "Novelty Shop"
                                },
                                {
                                    "0": "Slavko Pavlovic",
                                    "1": "Novelty Shop"
                                },
                                {
                                    "0": "Doru Munteanu",
                                    "1": "Novelty Shop"
                                },
                                {
                                    "0": "Aile Aasmae",
                                    "1": "Novelty Shop"
                                },
                                {
                                    "0": "Ava Edden",
                                    "1": "Novelty Shop"
                                },
                                {
                                    "0": "Manali Bose",
                                    "1": "Novelty Shop"
                                },
                                {
                                    "0": "Astrid Poisson",
                                    "1": "Novelty Shop"
                                },
                                {
                                    "0": "Gi-Suk Heo",
                                    "1": "Novelty Shop"
                                },
                                {
                                    "0": "Irma Kruze",
                                    "1": "Novelty Shop"
                                },
                                {
                                    "0": "Dhaeraemdranaadh Pamulaparthi",
                                    "1": "Novelty Shop"
                                },
                                {
                                    "0": "Agrita Kalnina",
                                    "1": "Novelty Shop"
                                },
                                {
                                    "0": "Ravindra Sandhu",
                                    "1": "Novelty Shop"
                                },
                                {
                                    "0": "Klara Rakus",
                                    "1": "Novelty Shop"
                                },
                                {
                                    "0": "Am Lo",
                                    "1": "Novelty Shop"
                                },
                                {
                                    "0": "Sophie Van Lier",
                                    "1": "Novelty Shop"
                                },
                                {
                                    "0": "Dimitry Profis",
                                    "1": "Novelty Shop"
                                },
                                {
                                    "0": "Jan Zeman",
                                    "1": "Novelty Shop"
                                },
                                {
                                    "0": "Ranjit Dikshit",
                                    "1": "Novelty Shop"
                                },
                                {
                                    "0": "Varuna Ganguly",
                                    "1": "Novelty Shop"
                                },
                                {
                                    "0": "Basak Tekin",
                                    "1": "Novelty Shop"
                                },
                                {
                                    "0": "Doru Tirlea",
                                    "1": "Novelty Shop"
                                },
                                {
                                    "0": "Jessica Perrine",
                                    "1": "Novelty Shop"
                                },
                                {
                                    "0": "Yavuz Cetinkaya",
                                    "1": "Novelty Shop"
                                },
                                {
                                    "0": "Sirirat Kongpaisarn",
                                    "1": "Novelty Shop"
                                },
                                {
                                    "0": "Claude Bonsaint",
                                    "1": "Novelty Shop"
                                },
                                {
                                    "0": "Roman Pajer",
                                    "1": "Novelty Shop"
                                },
                                {
                                    "0": "Vitezslav Holy",
                                    "1": "Novelty Shop"
                                },
                                {
                                    "0": "Devi Dewangan",
                                    "1": "Novelty Shop"
                                },
                                {
                                    "0": "Masa Buecek",
                                    "1": "Novelty Shop"
                                },
                                {
                                    "0": "Bipin Modi",
                                    "1": "Novelty Shop"
                                },
                                {
                                    "0": "Rahul Sarma",
                                    "1": "Novelty Shop"
                                },
                                {
                                    "0": "Alejandro Escobar",
                                    "1": "Novelty Shop"
                                },
                                {
                                    "0": "Andris Vitols",
                                    "1": "Novelty Shop"
                                },
                                {
                                    "0": "Mariela Weitzer",
                                    "1": "Novelty Shop"
                                },
                                {
                                    "0": "Alain Pelland",
                                    "1": "Novelty Shop"
                                },
                                {
                                    "0": "Milica Stojkovic",
                                    "1": "Novelty Shop"
                                },
                                {
                                    "0": "Natalie Horackova",
                                    "1": "Novelty Shop"
                                },
                                {
                                    "0": "Baalaaditya Rallapalli",
                                    "1": "Novelty Shop"
                                },
                                {
                                    "0": "Matej Formanek",
                                    "1": "Novelty Shop"
                                },
                                {
                                    "0": "Manish Ghosh",
                                    "1": "Novelty Shop"
                                },
                                {
                                    "0": "Pracha Nantakarn",
                                    "1": "Novelty Shop"
                                },
                                {
                                    "0": "Charline Flamand",
                                    "1": "Novelty Shop"
                                },
                                {
                                    "0": "Teodor Vlad",
                                    "1": "Novelty Shop"
                                },
                                {
                                    "0": "Anda Liepa",
                                    "1": "Novelty Shop"
                                },
                                {
                                    "0": "Jelena Utjesenovic",
                                    "1": "Novelty Shop"
                                },
                                {
                                    "0": "Adriana Horackova",
                                    "1": "Novelty Shop"
                                },
                                {
                                    "0": "Miika Putkonen",
                                    "1": "Novelty Shop"
                                },
                                {
                                    "0": "Padma Iyer",
                                    "1": "Novelty Shop"
                                },
                                {
                                    "0": "Åšani Sen",
                                    "1": "Novelty Shop"
                                },
                                {
                                    "0": "Helene Dupuy",
                                    "1": "Novelty Shop"
                                },
                                {
                                    "0": "omer ozbek",
                                    "1": "Novelty Shop"
                                },
                                {
                                    "0": "Akshayakeerti Jandhyala",
                                    "1": "Novelty Shop"
                                },
                                {
                                    "0": "Ankolika Sen",
                                    "1": "Novelty Shop"
                                },
                                {
                                    "0": "Baalaamani Veturi",
                                    "1": "Novelty Shop"
                                },
                                {
                                    "0": "Julia Konecna",
                                    "1": "Novelty Shop"
                                },
                                {
                                    "0": "Madelaine  Paulet",
                                    "1": "Novelty Shop"
                                },
                                {
                                    "0": "Aija Lukstina",
                                    "1": "Novelty Shop"
                                },
                                {
                                    "0": "Hoc Le",
                                    "1": "Novelty Shop"
                                },
                                {
                                    "0": "Bhairaam Kidambi",
                                    "1": "Novelty Shop"
                                },
                                {
                                    "0": "Jae-Hwa Shin",
                                    "1": "Novelty Shop"
                                },
                                {
                                    "0": "Caterina Fallaci",
                                    "1": "Novelty Shop"
                                },
                                {
                                    "0": "Baanuraekha Voleti",
                                    "1": "Novelty Shop"
                                },
                                {
                                    "0": "Ranjeet Haldar",
                                    "1": "Novelty Shop"
                                },
                                {
                                    "0": "Bhaamini Kanaparthi",
                                    "1": "Novelty Shop"
                                },
                                {
                                    "0": "Margit Molnar",
                                    "1": "Novelty Shop"
                                },
                                {
                                    "0": "Chandni Jandhyala",
                                    "1": "Novelty Shop"
                                },
                                {
                                    "0": "Ljubomir Nesic",
                                    "1": "Novelty Shop"
                                },
                                {
                                    "0": "Telma Hermansson",
                                    "1": "Novelty Shop"
                                }
                            ]
                        },
                        "text/html": "<table><tr><th>PrimaryContact</th><th>CustomerCategoryName</th></tr><tr><td>Mario Jogi</td><td>Novelty Shop</td></tr><tr><td>Kaya ozbek</td><td>Novelty Shop</td></tr><tr><td>Seo-yeon Rim</td><td>Novelty Shop</td></tr><tr><td>Sitara Benjaree</td><td>Novelty Shop</td></tr><tr><td>Javier Caraballo</td><td>Novelty Shop</td></tr><tr><td>Akhtar Shahrestaani</td><td>Novelty Shop</td></tr><tr><td>Vanita Bhowmick</td><td>Novelty Shop</td></tr><tr><td>Nishant Menon</td><td>Novelty Shop</td></tr><tr><td>Josef Benda</td><td>Novelty Shop</td></tr><tr><td>Teresa Bender</td><td>Novelty Shop</td></tr><tr><td>Deepesh Bose</td><td>Novelty Shop</td></tr><tr><td>Madhavi Gupta</td><td>Novelty Shop</td></tr><tr><td>Bich Banh</td><td>Novelty Shop</td></tr><tr><td>Åšani Nair</td><td>Novelty Shop</td></tr><tr><td>Angelina Gormanston</td><td>Novelty Shop</td></tr><tr><td>Prasert Supitayaporn</td><td>Novelty Shop</td></tr><tr><td>Abhaya Rambhatla</td><td>Novelty Shop</td></tr><tr><td>Lalit Ogra</td><td>Novelty Shop</td></tr><tr><td>Mina Bagheri</td><td>Novelty Shop</td></tr><tr><td>Debraj Sanyal</td><td>Novelty Shop</td></tr><tr><td>Marco Costa</td><td>Novelty Shop</td></tr><tr><td>Crina Nechita</td><td>Novelty Shop</td></tr><tr><td>Zala Ibrahimagic</td><td>Novelty Shop</td></tr><tr><td>Gundega Kundzina</td><td>Novelty Shop</td></tr><tr><td>Parveen Haldar</td><td>Novelty Shop</td></tr><tr><td>Noel Cartier</td><td>Novelty Shop</td></tr><tr><td>Ilgonis Dzenis</td><td>Novelty Shop</td></tr><tr><td>Ondrej Tomek</td><td>Novelty Shop</td></tr><tr><td>Mohini Kaul</td><td>Novelty Shop</td></tr><tr><td>Arnab Malakar</td><td>Novelty Shop</td></tr><tr><td>Mary Barney</td><td>Novelty Shop</td></tr><tr><td>Dhaeraemdranaadh Allu</td><td>Novelty Shop</td></tr><tr><td>Paola Greece</td><td>Novelty Shop</td></tr><tr><td>Flora Olofsson</td><td>Novelty Shop</td></tr><tr><td>Nguyet Bach</td><td>Novelty Shop</td></tr><tr><td>Jyoti Karnik</td><td>Novelty Shop</td></tr><tr><td>Samuel Almaraz</td><td>Novelty Shop</td></tr><tr><td>Zuzana Kuchtova</td><td>Novelty Shop</td></tr><tr><td>Mark Ruutel</td><td>Novelty Shop</td></tr><tr><td>Corneliu Vladu</td><td>Novelty Shop</td></tr><tr><td>Severins Polis</td><td>Novelty Shop</td></tr><tr><td>Linda Ledezma</td><td>Novelty Shop</td></tr><tr><td>Halit Gunes</td><td>Novelty Shop</td></tr><tr><td>Vallo Vesik</td><td>Novelty Shop</td></tr><tr><td>Dana Mrazova</td><td>Novelty Shop</td></tr><tr><td>Ema Slosar</td><td>Novelty Shop</td></tr><tr><td>Hemchandra Debnath</td><td>Novelty Shop</td></tr><tr><td>Monika Valentova</td><td>Novelty Shop</td></tr><tr><td>Dattaatraeya Tottempudi</td><td>Novelty Shop</td></tr><tr><td>Kahkushan Shakiba</td><td>Novelty Shop</td></tr><tr><td>Taner YÄ±lmaz</td><td>Novelty Shop</td></tr><tr><td>Abhra Thakur</td><td>Novelty Shop</td></tr><tr><td>Dunja Radoncis</td><td>Novelty Shop</td></tr><tr><td>Darakhshan Javaherian</td><td>Novelty Shop</td></tr><tr><td>Youssef Eriksson</td><td>Novelty Shop</td></tr><tr><td>Pavel Bohuslav</td><td>Novelty Shop</td></tr><tr><td>Jiri Vacha</td><td>Novelty Shop</td></tr><tr><td>Magdalena Cervenkova</td><td>Novelty Shop</td></tr><tr><td>Asha Mudigonda</td><td>Novelty Shop</td></tr><tr><td>Anete Kundzina</td><td>Novelty Shop</td></tr><tr><td>Daniela Sal</td><td>Novelty Shop</td></tr><tr><td>Duangrat Atitarn</td><td>Novelty Shop</td></tr><tr><td>Deviprasad PrabhupÄda</td><td>Novelty Shop</td></tr><tr><td>Olga Alexandrova</td><td>Novelty Shop</td></tr><tr><td>Maris Baltins</td><td>Novelty Shop</td></tr><tr><td>Parsa Reuser</td><td>Novelty Shop</td></tr><tr><td>Duleep Srivastava</td><td>Novelty Shop</td></tr><tr><td>Miran Nikolic</td><td>Novelty Shop</td></tr><tr><td>Calin Bojin</td><td>Novelty Shop</td></tr><tr><td>Lang Le</td><td>Novelty Shop</td></tr><tr><td>Bhaagyalakshmi Muppavarapu</td><td>Novelty Shop</td></tr><tr><td>Dimitry Nechita</td><td>Novelty Shop</td></tr><tr><td>Miroslav Kohout</td><td>Novelty Shop</td></tr><tr><td>Fransje Mutlu</td><td>Novelty Shop</td></tr><tr><td>Chati Ornlamai</td><td>Novelty Shop</td></tr><tr><td>Raine Knihtila</td><td>Novelty Shop</td></tr><tr><td>Lan Chu</td><td>Novelty Shop</td></tr><tr><td>Maurice English</td><td>Novelty Shop</td></tr><tr><td>Irene Sepp</td><td>Novelty Shop</td></tr><tr><td>Chandranath Bose</td><td>Novelty Shop</td></tr><tr><td>Ana Julijana Isa</td><td>Novelty Shop</td></tr><tr><td>Gireesh Bhogireddy</td><td>Novelty Shop</td></tr><tr><td>Premwadee Atitarn</td><td>Novelty Shop</td></tr><tr><td>Nishant Patil</td><td>Novelty Shop</td></tr><tr><td>Rohan Das</td><td>Novelty Shop</td></tr><tr><td>Aamdaal Kamasamudram</td><td>Novelty Shop</td></tr><tr><td>Baebeesarasvati Kamasamudram</td><td>Novelty Shop</td></tr><tr><td>Marcello Dellucci</td><td>Novelty Shop</td></tr><tr><td>Mee-Kyong Sin</td><td>Novelty Shop</td></tr><tr><td>Ivica LuÄic</td><td>Novelty Shop</td></tr><tr><td>Vinicius Correa</td><td>Novelty Shop</td></tr><tr><td>Fabio Pena</td><td>Novelty Shop</td></tr><tr><td>Lakshmi Roy</td><td>Novelty Shop</td></tr><tr><td>Selma Seppanen</td><td>Novelty Shop</td></tr><tr><td>Bay Ly</td><td>Novelty Shop</td></tr><tr><td>Adirake Saenamuang</td><td>Novelty Shop</td></tr><tr><td>Tarja Penttila</td><td>Novelty Shop</td></tr><tr><td>Devendranath Huq</td><td>Novelty Shop</td></tr><tr><td>Enes Olsson</td><td>Novelty Shop</td></tr><tr><td>Vanja Grgic</td><td>Novelty Shop</td></tr><tr><td>Dayaram Mishra</td><td>Novelty Shop</td></tr><tr><td>Mina Omidzadeh</td><td>Novelty Shop</td></tr><tr><td>Kadir Usenuly</td><td>Novelty Shop</td></tr><tr><td>Kajsa Jakobsson</td><td>Novelty Shop</td></tr><tr><td>Rahul Ghate</td><td>Novelty Shop</td></tr><tr><td>Lien Banh</td><td>Novelty Shop</td></tr><tr><td>Divyendu Chakraborty</td><td>Novelty Shop</td></tr><tr><td>An Dung Ngo</td><td>Novelty Shop</td></tr><tr><td>Chetana Kamath</td><td>Novelty Shop</td></tr><tr><td>Premwadee Saowaluk</td><td>Novelty Shop</td></tr><tr><td>Jae-Hwa Min</td><td>Novelty Shop</td></tr><tr><td>Catalina Nechita</td><td>Novelty Shop</td></tr><tr><td>Constanza Laureano</td><td>Novelty Shop</td></tr><tr><td>Aakriti Bhamidipati</td><td>Novelty Shop</td></tr><tr><td>Himadri PrabhupÄda</td><td>Novelty Shop</td></tr><tr><td>Bryan Helms</td><td>Novelty Shop</td></tr><tr><td>Harri Kask</td><td>Novelty Shop</td></tr><tr><td>Ilse Sandell</td><td>Novelty Shop</td></tr><tr><td>Subhash Matondkar</td><td>Novelty Shop</td></tr><tr><td>Eesvaraavu Ankitham</td><td>Novelty Shop</td></tr><tr><td>Miguel Paez</td><td>Novelty Shop</td></tr><tr><td>Tobias Gruber</td><td>Novelty Shop</td></tr><tr><td>Daniela Dumina</td><td>Novelty Shop</td></tr><tr><td>Ganesh Mukherjee</td><td>Novelty Shop</td></tr><tr><td>Avanti Nishad</td><td>Novelty Shop</td></tr><tr><td>Daedeepya Thota</td><td>Novelty Shop</td></tr><tr><td>Gabriela Chirila</td><td>Novelty Shop</td></tr><tr><td>Nagur Atluri</td><td>Novelty Shop</td></tr><tr><td>Sintja Buecek</td><td>Novelty Shop</td></tr><tr><td>Pongrit Srisati</td><td>Novelty Shop</td></tr><tr><td>Linda Green</td><td>Novelty Shop</td></tr><tr><td>Sarmis Skujins</td><td>Novelty Shop</td></tr><tr><td>Libuse Srbova</td><td>Novelty Shop</td></tr><tr><td>Viktorie Stejskalova</td><td>Novelty Shop</td></tr><tr><td>Slavko Pavlovic</td><td>Novelty Shop</td></tr><tr><td>Doru Munteanu</td><td>Novelty Shop</td></tr><tr><td>Aile Aasmae</td><td>Novelty Shop</td></tr><tr><td>Ava Edden</td><td>Novelty Shop</td></tr><tr><td>Manali Bose</td><td>Novelty Shop</td></tr><tr><td>Astrid Poisson</td><td>Novelty Shop</td></tr><tr><td>Gi-Suk Heo</td><td>Novelty Shop</td></tr><tr><td>Irma Kruze</td><td>Novelty Shop</td></tr><tr><td>Dhaeraemdranaadh Pamulaparthi</td><td>Novelty Shop</td></tr><tr><td>Agrita Kalnina</td><td>Novelty Shop</td></tr><tr><td>Ravindra Sandhu</td><td>Novelty Shop</td></tr><tr><td>Klara Rakus</td><td>Novelty Shop</td></tr><tr><td>Am Lo</td><td>Novelty Shop</td></tr><tr><td>Sophie Van Lier</td><td>Novelty Shop</td></tr><tr><td>Dimitry Profis</td><td>Novelty Shop</td></tr><tr><td>Jan Zeman</td><td>Novelty Shop</td></tr><tr><td>Ranjit Dikshit</td><td>Novelty Shop</td></tr><tr><td>Varuna Ganguly</td><td>Novelty Shop</td></tr><tr><td>Basak Tekin</td><td>Novelty Shop</td></tr><tr><td>Doru Tirlea</td><td>Novelty Shop</td></tr><tr><td>Jessica Perrine</td><td>Novelty Shop</td></tr><tr><td>Yavuz Cetinkaya</td><td>Novelty Shop</td></tr><tr><td>Sirirat Kongpaisarn</td><td>Novelty Shop</td></tr><tr><td>Claude Bonsaint</td><td>Novelty Shop</td></tr><tr><td>Roman Pajer</td><td>Novelty Shop</td></tr><tr><td>Vitezslav Holy</td><td>Novelty Shop</td></tr><tr><td>Devi Dewangan</td><td>Novelty Shop</td></tr><tr><td>Masa Buecek</td><td>Novelty Shop</td></tr><tr><td>Bipin Modi</td><td>Novelty Shop</td></tr><tr><td>Rahul Sarma</td><td>Novelty Shop</td></tr><tr><td>Alejandro Escobar</td><td>Novelty Shop</td></tr><tr><td>Andris Vitols</td><td>Novelty Shop</td></tr><tr><td>Mariela Weitzer</td><td>Novelty Shop</td></tr><tr><td>Alain Pelland</td><td>Novelty Shop</td></tr><tr><td>Milica Stojkovic</td><td>Novelty Shop</td></tr><tr><td>Natalie Horackova</td><td>Novelty Shop</td></tr><tr><td>Baalaaditya Rallapalli</td><td>Novelty Shop</td></tr><tr><td>Matej Formanek</td><td>Novelty Shop</td></tr><tr><td>Manish Ghosh</td><td>Novelty Shop</td></tr><tr><td>Pracha Nantakarn</td><td>Novelty Shop</td></tr><tr><td>Charline Flamand</td><td>Novelty Shop</td></tr><tr><td>Teodor Vlad</td><td>Novelty Shop</td></tr><tr><td>Anda Liepa</td><td>Novelty Shop</td></tr><tr><td>Jelena Utjesenovic</td><td>Novelty Shop</td></tr><tr><td>Adriana Horackova</td><td>Novelty Shop</td></tr><tr><td>Miika Putkonen</td><td>Novelty Shop</td></tr><tr><td>Padma Iyer</td><td>Novelty Shop</td></tr><tr><td>Åšani Sen</td><td>Novelty Shop</td></tr><tr><td>Helene Dupuy</td><td>Novelty Shop</td></tr><tr><td>omer ozbek</td><td>Novelty Shop</td></tr><tr><td>Akshayakeerti Jandhyala</td><td>Novelty Shop</td></tr><tr><td>Ankolika Sen</td><td>Novelty Shop</td></tr><tr><td>Baalaamani Veturi</td><td>Novelty Shop</td></tr><tr><td>Julia Konecna</td><td>Novelty Shop</td></tr><tr><td>Madelaine  Paulet</td><td>Novelty Shop</td></tr><tr><td>Aija Lukstina</td><td>Novelty Shop</td></tr><tr><td>Hoc Le</td><td>Novelty Shop</td></tr><tr><td>Bhairaam Kidambi</td><td>Novelty Shop</td></tr><tr><td>Jae-Hwa Shin</td><td>Novelty Shop</td></tr><tr><td>Caterina Fallaci</td><td>Novelty Shop</td></tr><tr><td>Baanuraekha Voleti</td><td>Novelty Shop</td></tr><tr><td>Ranjeet Haldar</td><td>Novelty Shop</td></tr><tr><td>Bhaamini Kanaparthi</td><td>Novelty Shop</td></tr><tr><td>Margit Molnar</td><td>Novelty Shop</td></tr><tr><td>Chandni Jandhyala</td><td>Novelty Shop</td></tr><tr><td>Ljubomir Nesic</td><td>Novelty Shop</td></tr><tr><td>Telma Hermansson</td><td>Novelty Shop</td></tr></table>"
                    },
                    "metadata": {}
                }
            ],
            "execution_count": 2
        },
        {
            "cell_type": "code",
            "source": "/* Now Join Those to show customers we currently have in a SQL Server Database \r\nand the Category they qre in the External Table */\r\n\r\nSELECT a.FullName, b.CustomerCategoryName\r\n  FROM [WideWorldImporters].[Application].[People] a\r\n  INNER JOIN [WideWorldImporters].[dbo].[web_customers_hdfs] b  ON a.FullName = b.PrimaryContact;\r\n  GO",
            "metadata": {},
            "outputs": [
                {
                    "output_type": "display_data",
                    "data": {
                        "text/html": "(663 rows affected)"
                    },
                    "metadata": {}
                },
                {
                    "output_type": "display_data",
                    "data": {
                        "text/html": "Total execution time: 00:00:02.1527237"
                    },
                    "metadata": {}
                },
                {
                    "output_type": "execute_result",
                    "execution_count": 3,
                    "data": {
                        "application/vnd.dataresource+json": {
                            "schema": {
                                "fields": [
                                    {
                                        "name": "FullName"
                                    }
                                ]
                            },
                            "data": [
                                {
                                    "0": "Aahlada Thota"
                                },
                                {
                                    "0": "Aakarsha Nookala"
                                },
                                {
                                    "0": "Aakriti Bhamidipati"
                                },
                                {
                                    "0": "Aakriti Byrraju"
                                },
                                {
                                    "0": "Aamdaal Kamasamudram"
                                },
                                {
                                    "0": "Abel Spirlea"
                                },
                                {
                                    "0": "Abel Tatarescu"
                                },
                                {
                                    "0": "Abhaya Rambhatla"
                                },
                                {
                                    "0": "Abhoy PrabhupÄda"
                                },
                                {
                                    "0": "Abhra Ganguly"
                                },
                                {
                                    "0": "Abhra Thakur"
                                },
                                {
                                    "0": "Adam Dvorak"
                                },
                                {
                                    "0": "Adam Kubat"
                                },
                                {
                                    "0": "Adirake Saenamuang"
                                },
                                {
                                    "0": "Adrian Andreasson"
                                },
                                {
                                    "0": "Adriana Horackova"
                                },
                                {
                                    "0": "Adriana Pena"
                                },
                                {
                                    "0": "Adrijana Blagojevic"
                                },
                                {
                                    "0": "Ae-Cha Joo"
                                },
                                {
                                    "0": "Afshin Djalili"
                                },
                                {
                                    "0": "Agnes Szolosy"
                                },
                                {
                                    "0": "Agrita Abele"
                                },
                                {
                                    "0": "Agrita Kalnina"
                                },
                                {
                                    "0": "Agrita Kanepa"
                                },
                                {
                                    "0": "Aija Lukstina"
                                },
                                {
                                    "0": "Aija Mottola"
                                },
                                {
                                    "0": "Aija Zvaigzne"
                                },
                                {
                                    "0": "Aile Aasmae"
                                },
                                {
                                    "0": "Aile Mae"
                                },
                                {
                                    "0": "Aino Kallas"
                                },
                                {
                                    "0": "Airi Vassiljev"
                                },
                                {
                                    "0": "Aishwarya Dantuluri"
                                },
                                {
                                    "0": "Aive Petrov"
                                },
                                {
                                    "0": "Ajitaab Pakalapati"
                                },
                                {
                                    "0": "Akanksha Iyengar"
                                },
                                {
                                    "0": "Akanksha Sarma"
                                },
                                {
                                    "0": "Akhil Nadar"
                                },
                                {
                                    "0": "Akhtar Shahrestaani"
                                },
                                {
                                    "0": "Akshayakeerti Jandhyala"
                                },
                                {
                                    "0": "Alain Pelland"
                                },
                                {
                                    "0": "Alba Ponce"
                                },
                                {
                                    "0": "Alejandro Escobar"
                                },
                                {
                                    "0": "Aleksander Jarvi"
                                },
                                {
                                    "0": "Aleksandrs Riekstins"
                                },
                                {
                                    "0": "Alena Kellnerova"
                                },
                                {
                                    "0": "Alena Prikrylova"
                                },
                                {
                                    "0": "Alida Caune"
                                },
                                {
                                    "0": "Alinne Cardoso"
                                },
                                {
                                    "0": "Alinne Matos"
                                },
                                {
                                    "0": "Allan Mannik"
                                },
                                {
                                    "0": "Alvin Bollinger"
                                },
                                {
                                    "0": "Am Lo"
                                },
                                {
                                    "0": "Amarakumaar Gadiyaram"
                                },
                                {
                                    "0": "Amarasimha Vinjamuri"
                                },
                                {
                                    "0": "Amarendra Ankitham"
                                },
                                {
                                    "0": "Amet Shergill"
                                },
                                {
                                    "0": "Amrita Ganguly"
                                },
                                {
                                    "0": "An Dung Ngo"
                                },
                                {
                                    "0": "An Dung Phung"
                                },
                                {
                                    "0": "Ana Florea"
                                },
                                {
                                    "0": "Ana Julijana Isa"
                                },
                                {
                                    "0": "Anand Mudaliyar"
                                },
                                {
                                    "0": "Anca Gogean"
                                },
                                {
                                    "0": "Anda Liepa"
                                },
                                {
                                    "0": "Andrea Ricci"
                                },
                                {
                                    "0": "Andris Saulitis"
                                },
                                {
                                    "0": "Andris Vitols"
                                },
                                {
                                    "0": "Anete Kundzina"
                                },
                                {
                                    "0": "Angelina Gormanston"
                                },
                                {
                                    "0": "Anil Sarkar"
                                },
                                {
                                    "0": "Anindo Mazumdar"
                                },
                                {
                                    "0": "Anindya Ghatak"
                                },
                                {
                                    "0": "Anirban Sen"
                                },
                                {
                                    "0": "Anjali Asthana"
                                },
                                {
                                    "0": "Ankolika Sen"
                                },
                                {
                                    "0": "Anna Gyarmathi"
                                },
                                {
                                    "0": "Anna Mazzanti"
                                },
                                {
                                    "0": "Annette  Hetu"
                                },
                                {
                                    "0": "Arijit Bhuiyan"
                                },
                                {
                                    "0": "Arka Chatterjee"
                                },
                                {
                                    "0": "Arnab Malakar"
                                },
                                {
                                    "0": "Åšani Nair"
                                },
                                {
                                    "0": "Åšani Sen"
                                },
                                {
                                    "0": "Asha Mudigonda"
                                },
                                {
                                    "0": "Ashish Acharya"
                                },
                                {
                                    "0": "Astrid Poisson"
                                },
                                {
                                    "0": "Ava Edden"
                                },
                                {
                                    "0": "Avanti Nishad"
                                },
                                {
                                    "0": "Ayberk sahin"
                                },
                                {
                                    "0": "Baalaaditya Rallapalli"
                                },
                                {
                                    "0": "Baalaamani Veturi"
                                },
                                {
                                    "0": "Baalaamjali Devulapalli"
                                },
                                {
                                    "0": "Baanuraekha Voleti"
                                },
                                {
                                    "0": "Badari Chadalavada"
                                },
                                {
                                    "0": "Baebeesarasvati Kamasamudram"
                                },
                                {
                                    "0": "Bahaar Asef zade"
                                },
                                {
                                    "0": "Bala Dixit"
                                },
                                {
                                    "0": "Banshari De"
                                },
                                {
                                    "0": "Bansidhar Mitra"
                                },
                                {
                                    "0": "Bao Dao"
                                },
                                {
                                    "0": "Baran Jonsson"
                                },
                                {
                                    "0": "Basak Tekin"
                                },
                                {
                                    "0": "Bay Ly"
                                },
                                {
                                    "0": "Be Trang"
                                },
                                {
                                    "0": "Beatrise Bite"
                                },
                                {
                                    "0": "Bhaagyalakshmi Muppavarapu"
                                },
                                {
                                    "0": "Bhaamini Kanaparthi"
                                },
                                {
                                    "0": "Bhaamini Palagummi"
                                },
                                {
                                    "0": "Bhaargav Rambhatla"
                                },
                                {
                                    "0": "Bhaavan Rai"
                                },
                                {
                                    "0": "Bhadram Kamasamudram"
                                },
                                {
                                    "0": "Bhagavaan Atluri"
                                },
                                {
                                    "0": "Bhagavateeprasaad Malladi"
                                },
                                {
                                    "0": "Bhagavati Vinjamuri"
                                },
                                {
                                    "0": "Bhairaam Kidambi"
                                },
                                {
                                    "0": "Bhanu Thota"
                                },
                                {
                                    "0": "Bharat Ankitham"
                                },
                                {
                                    "0": "Bharat Sikdar"
                                },
                                {
                                    "0": "Bhavani Bhowmick"
                                },
                                {
                                    "0": "Bianh Phan"
                                },
                                {
                                    "0": "Bich Banh"
                                },
                                {
                                    "0": "Bijoya Thakur"
                                },
                                {
                                    "0": "Biju Deb"
                                },
                                {
                                    "0": "Bimla PrabhupÄda"
                                },
                                {
                                    "0": "Bing Han"
                                },
                                {
                                    "0": "Bipin Modi"
                                },
                                {
                                    "0": "Biplab De"
                                },
                                {
                                    "0": "Bishwa Chatterjee"
                                },
                                {
                                    "0": "Bishwanath Ghosh"
                                },
                                {
                                    "0": "Biswajeet Thakur"
                                },
                                {
                                    "0": "Blanka Stavinohova"
                                },
                                {
                                    "0": "Brenda Morgan"
                                },
                                {
                                    "0": "Brita Jarvi"
                                },
                                {
                                    "0": "Bryan Helms"
                                },
                                {
                                    "0": "Calin Bojin"
                                },
                                {
                                    "0": "Camille Authier"
                                },
                                {
                                    "0": "Can ozcan"
                                },
                                {
                                    "0": "Catalina Nechita"
                                },
                                {
                                    "0": "Caterina Fallaci"
                                },
                                {
                                    "0": "Caterina Pinto"
                                },
                                {
                                    "0": "Celica Barajas"
                                },
                                {
                                    "0": "Ceyhun sahin"
                                },
                                {
                                    "0": "Cezar Pavel"
                                },
                                {
                                    "0": "Chaayaadaevi Sonti"
                                },
                                {
                                    "0": "Chandana Shasthri"
                                },
                                {
                                    "0": "Chandni Jandhyala"
                                },
                                {
                                    "0": "Chandrakanta Benjaree"
                                },
                                {
                                    "0": "Chandrakanta Raut"
                                },
                                {
                                    "0": "Chandranath Bose"
                                },
                                {
                                    "0": "Chandrashekhar Dasgupta"
                                },
                                {
                                    "0": "Charline Flamand"
                                },
                                {
                                    "0": "Chati Ornlamai"
                                },
                                {
                                    "0": "Chetana Kamath"
                                },
                                {
                                    "0": "Chin-Sun Chang"
                                },
                                {
                                    "0": "Chompoo Atitarn"
                                },
                                {
                                    "0": "Christian Couet"
                                },
                                {
                                    "0": "Chuan Wattanasin"
                                },
                                {
                                    "0": "Clarissa Manfrin"
                                },
                                {
                                    "0": "Claude Bonsaint"
                                },
                                {
                                    "0": "Cong Hoa"
                                },
                                {
                                    "0": "Constanza Laureano"
                                },
                                {
                                    "0": "Coralie Emond"
                                },
                                {
                                    "0": "Corneliu Vladu"
                                },
                                {
                                    "0": "Cosmina Vlad"
                                },
                                {
                                    "0": "Crina Grasu"
                                },
                                {
                                    "0": "Crina Nechita"
                                },
                                {
                                    "0": "Cristina Longo"
                                },
                                {
                                    "0": "Cuneyt Arslan"
                                },
                                {
                                    "0": "Daakshaayaani Kommineni"
                                },
                                {
                                    "0": "Daakshaayaani Sankaramanchi"
                                },
                                {
                                    "0": "Daedeepya Thota"
                                },
                                {
                                    "0": "Daevasree Samavedam"
                                },
                                {
                                    "0": "Damodar Shenoy"
                                },
                                {
                                    "0": "Damodara Trivedi"
                                },
                                {
                                    "0": "Dana Mrazova"
                                },
                                {
                                    "0": "Daniel Magnusson"
                                },
                                {
                                    "0": "Daniel Martensson"
                                },
                                {
                                    "0": "Daniel Roman"
                                },
                                {
                                    "0": "Daniela Barrios"
                                },
                                {
                                    "0": "Daniela Dumina"
                                },
                                {
                                    "0": "Daniela Sal"
                                },
                                {
                                    "0": "Daniella Barbosa"
                                },
                                {
                                    "0": "Daniella Cavalcante"
                                },
                                {
                                    "0": "Darakhshan Javaherian"
                                },
                                {
                                    "0": "Darshan Gupta"
                                },
                                {
                                    "0": "Darshana Madhunapantula"
                                },
                                {
                                    "0": "Dattaatraeya Tottempudi"
                                },
                                {
                                    "0": "David Jaramillo"
                                },
                                {
                                    "0": "David Novacek "
                                },
                                {
                                    "0": "David safranek"
                                },
                                {
                                    "0": "Dayaram Mishra"
                                },
                                {
                                    "0": "Dayarama Kamei"
                                },
                                {
                                    "0": "Deakshitulu Mokkapati"
                                },
                                {
                                    "0": "Debbie Molina"
                                },
                                {
                                    "0": "Debraj Sanyal"
                                },
                                {
                                    "0": "Deepesh Bose"
                                },
                                {
                                    "0": "Dena Glissen"
                                },
                                {
                                    "0": "Denisa Ioveanu"
                                },
                                {
                                    "0": "Devendranath Huq"
                                },
                                {
                                    "0": "Devi Dewangan"
                                },
                                {
                                    "0": "Deviprasad PrabhupÄda"
                                },
                                {
                                    "0": "Devraj Rao"
                                },
                                {
                                    "0": "Dhaatri Chavva"
                                },
                                {
                                    "0": "Dhaeraemdranaadh Allu"
                                },
                                {
                                    "0": "Dhaeraemdranaadh Pamulaparthi"
                                },
                                {
                                    "0": "Dhanishta Majji"
                                },
                                {
                                    "0": "Dhanishta Mokkapati"
                                },
                                {
                                    "0": "Dhanishta Pullela"
                                },
                                {
                                    "0": "Didem ozCelik"
                                },
                                {
                                    "0": "Dilara Ayhan"
                                },
                                {
                                    "0": "Dimitry Nechita"
                                },
                                {
                                    "0": "Dimitry Profis"
                                },
                                {
                                    "0": "Dinara Saparkyzy"
                                },
                                {
                                    "0": "Dinh Mai"
                                },
                                {
                                    "0": "Dipali Sonkar"
                                },
                                {
                                    "0": "Dipti Shah"
                                },
                                {
                                    "0": "Divyendu Chakraborty"
                                },
                                {
                                    "0": "Dominic Davignon"
                                },
                                {
                                    "0": "Donato Araujo"
                                },
                                {
                                    "0": "Doru Munteanu"
                                },
                                {
                                    "0": "Doru Tirlea"
                                },
                                {
                                    "0": "Drazenka Jelic"
                                },
                                {
                                    "0": "Drishti Bose"
                                },
                                {
                                    "0": "Duangrat Atitarn"
                                },
                                {
                                    "0": "Duck-Hwan Bae"
                                },
                                {
                                    "0": "Duleep Raju"
                                },
                                {
                                    "0": "Duleep Srivastava"
                                },
                                {
                                    "0": "Duleep Walia"
                                },
                                {
                                    "0": "Dunja Radoncis"
                                },
                                {
                                    "0": "Durdanah Abbasi"
                                },
                                {
                                    "0": "Ebru Erdogan"
                                },
                                {
                                    "0": "Edgar Jogi"
                                },
                                {
                                    "0": "Edmee Glissen"
                                },
                                {
                                    "0": "Eekalabya Bose"
                                },
                                {
                                    "0": "Eesvaraavu Ankitham"
                                },
                                {
                                    "0": "Elina Kaleja"
                                },
                                {
                                    "0": "Eliza Persson"
                                },
                                {
                                    "0": "Ella Zvirbule"
                                },
                                {
                                    "0": "Elnaz Javan"
                                },
                                {
                                    "0": "Ema Slosar"
                                },
                                {
                                    "0": "Emil Roman"
                                },
                                {
                                    "0": "Emilie Hrdlickova"
                                },
                                {
                                    "0": "Emily Whittle"
                                },
                                {
                                    "0": "Emma Salpa"
                                },
                                {
                                    "0": "Emma Van Zant"
                                },
                                {
                                    "0": "Enes Olsson"
                                },
                                {
                                    "0": "Eric Torres"
                                },
                                {
                                    "0": "Erik Malk"
                                },
                                {
                                    "0": "Ester Ahmadian"
                                },
                                {
                                    "0": "Eugen Agafitei"
                                },
                                {
                                    "0": "Eva Schulteisz"
                                },
                                {
                                    "0": "Fabio Pena"
                                },
                                {
                                    "0": "Fabrice Cloutier"
                                },
                                {
                                    "0": "Fanni Benko"
                                },
                                {
                                    "0": "Farzana Habibi"
                                },
                                {
                                    "0": "Femke Hollenberg"
                                },
                                {
                                    "0": "Ferhat Celik"
                                },
                                {
                                    "0": "Filips Jaunzems"
                                },
                                {
                                    "0": "Flora Olofsson"
                                },
                                {
                                    "0": "Francisca Laureano"
                                },
                                {
                                    "0": "Fransje Mutlu"
                                },
                                {
                                    "0": "Gabriela Chirila"
                                },
                                {
                                    "0": "Gabriela Hernandes"
                                },
                                {
                                    "0": "Gabriela Srbova"
                                },
                                {
                                    "0": "Gabriele Udinesi"
                                },
                                {
                                    "0": "Ganapati Gadiyaram"
                                },
                                {
                                    "0": "Ganesh Majumdar"
                                },
                                {
                                    "0": "Ganesh Mukherjee"
                                },
                                {
                                    "0": "Gasper Havzija"
                                },
                                {
                                    "0": "Gaurav Sikdar"
                                },
                                {
                                    "0": "Gayatri Gajula"
                                },
                                {
                                    "0": "Geza Roman"
                                },
                                {
                                    "0": "Gianguido Lucchesi"
                                },
                                {
                                    "0": "Gilbert Pelland"
                                },
                                {
                                    "0": "Gireesh Bhogireddy"
                                },
                                {
                                    "0": "Gi-Suk Heo"
                                },
                                {
                                    "0": "GokCe Karaca"
                                },
                                {
                                    "0": "Gopalgobinda Sikdar"
                                },
                                {
                                    "0": "Gui-Hyun Ji"
                                },
                                {
                                    "0": "Gundega Kundzina"
                                },
                                {
                                    "0": "Gunnar Lohmus"
                                },
                                {
                                    "0": "Gunnar Persson"
                                },
                                {
                                    "0": "Haasini Rai"
                                },
                                {
                                    "0": "Hai Banh"
                                },
                                {
                                    "0": "Halit Gunes"
                                },
                                {
                                    "0": "Hana Hlouskova"
                                },
                                {
                                    "0": "Hang Tang"
                                },
                                {
                                    "0": "Hanita Nookala"
                                },
                                {
                                    "0": "Hanuman Dubey"
                                },
                                {
                                    "0": "Harri Kask"
                                },
                                {
                                    "0": "Harsha Huq"
                                },
                                {
                                    "0": "Hedi Koppel"
                                },
                                {
                                    "0": "Hee-Young Suh"
                                },
                                {
                                    "0": "Helene Dupuy"
                                },
                                {
                                    "0": "Heloisa Fernandes"
                                },
                                {
                                    "0": "Hemchandra Debnath"
                                },
                                {
                                    "0": "Himadri PrabhupÄda"
                                },
                                {
                                    "0": "Hoc Le"
                                },
                                {
                                    "0": "Hoc Tran"
                                },
                                {
                                    "0": "Hue Ton"
                                },
                                {
                                    "0": "Hyun-Doo Song"
                                },
                                {
                                    "0": "Ian Olofsson"
                                },
                                {
                                    "0": "Ida Celma"
                                },
                                {
                                    "0": "Ileana Aguilar"
                                },
                                {
                                    "0": "Ilgonis Dzenis"
                                },
                                {
                                    "0": "Ilse Sandell"
                                },
                                {
                                    "0": "Ingrida Celmina"
                                },
                                {
                                    "0": "Ingrida Zeltina"
                                },
                                {
                                    "0": "In-Su Bae"
                                },
                                {
                                    "0": "Intira Mookjai"
                                },
                                {
                                    "0": "Ioana Florea"
                                },
                                {
                                    "0": "Irene Sepp"
                                },
                                {
                                    "0": "Irma Berzina"
                                },
                                {
                                    "0": "Irma Kruze"
                                },
                                {
                                    "0": "Isa Hulsegge"
                                },
                                {
                                    "0": "Isabell  Duperre"
                                },
                                {
                                    "0": "Isabelle Vodlan"
                                },
                                {
                                    "0": "Isidora Morales"
                                },
                                {
                                    "0": "Isidora Urias"
                                },
                                {
                                    "0": "Ivan Sepulveda"
                                },
                                {
                                    "0": "Ivana Hadrabova"
                                },
                                {
                                    "0": "Ivica LuÄic"
                                },
                                {
                                    "0": "Ivonna Ene"
                                },
                                {
                                    "0": "Jack Carpenter"
                                },
                                {
                                    "0": "Jack Walker"
                                },
                                {
                                    "0": "Jackson Kolios"
                                },
                                {
                                    "0": "Jae-Hwa Jang"
                                },
                                {
                                    "0": "Jae-Hwa Min"
                                },
                                {
                                    "0": "Jae-Hwa Shin"
                                },
                                {
                                    "0": "Jagoda Vasiljevic"
                                },
                                {
                                    "0": "Jai Lamble"
                                },
                                {
                                    "0": "Jakub Lukes"
                                },
                                {
                                    "0": "Jan Zeman"
                                },
                                {
                                    "0": "Jana Fialova"
                                },
                                {
                                    "0": "Jaroslav Fisar"
                                },
                                {
                                    "0": "Jasna Cerkez"
                                },
                                {
                                    "0": "Javier Caraballo"
                                },
                                {
                                    "0": "Javiera Madera"
                                },
                                {
                                    "0": "Jay Bhuiyan"
                                },
                                {
                                    "0": "Jayanta Thakur"
                                },
                                {
                                    "0": "Jelena Utjesenovic"
                                },
                                {
                                    "0": "Jessica Perrine"
                                },
                                {
                                    "0": "Jibek Juniskyzy"
                                },
                                {
                                    "0": "Jiri Vacha"
                                },
                                {
                                    "0": "Jitka Necesana"
                                },
                                {
                                    "0": "Joel Carrillo"
                                },
                                {
                                    "0": "Johanna Hoornstra"
                                },
                                {
                                    "0": "Johanna Huiting"
                                },
                                {
                                    "0": "Josef Benda"
                                },
                                {
                                    "0": "Juan Bezanson"
                                },
                                {
                                    "0": "Juan Morse"
                                },
                                {
                                    "0": "Julia Konecna"
                                },
                                {
                                    "0": "Julia Slobodova"
                                },
                                {
                                    "0": "Julio Correa"
                                },
                                {
                                    "0": "Jure Grabensek"
                                },
                                {
                                    "0": "Jyoti Karnik"
                                },
                                {
                                    "0": "Kaan Tekin"
                                },
                                {
                                    "0": "Kadir Usenuly"
                                },
                                {
                                    "0": "Kahkushan Shakiba"
                                },
                                {
                                    "0": "Kajsa Jakobsson"
                                },
                                {
                                    "0": "Kalidas Nadar"
                                },
                                {
                                    "0": "Kalyani Benjaree"
                                },
                                {
                                    "0": "Kamala Nishad"
                                },
                                {
                                    "0": "Kamila Michnova"
                                },
                                {
                                    "0": "Kanti Kotadia"
                                },
                                {
                                    "0": "Karel Hanak"
                                },
                                {
                                    "0": "Karie Mercier"
                                },
                                {
                                    "0": "Karie Seymour"
                                },
                                {
                                    "0": "Karina Celmina"
                                },
                                {
                                    "0": "Katerina Hadrabova"
                                },
                                {
                                    "0": "Kaya ozbek"
                                },
                                {
                                    "0": "Kertu Smirnov"
                                },
                                {
                                    "0": "Kertu Sokk"
                                },
                                {
                                    "0": "Kimberly Pace"
                                },
                                {
                                    "0": "Klara Rakus"
                                },
                                {
                                    "0": "Knut Svensson"
                                },
                                {
                                    "0": "Koknesis Vitols"
                                },
                                {
                                    "0": "Krishnam Allu"
                                },
                                {
                                    "0": "Kristi Part"
                                },
                                {
                                    "0": "Kristiina Ivanov"
                                },
                                {
                                    "0": "Kumar Kamei"
                                },
                                {
                                    "0": "Kumar Naicker"
                                },
                                {
                                    "0": "Kurt Lukes"
                                },
                                {
                                    "0": "Kwanjai Saowaluk"
                                },
                                {
                                    "0": "Laboni Deb"
                                },
                                {
                                    "0": "Lakshmi Benipal"
                                },
                                {
                                    "0": "Lakshmi Roy"
                                },
                                {
                                    "0": "Lalit Ogra"
                                },
                                {
                                    "0": "Lan Chu"
                                },
                                {
                                    "0": "Lana Goransson"
                                },
                                {
                                    "0": "Lana Rozej"
                                },
                                {
                                    "0": "Lang Le"
                                },
                                {
                                    "0": "Lap Dinh"
                                },
                                {
                                    "0": "Laszlo Gardenier"
                                },
                                {
                                    "0": "Lata Babu"
                                },
                                {
                                    "0": "Lata Khandke"
                                },
                                {
                                    "0": "Laura Sykorova"
                                },
                                {
                                    "0": "Leila Carvalho"
                                },
                                {
                                    "0": "Lekha Mitra"
                                },
                                {
                                    "0": "Leonardo Folliero"
                                },
                                {
                                    "0": "Leyla Asef zade"
                                },
                                {
                                    "0": "Leyla Siavashi"
                                },
                                {
                                    "0": "Libuse Kuchtova"
                                },
                                {
                                    "0": "Libuse Srbova"
                                },
                                {
                                    "0": "Libuse Valentova"
                                },
                                {
                                    "0": "Lien Banh"
                                },
                                {
                                    "0": "Liia Orav"
                                },
                                {
                                    "0": "Liidia Lepp"
                                },
                                {
                                    "0": "Lilli Sokk"
                                },
                                {
                                    "0": "Linda Green"
                                },
                                {
                                    "0": "Linda Ledezma"
                                },
                                {
                                    "0": "Linh Dao"
                                },
                                {
                                    "0": "Ljubomir Nesic"
                                },
                                {
                                    "0": "Lorena Cindric"
                                },
                                {
                                    "0": "Lorin Astrom"
                                },
                                {
                                    "0": "Lorraine Paulet"
                                },
                                {
                                    "0": "Lucas Van Veenen"
                                },
                                {
                                    "0": "Ludmila Smidova"
                                },
                                {
                                    "0": "Luis Saucedo"
                                },
                                {
                                    "0": "Madelaine  Paulet"
                                },
                                {
                                    "0": "Madhavi Gupta"
                                },
                                {
                                    "0": "Madhu Dwivedi"
                                },
                                {
                                    "0": "Magdalena Cervenkova"
                                },
                                {
                                    "0": "Magdalena Michnova"
                                },
                                {
                                    "0": "Mahavir Sonkar"
                                },
                                {
                                    "0": "Mahmut ozbek"
                                },
                                {
                                    "0": "Maksims Krastins"
                                },
                                {
                                    "0": "Malati Shenoy"
                                },
                                {
                                    "0": "Malay PrabhupÄda"
                                },
                                {
                                    "0": "Malorie Bousquet"
                                },
                                {
                                    "0": "Manali Bose"
                                },
                                {
                                    "0": "Manca Hrastovsek"
                                },
                                {
                                    "0": "Mani Poddar"
                                },
                                {
                                    "0": "Manish Ghosh"
                                },
                                {
                                    "0": "Manjunatha Karnik"
                                },
                                {
                                    "0": "Marcela Jankova"
                                },
                                {
                                    "0": "Marcela Lucescu"
                                },
                                {
                                    "0": "Marcella Napolitani"
                                },
                                {
                                    "0": "Marcello Dellucci"
                                },
                                {
                                    "0": "Marco Costa"
                                },
                                {
                                    "0": "Margit Molnar"
                                },
                                {
                                    "0": "Margita Kopecka"
                                },
                                {
                                    "0": "Mariana Fierro"
                                },
                                {
                                    "0": "Marie LeBatelier"
                                },
                                {
                                    "0": "Mariela Weitzer"
                                },
                                {
                                    "0": "Marija Justina Pasek"
                                },
                                {
                                    "0": "Mario Jogi"
                                },
                                {
                                    "0": "Maris Baltins"
                                },
                                {
                                    "0": "Mark Ruutel"
                                },
                                {
                                    "0": "Mary Barney"
                                },
                                {
                                    "0": "Maryann Huddleston"
                                },
                                {
                                    "0": "Masa Buecek"
                                },
                                {
                                    "0": "Matej Formanek"
                                },
                                {
                                    "0": "Matteo Cattaneo"
                                },
                                {
                                    "0": "Matyas Bohuslav"
                                },
                                {
                                    "0": "Matyas Macek"
                                },
                                {
                                    "0": "Matyas Sedlar"
                                },
                                {
                                    "0": "Mauno Laurila"
                                },
                                {
                                    "0": "Mauri Enestam"
                                },
                                {
                                    "0": "Maurice English"
                                },
                                {
                                    "0": "Mee-Kyong Sin"
                                },
                                {
                                    "0": "Meera Patel"
                                },
                                {
                                    "0": "Melani Ravlen"
                                },
                                {
                                    "0": "Michal Polaskova"
                                },
                                {
                                    "0": "Miguel Paez"
                                },
                                {
                                    "0": "Miika Putkonen"
                                },
                                {
                                    "0": "Mikhail Degtyarev"
                                },
                                {
                                    "0": "Milica Stojkovic"
                                },
                                {
                                    "0": "Milinka Zujovic"
                                },
                                {
                                    "0": "Mina Bagheri"
                                },
                                {
                                    "0": "Mina Omidzadeh"
                                },
                                {
                                    "0": "Miran Nikolic"
                                },
                                {
                                    "0": "Miriam House"
                                },
                                {
                                    "0": "Miroslav Kohout"
                                },
                                {
                                    "0": "Mithun Bhattacharya"
                                },
                                {
                                    "0": "Mohini Kaul"
                                },
                                {
                                    "0": "Monika Valentova"
                                },
                                {
                                    "0": "Nada Ana Slosar"
                                },
                                {
                                    "0": "Nada Jovanovic"
                                },
                                {
                                    "0": "Nadir Seddigh"
                                },
                                {
                                    "0": "Nagur Atluri"
                                },
                                {
                                    "0": "Narendra Tickoo"
                                },
                                {
                                    "0": "Naseem Radan"
                                },
                                {
                                    "0": "Nasrin Omidzadeh"
                                },
                                {
                                    "0": "Natalie Horackova"
                                },
                                {
                                    "0": "Neil Farrelly"
                                },
                                {
                                    "0": "Nejc Vosnik"
                                },
                                {
                                    "0": "Ngai Lam"
                                },
                                {
                                    "0": "Nghi Hua"
                                },
                                {
                                    "0": "Nguyen Banh"
                                },
                                {
                                    "0": "Nguyet Bach"
                                },
                                {
                                    "0": "Nhung Thach"
                                },
                                {
                                    "0": "Nicolo Cattaneo"
                                },
                                {
                                    "0": "Nikolajs Kalejs"
                                },
                                {
                                    "0": "Nils Balodis"
                                },
                                {
                                    "0": "Nils Kalnins"
                                },
                                {
                                    "0": "Nils Kaulins"
                                },
                                {
                                    "0": "Nishant Menon"
                                },
                                {
                                    "0": "Nishant Patil"
                                },
                                {
                                    "0": "Nitin Matondkar"
                                },
                                {
                                    "0": "Noel Cartier"
                                },
                                {
                                    "0": "Nu Bach"
                                },
                                {
                                    "0": "Odessa Schneider"
                                },
                                {
                                    "0": "Olafs Rozitis"
                                },
                                {
                                    "0": "Olga Alexandrova"
                                },
                                {
                                    "0": "Olya Izmaylov"
                                },
                                {
                                    "0": "Om Yadav"
                                },
                                {
                                    "0": "omer ozbek"
                                },
                                {
                                    "0": "Ondrej Tomek"
                                },
                                {
                                    "0": "Padma Iyer"
                                },
                                {
                                    "0": "Paola Greece"
                                },
                                {
                                    "0": "Pari Hosseini"
                                },
                                {
                                    "0": "Parsa Reuser"
                                },
                                {
                                    "0": "Parveen Haldar"
                                },
                                {
                                    "0": "Paula Gonzales"
                                },
                                {
                                    "0": "Pavel Bogdanov"
                                },
                                {
                                    "0": "Pavel Bohuslav"
                                },
                                {
                                    "0": "Peter Macias"
                                },
                                {
                                    "0": "Philip Walker"
                                },
                                {
                                    "0": "Phoung Cu"
                                },
                                {
                                    "0": "Pinja Jantunen"
                                },
                                {
                                    "0": "Piper Leigh"
                                },
                                {
                                    "0": "Pongrit Srisati"
                                },
                                {
                                    "0": "Prabodh Nair"
                                },
                                {
                                    "0": "Pracha Nantakarn"
                                },
                                {
                                    "0": "Pramod Nishad"
                                },
                                {
                                    "0": "Prasert Supitayaporn"
                                },
                                {
                                    "0": "Prasong Tuntayakul"
                                },
                                {
                                    "0": "Pratap Varghese"
                                },
                                {
                                    "0": "Premwadee Atitarn"
                                },
                                {
                                    "0": "Premwadee Saowaluk"
                                },
                                {
                                    "0": "Preyakshna Aluri"
                                },
                                {
                                    "0": "Rachelle Brasseur"
                                },
                                {
                                    "0": "Radha Barua"
                                },
                                {
                                    "0": "Raghu Sandhu"
                                },
                                {
                                    "0": "Rahul Ghate"
                                },
                                {
                                    "0": "Rahul Sarma"
                                },
                                {
                                    "0": "Raine Knihtila"
                                },
                                {
                                    "0": "Raj Verma"
                                },
                                {
                                    "0": "Rajeev Sandhu"
                                },
                                {
                                    "0": "Raju Atluri"
                                },
                                {
                                    "0": "Rakesh Nishad"
                                },
                                {
                                    "0": "Ramesh Mukherjee"
                                },
                                {
                                    "0": "Rani Ganguly"
                                },
                                {
                                    "0": "Ranjeet Haldar"
                                },
                                {
                                    "0": "Ranjit Dikshit"
                                },
                                {
                                    "0": "Ratan Poddar"
                                },
                                {
                                    "0": "Ravindra Sandhu"
                                },
                                {
                                    "0": "Raymond Desforges"
                                },
                                {
                                    "0": "Raymond Levesque"
                                },
                                {
                                    "0": "Razeena Hosseini"
                                },
                                {
                                    "0": "Richard Friar"
                                },
                                {
                                    "0": "Richard Zahradnicek"
                                },
                                {
                                    "0": "Risto Valbe"
                                },
                                {
                                    "0": "Rodrigo Figueiredo"
                                },
                                {
                                    "0": "Rohan Das"
                                },
                                {
                                    "0": "Rohana Kaskar"
                                },
                                {
                                    "0": "Roko Ilic"
                                },
                                {
                                    "0": "Roman Pajer"
                                },
                                {
                                    "0": "Roxane Rastgu"
                                },
                                {
                                    "0": "Sabine Alksne"
                                },
                                {
                                    "0": "Sabine Zalite"
                                },
                                {
                                    "0": "Samuel Almaraz"
                                },
                                {
                                    "0": "Sang Tran"
                                },
                                {
                                    "0": "Santiago Vera"
                                },
                                {
                                    "0": "Sara Charlton"
                                },
                                {
                                    "0": "Sara Huiting"
                                },
                                {
                                    "0": "Sara Walkky"
                                },
                                {
                                    "0": "Sarmis Skujins"
                                },
                                {
                                    "0": "Satish Mittal"
                                },
                                {
                                    "0": "Selma Seppanen"
                                },
                                {
                                    "0": "Seo-yeon Rim"
                                },
                                {
                                    "0": "Seo-yun Paik"
                                },
                                {
                                    "0": "Sercan Celik"
                                },
                                {
                                    "0": "Serdar ozCelik"
                                },
                                {
                                    "0": "Serdar ozden"
                                },
                                {
                                    "0": "Serhat Akbulut"
                                },
                                {
                                    "0": "Serkan senturk"
                                },
                                {
                                    "0": "Severins Polis"
                                },
                                {
                                    "0": "Sevim AydÄ±n"
                                },
                                {
                                    "0": "Shah Alizadeh"
                                },
                                {
                                    "0": "Shah Omidi"
                                },
                                {
                                    "0": "Shantanu Huq"
                                },
                                {
                                    "0": "Shi Tu"
                                },
                                {
                                    "0": "Shiva Pipalia"
                                },
                                {
                                    "0": "Shyam Poddar"
                                },
                                {
                                    "0": "Siddhartha Parkar"
                                },
                                {
                                    "0": "Sintja Buecek"
                                },
                                {
                                    "0": "Sirirat Kongpaisarn"
                                },
                                {
                                    "0": "Sitara Benjaree"
                                },
                                {
                                    "0": "Slavko Pavlovic"
                                },
                                {
                                    "0": "Sointu Aalto"
                                },
                                {
                                    "0": "Sointu Savonheimo"
                                },
                                {
                                    "0": "Som Mukherjee"
                                },
                                {
                                    "0": "Sophie Van Lier"
                                },
                                {
                                    "0": "Staffan Persson"
                                },
                                {
                                    "0": "Stanislav Sedlar"
                                },
                                {
                                    "0": "Stefan Selezeanu"
                                },
                                {
                                    "0": "Steven Frasier"
                                },
                                {
                                    "0": "Subhash Matondkar"
                                },
                                {
                                    "0": "Sulabha Khalsa"
                                },
                                {
                                    "0": "Sumati Bhat"
                                },
                                {
                                    "0": "Sumati Chatterjee"
                                },
                                {
                                    "0": "Sung-Hwan Hwang"
                                },
                                {
                                    "0": "Suparna Bhattacharya"
                                },
                                {
                                    "0": "Surendra Sahu"
                                },
                                {
                                    "0": "Svetlana Todorovic"
                                },
                                {
                                    "0": "Sylvie Laramee"
                                },
                                {
                                    "0": "Tai Bach"
                                },
                                {
                                    "0": "Taj Syme"
                                },
                                {
                                    "0": "Taneli Riutta"
                                },
                                {
                                    "0": "Taner YÄ±lmaz"
                                },
                                {
                                    "0": "Tarja Penttila"
                                },
                                {
                                    "0": "Tatjana Utjesenovic"
                                },
                                {
                                    "0": "Tea Koppel"
                                },
                                {
                                    "0": "Telma Hermansson"
                                },
                                {
                                    "0": "Teodor Vlad"
                                },
                                {
                                    "0": "Teresa Bender"
                                },
                                {
                                    "0": "Teresa Pisani"
                                },
                                {
                                    "0": "Tereza Valentova"
                                },
                                {
                                    "0": "Theodore Saucier"
                                },
                                {
                                    "0": "Thomas Fischer"
                                },
                                {
                                    "0": "Tian Peng"
                                },
                                {
                                    "0": "Timea Peto"
                                },
                                {
                                    "0": "Tjasa Weitzer"
                                },
                                {
                                    "0": "Tobias Gruber"
                                },
                                {
                                    "0": "Toma Nastase"
                                },
                                {
                                    "0": "Tommy Kilpi"
                                },
                                {
                                    "0": "Tomo Vidovic"
                                },
                                {
                                    "0": "Truman Eder"
                                },
                                {
                                    "0": "Tuulikki Linna"
                                },
                                {
                                    "0": "Urve Kasesalu"
                                },
                                {
                                    "0": "Vaclav Polaskova"
                                },
                                {
                                    "0": "Valentin Tirlea"
                                },
                                {
                                    "0": "Valentina Conti"
                                },
                                {
                                    "0": "Valerio Cardoso"
                                },
                                {
                                    "0": "Vallo Vesik"
                                },
                                {
                                    "0": "Valter Viiding"
                                },
                                {
                                    "0": "Vanita Bhowmick"
                                },
                                {
                                    "0": "Vanja Grgic"
                                },
                                {
                                    "0": "Varuna Ganguly"
                                },
                                {
                                    "0": "Vedrana Kovacevic"
                                },
                                {
                                    "0": "Vera Kubatova"
                                },
                                {
                                    "0": "Veronika Necesana"
                                },
                                {
                                    "0": "Victoria Ene"
                                },
                                {
                                    "0": "Victoria Lacusta"
                                },
                                {
                                    "0": "Viktorie Stejskalova"
                                },
                                {
                                    "0": "Vinicius Correa"
                                },
                                {
                                    "0": "Violetta KlanCisar"
                                },
                                {
                                    "0": "Viollette Monty"
                                },
                                {
                                    "0": "Vitezslav Holy"
                                },
                                {
                                    "0": "Vitezslav Rehak"
                                },
                                {
                                    "0": "Vladimir Henzl"
                                },
                                {
                                    "0": "Vlasta Srbova"
                                },
                                {
                                    "0": "Vlastimil Bohuslav"
                                },
                                {
                                    "0": "Volkan senturk"
                                },
                                {
                                    "0": "Waldemar Fisar"
                                },
                                {
                                    "0": "Yasmine Berggren"
                                },
                                {
                                    "0": "Yavuz Cetinkaya"
                                },
                                {
                                    "0": "Youssef Eriksson"
                                },
                                {
                                    "0": "Yves Belisle"
                                },
                                {
                                    "0": "Zala Ibrahimagic"
                                },
                                {
                                    "0": "Zuzana Kuchtova"
                                }
                            ]
                        },
                        "text/html": "<table><tr><th>FullName</th></tr><tr><td>Aahlada Thota</td></tr><tr><td>Aakarsha Nookala</td></tr><tr><td>Aakriti Bhamidipati</td></tr><tr><td>Aakriti Byrraju</td></tr><tr><td>Aamdaal Kamasamudram</td></tr><tr><td>Abel Spirlea</td></tr><tr><td>Abel Tatarescu</td></tr><tr><td>Abhaya Rambhatla</td></tr><tr><td>Abhoy PrabhupÄda</td></tr><tr><td>Abhra Ganguly</td></tr><tr><td>Abhra Thakur</td></tr><tr><td>Adam Dvorak</td></tr><tr><td>Adam Kubat</td></tr><tr><td>Adirake Saenamuang</td></tr><tr><td>Adrian Andreasson</td></tr><tr><td>Adriana Horackova</td></tr><tr><td>Adriana Pena</td></tr><tr><td>Adrijana Blagojevic</td></tr><tr><td>Ae-Cha Joo</td></tr><tr><td>Afshin Djalili</td></tr><tr><td>Agnes Szolosy</td></tr><tr><td>Agrita Abele</td></tr><tr><td>Agrita Kalnina</td></tr><tr><td>Agrita Kanepa</td></tr><tr><td>Aija Lukstina</td></tr><tr><td>Aija Mottola</td></tr><tr><td>Aija Zvaigzne</td></tr><tr><td>Aile Aasmae</td></tr><tr><td>Aile Mae</td></tr><tr><td>Aino Kallas</td></tr><tr><td>Airi Vassiljev</td></tr><tr><td>Aishwarya Dantuluri</td></tr><tr><td>Aive Petrov</td></tr><tr><td>Ajitaab Pakalapati</td></tr><tr><td>Akanksha Iyengar</td></tr><tr><td>Akanksha Sarma</td></tr><tr><td>Akhil Nadar</td></tr><tr><td>Akhtar Shahrestaani</td></tr><tr><td>Akshayakeerti Jandhyala</td></tr><tr><td>Alain Pelland</td></tr><tr><td>Alba Ponce</td></tr><tr><td>Alejandro Escobar</td></tr><tr><td>Aleksander Jarvi</td></tr><tr><td>Aleksandrs Riekstins</td></tr><tr><td>Alena Kellnerova</td></tr><tr><td>Alena Prikrylova</td></tr><tr><td>Alida Caune</td></tr><tr><td>Alinne Cardoso</td></tr><tr><td>Alinne Matos</td></tr><tr><td>Allan Mannik</td></tr><tr><td>Alvin Bollinger</td></tr><tr><td>Am Lo</td></tr><tr><td>Amarakumaar Gadiyaram</td></tr><tr><td>Amarasimha Vinjamuri</td></tr><tr><td>Amarendra Ankitham</td></tr><tr><td>Amet Shergill</td></tr><tr><td>Amrita Ganguly</td></tr><tr><td>An Dung Ngo</td></tr><tr><td>An Dung Phung</td></tr><tr><td>Ana Florea</td></tr><tr><td>Ana Julijana Isa</td></tr><tr><td>Anand Mudaliyar</td></tr><tr><td>Anca Gogean</td></tr><tr><td>Anda Liepa</td></tr><tr><td>Andrea Ricci</td></tr><tr><td>Andris Saulitis</td></tr><tr><td>Andris Vitols</td></tr><tr><td>Anete Kundzina</td></tr><tr><td>Angelina Gormanston</td></tr><tr><td>Anil Sarkar</td></tr><tr><td>Anindo Mazumdar</td></tr><tr><td>Anindya Ghatak</td></tr><tr><td>Anirban Sen</td></tr><tr><td>Anjali Asthana</td></tr><tr><td>Ankolika Sen</td></tr><tr><td>Anna Gyarmathi</td></tr><tr><td>Anna Mazzanti</td></tr><tr><td>Annette  Hetu</td></tr><tr><td>Arijit Bhuiyan</td></tr><tr><td>Arka Chatterjee</td></tr><tr><td>Arnab Malakar</td></tr><tr><td>Åšani Nair</td></tr><tr><td>Åšani Sen</td></tr><tr><td>Asha Mudigonda</td></tr><tr><td>Ashish Acharya</td></tr><tr><td>Astrid Poisson</td></tr><tr><td>Ava Edden</td></tr><tr><td>Avanti Nishad</td></tr><tr><td>Ayberk sahin</td></tr><tr><td>Baalaaditya Rallapalli</td></tr><tr><td>Baalaamani Veturi</td></tr><tr><td>Baalaamjali Devulapalli</td></tr><tr><td>Baanuraekha Voleti</td></tr><tr><td>Badari Chadalavada</td></tr><tr><td>Baebeesarasvati Kamasamudram</td></tr><tr><td>Bahaar Asef zade</td></tr><tr><td>Bala Dixit</td></tr><tr><td>Banshari De</td></tr><tr><td>Bansidhar Mitra</td></tr><tr><td>Bao Dao</td></tr><tr><td>Baran Jonsson</td></tr><tr><td>Basak Tekin</td></tr><tr><td>Bay Ly</td></tr><tr><td>Be Trang</td></tr><tr><td>Beatrise Bite</td></tr><tr><td>Bhaagyalakshmi Muppavarapu</td></tr><tr><td>Bhaamini Kanaparthi</td></tr><tr><td>Bhaamini Palagummi</td></tr><tr><td>Bhaargav Rambhatla</td></tr><tr><td>Bhaavan Rai</td></tr><tr><td>Bhadram Kamasamudram</td></tr><tr><td>Bhagavaan Atluri</td></tr><tr><td>Bhagavateeprasaad Malladi</td></tr><tr><td>Bhagavati Vinjamuri</td></tr><tr><td>Bhairaam Kidambi</td></tr><tr><td>Bhanu Thota</td></tr><tr><td>Bharat Ankitham</td></tr><tr><td>Bharat Sikdar</td></tr><tr><td>Bhavani Bhowmick</td></tr><tr><td>Bianh Phan</td></tr><tr><td>Bich Banh</td></tr><tr><td>Bijoya Thakur</td></tr><tr><td>Biju Deb</td></tr><tr><td>Bimla PrabhupÄda</td></tr><tr><td>Bing Han</td></tr><tr><td>Bipin Modi</td></tr><tr><td>Biplab De</td></tr><tr><td>Bishwa Chatterjee</td></tr><tr><td>Bishwanath Ghosh</td></tr><tr><td>Biswajeet Thakur</td></tr><tr><td>Blanka Stavinohova</td></tr><tr><td>Brenda Morgan</td></tr><tr><td>Brita Jarvi</td></tr><tr><td>Bryan Helms</td></tr><tr><td>Calin Bojin</td></tr><tr><td>Camille Authier</td></tr><tr><td>Can ozcan</td></tr><tr><td>Catalina Nechita</td></tr><tr><td>Caterina Fallaci</td></tr><tr><td>Caterina Pinto</td></tr><tr><td>Celica Barajas</td></tr><tr><td>Ceyhun sahin</td></tr><tr><td>Cezar Pavel</td></tr><tr><td>Chaayaadaevi Sonti</td></tr><tr><td>Chandana Shasthri</td></tr><tr><td>Chandni Jandhyala</td></tr><tr><td>Chandrakanta Benjaree</td></tr><tr><td>Chandrakanta Raut</td></tr><tr><td>Chandranath Bose</td></tr><tr><td>Chandrashekhar Dasgupta</td></tr><tr><td>Charline Flamand</td></tr><tr><td>Chati Ornlamai</td></tr><tr><td>Chetana Kamath</td></tr><tr><td>Chin-Sun Chang</td></tr><tr><td>Chompoo Atitarn</td></tr><tr><td>Christian Couet</td></tr><tr><td>Chuan Wattanasin</td></tr><tr><td>Clarissa Manfrin</td></tr><tr><td>Claude Bonsaint</td></tr><tr><td>Cong Hoa</td></tr><tr><td>Constanza Laureano</td></tr><tr><td>Coralie Emond</td></tr><tr><td>Corneliu Vladu</td></tr><tr><td>Cosmina Vlad</td></tr><tr><td>Crina Grasu</td></tr><tr><td>Crina Nechita</td></tr><tr><td>Cristina Longo</td></tr><tr><td>Cuneyt Arslan</td></tr><tr><td>Daakshaayaani Kommineni</td></tr><tr><td>Daakshaayaani Sankaramanchi</td></tr><tr><td>Daedeepya Thota</td></tr><tr><td>Daevasree Samavedam</td></tr><tr><td>Damodar Shenoy</td></tr><tr><td>Damodara Trivedi</td></tr><tr><td>Dana Mrazova</td></tr><tr><td>Daniel Magnusson</td></tr><tr><td>Daniel Martensson</td></tr><tr><td>Daniel Roman</td></tr><tr><td>Daniela Barrios</td></tr><tr><td>Daniela Dumina</td></tr><tr><td>Daniela Sal</td></tr><tr><td>Daniella Barbosa</td></tr><tr><td>Daniella Cavalcante</td></tr><tr><td>Darakhshan Javaherian</td></tr><tr><td>Darshan Gupta</td></tr><tr><td>Darshana Madhunapantula</td></tr><tr><td>Dattaatraeya Tottempudi</td></tr><tr><td>David Jaramillo</td></tr><tr><td>David Novacek </td></tr><tr><td>David safranek</td></tr><tr><td>Dayaram Mishra</td></tr><tr><td>Dayarama Kamei</td></tr><tr><td>Deakshitulu Mokkapati</td></tr><tr><td>Debbie Molina</td></tr><tr><td>Debraj Sanyal</td></tr><tr><td>Deepesh Bose</td></tr><tr><td>Dena Glissen</td></tr><tr><td>Denisa Ioveanu</td></tr><tr><td>Devendranath Huq</td></tr><tr><td>Devi Dewangan</td></tr><tr><td>Deviprasad PrabhupÄda</td></tr><tr><td>Devraj Rao</td></tr><tr><td>Dhaatri Chavva</td></tr><tr><td>Dhaeraemdranaadh Allu</td></tr><tr><td>Dhaeraemdranaadh Pamulaparthi</td></tr><tr><td>Dhanishta Majji</td></tr><tr><td>Dhanishta Mokkapati</td></tr><tr><td>Dhanishta Pullela</td></tr><tr><td>Didem ozCelik</td></tr><tr><td>Dilara Ayhan</td></tr><tr><td>Dimitry Nechita</td></tr><tr><td>Dimitry Profis</td></tr><tr><td>Dinara Saparkyzy</td></tr><tr><td>Dinh Mai</td></tr><tr><td>Dipali Sonkar</td></tr><tr><td>Dipti Shah</td></tr><tr><td>Divyendu Chakraborty</td></tr><tr><td>Dominic Davignon</td></tr><tr><td>Donato Araujo</td></tr><tr><td>Doru Munteanu</td></tr><tr><td>Doru Tirlea</td></tr><tr><td>Drazenka Jelic</td></tr><tr><td>Drishti Bose</td></tr><tr><td>Duangrat Atitarn</td></tr><tr><td>Duck-Hwan Bae</td></tr><tr><td>Duleep Raju</td></tr><tr><td>Duleep Srivastava</td></tr><tr><td>Duleep Walia</td></tr><tr><td>Dunja Radoncis</td></tr><tr><td>Durdanah Abbasi</td></tr><tr><td>Ebru Erdogan</td></tr><tr><td>Edgar Jogi</td></tr><tr><td>Edmee Glissen</td></tr><tr><td>Eekalabya Bose</td></tr><tr><td>Eesvaraavu Ankitham</td></tr><tr><td>Elina Kaleja</td></tr><tr><td>Eliza Persson</td></tr><tr><td>Ella Zvirbule</td></tr><tr><td>Elnaz Javan</td></tr><tr><td>Ema Slosar</td></tr><tr><td>Emil Roman</td></tr><tr><td>Emilie Hrdlickova</td></tr><tr><td>Emily Whittle</td></tr><tr><td>Emma Salpa</td></tr><tr><td>Emma Van Zant</td></tr><tr><td>Enes Olsson</td></tr><tr><td>Eric Torres</td></tr><tr><td>Erik Malk</td></tr><tr><td>Ester Ahmadian</td></tr><tr><td>Eugen Agafitei</td></tr><tr><td>Eva Schulteisz</td></tr><tr><td>Fabio Pena</td></tr><tr><td>Fabrice Cloutier</td></tr><tr><td>Fanni Benko</td></tr><tr><td>Farzana Habibi</td></tr><tr><td>Femke Hollenberg</td></tr><tr><td>Ferhat Celik</td></tr><tr><td>Filips Jaunzems</td></tr><tr><td>Flora Olofsson</td></tr><tr><td>Francisca Laureano</td></tr><tr><td>Fransje Mutlu</td></tr><tr><td>Gabriela Chirila</td></tr><tr><td>Gabriela Hernandes</td></tr><tr><td>Gabriela Srbova</td></tr><tr><td>Gabriele Udinesi</td></tr><tr><td>Ganapati Gadiyaram</td></tr><tr><td>Ganesh Majumdar</td></tr><tr><td>Ganesh Mukherjee</td></tr><tr><td>Gasper Havzija</td></tr><tr><td>Gaurav Sikdar</td></tr><tr><td>Gayatri Gajula</td></tr><tr><td>Geza Roman</td></tr><tr><td>Gianguido Lucchesi</td></tr><tr><td>Gilbert Pelland</td></tr><tr><td>Gireesh Bhogireddy</td></tr><tr><td>Gi-Suk Heo</td></tr><tr><td>GokCe Karaca</td></tr><tr><td>Gopalgobinda Sikdar</td></tr><tr><td>Gui-Hyun Ji</td></tr><tr><td>Gundega Kundzina</td></tr><tr><td>Gunnar Lohmus</td></tr><tr><td>Gunnar Persson</td></tr><tr><td>Haasini Rai</td></tr><tr><td>Hai Banh</td></tr><tr><td>Halit Gunes</td></tr><tr><td>Hana Hlouskova</td></tr><tr><td>Hang Tang</td></tr><tr><td>Hanita Nookala</td></tr><tr><td>Hanuman Dubey</td></tr><tr><td>Harri Kask</td></tr><tr><td>Harsha Huq</td></tr><tr><td>Hedi Koppel</td></tr><tr><td>Hee-Young Suh</td></tr><tr><td>Helene Dupuy</td></tr><tr><td>Heloisa Fernandes</td></tr><tr><td>Hemchandra Debnath</td></tr><tr><td>Himadri PrabhupÄda</td></tr><tr><td>Hoc Le</td></tr><tr><td>Hoc Tran</td></tr><tr><td>Hue Ton</td></tr><tr><td>Hyun-Doo Song</td></tr><tr><td>Ian Olofsson</td></tr><tr><td>Ida Celma</td></tr><tr><td>Ileana Aguilar</td></tr><tr><td>Ilgonis Dzenis</td></tr><tr><td>Ilse Sandell</td></tr><tr><td>Ingrida Celmina</td></tr><tr><td>Ingrida Zeltina</td></tr><tr><td>In-Su Bae</td></tr><tr><td>Intira Mookjai</td></tr><tr><td>Ioana Florea</td></tr><tr><td>Irene Sepp</td></tr><tr><td>Irma Berzina</td></tr><tr><td>Irma Kruze</td></tr><tr><td>Isa Hulsegge</td></tr><tr><td>Isabell  Duperre</td></tr><tr><td>Isabelle Vodlan</td></tr><tr><td>Isidora Morales</td></tr><tr><td>Isidora Urias</td></tr><tr><td>Ivan Sepulveda</td></tr><tr><td>Ivana Hadrabova</td></tr><tr><td>Ivica LuÄic</td></tr><tr><td>Ivonna Ene</td></tr><tr><td>Jack Carpenter</td></tr><tr><td>Jack Walker</td></tr><tr><td>Jackson Kolios</td></tr><tr><td>Jae-Hwa Jang</td></tr><tr><td>Jae-Hwa Min</td></tr><tr><td>Jae-Hwa Shin</td></tr><tr><td>Jagoda Vasiljevic</td></tr><tr><td>Jai Lamble</td></tr><tr><td>Jakub Lukes</td></tr><tr><td>Jan Zeman</td></tr><tr><td>Jana Fialova</td></tr><tr><td>Jaroslav Fisar</td></tr><tr><td>Jasna Cerkez</td></tr><tr><td>Javier Caraballo</td></tr><tr><td>Javiera Madera</td></tr><tr><td>Jay Bhuiyan</td></tr><tr><td>Jayanta Thakur</td></tr><tr><td>Jelena Utjesenovic</td></tr><tr><td>Jessica Perrine</td></tr><tr><td>Jibek Juniskyzy</td></tr><tr><td>Jiri Vacha</td></tr><tr><td>Jitka Necesana</td></tr><tr><td>Joel Carrillo</td></tr><tr><td>Johanna Hoornstra</td></tr><tr><td>Johanna Huiting</td></tr><tr><td>Josef Benda</td></tr><tr><td>Juan Bezanson</td></tr><tr><td>Juan Morse</td></tr><tr><td>Julia Konecna</td></tr><tr><td>Julia Slobodova</td></tr><tr><td>Julio Correa</td></tr><tr><td>Jure Grabensek</td></tr><tr><td>Jyoti Karnik</td></tr><tr><td>Kaan Tekin</td></tr><tr><td>Kadir Usenuly</td></tr><tr><td>Kahkushan Shakiba</td></tr><tr><td>Kajsa Jakobsson</td></tr><tr><td>Kalidas Nadar</td></tr><tr><td>Kalyani Benjaree</td></tr><tr><td>Kamala Nishad</td></tr><tr><td>Kamila Michnova</td></tr><tr><td>Kanti Kotadia</td></tr><tr><td>Karel Hanak</td></tr><tr><td>Karie Mercier</td></tr><tr><td>Karie Seymour</td></tr><tr><td>Karina Celmina</td></tr><tr><td>Katerina Hadrabova</td></tr><tr><td>Kaya ozbek</td></tr><tr><td>Kertu Smirnov</td></tr><tr><td>Kertu Sokk</td></tr><tr><td>Kimberly Pace</td></tr><tr><td>Klara Rakus</td></tr><tr><td>Knut Svensson</td></tr><tr><td>Koknesis Vitols</td></tr><tr><td>Krishnam Allu</td></tr><tr><td>Kristi Part</td></tr><tr><td>Kristiina Ivanov</td></tr><tr><td>Kumar Kamei</td></tr><tr><td>Kumar Naicker</td></tr><tr><td>Kurt Lukes</td></tr><tr><td>Kwanjai Saowaluk</td></tr><tr><td>Laboni Deb</td></tr><tr><td>Lakshmi Benipal</td></tr><tr><td>Lakshmi Roy</td></tr><tr><td>Lalit Ogra</td></tr><tr><td>Lan Chu</td></tr><tr><td>Lana Goransson</td></tr><tr><td>Lana Rozej</td></tr><tr><td>Lang Le</td></tr><tr><td>Lap Dinh</td></tr><tr><td>Laszlo Gardenier</td></tr><tr><td>Lata Babu</td></tr><tr><td>Lata Khandke</td></tr><tr><td>Laura Sykorova</td></tr><tr><td>Leila Carvalho</td></tr><tr><td>Lekha Mitra</td></tr><tr><td>Leonardo Folliero</td></tr><tr><td>Leyla Asef zade</td></tr><tr><td>Leyla Siavashi</td></tr><tr><td>Libuse Kuchtova</td></tr><tr><td>Libuse Srbova</td></tr><tr><td>Libuse Valentova</td></tr><tr><td>Lien Banh</td></tr><tr><td>Liia Orav</td></tr><tr><td>Liidia Lepp</td></tr><tr><td>Lilli Sokk</td></tr><tr><td>Linda Green</td></tr><tr><td>Linda Ledezma</td></tr><tr><td>Linh Dao</td></tr><tr><td>Ljubomir Nesic</td></tr><tr><td>Lorena Cindric</td></tr><tr><td>Lorin Astrom</td></tr><tr><td>Lorraine Paulet</td></tr><tr><td>Lucas Van Veenen</td></tr><tr><td>Ludmila Smidova</td></tr><tr><td>Luis Saucedo</td></tr><tr><td>Madelaine  Paulet</td></tr><tr><td>Madhavi Gupta</td></tr><tr><td>Madhu Dwivedi</td></tr><tr><td>Magdalena Cervenkova</td></tr><tr><td>Magdalena Michnova</td></tr><tr><td>Mahavir Sonkar</td></tr><tr><td>Mahmut ozbek</td></tr><tr><td>Maksims Krastins</td></tr><tr><td>Malati Shenoy</td></tr><tr><td>Malay PrabhupÄda</td></tr><tr><td>Malorie Bousquet</td></tr><tr><td>Manali Bose</td></tr><tr><td>Manca Hrastovsek</td></tr><tr><td>Mani Poddar</td></tr><tr><td>Manish Ghosh</td></tr><tr><td>Manjunatha Karnik</td></tr><tr><td>Marcela Jankova</td></tr><tr><td>Marcela Lucescu</td></tr><tr><td>Marcella Napolitani</td></tr><tr><td>Marcello Dellucci</td></tr><tr><td>Marco Costa</td></tr><tr><td>Margit Molnar</td></tr><tr><td>Margita Kopecka</td></tr><tr><td>Mariana Fierro</td></tr><tr><td>Marie LeBatelier</td></tr><tr><td>Mariela Weitzer</td></tr><tr><td>Marija Justina Pasek</td></tr><tr><td>Mario Jogi</td></tr><tr><td>Maris Baltins</td></tr><tr><td>Mark Ruutel</td></tr><tr><td>Mary Barney</td></tr><tr><td>Maryann Huddleston</td></tr><tr><td>Masa Buecek</td></tr><tr><td>Matej Formanek</td></tr><tr><td>Matteo Cattaneo</td></tr><tr><td>Matyas Bohuslav</td></tr><tr><td>Matyas Macek</td></tr><tr><td>Matyas Sedlar</td></tr><tr><td>Mauno Laurila</td></tr><tr><td>Mauri Enestam</td></tr><tr><td>Maurice English</td></tr><tr><td>Mee-Kyong Sin</td></tr><tr><td>Meera Patel</td></tr><tr><td>Melani Ravlen</td></tr><tr><td>Michal Polaskova</td></tr><tr><td>Miguel Paez</td></tr><tr><td>Miika Putkonen</td></tr><tr><td>Mikhail Degtyarev</td></tr><tr><td>Milica Stojkovic</td></tr><tr><td>Milinka Zujovic</td></tr><tr><td>Mina Bagheri</td></tr><tr><td>Mina Omidzadeh</td></tr><tr><td>Miran Nikolic</td></tr><tr><td>Miriam House</td></tr><tr><td>Miroslav Kohout</td></tr><tr><td>Mithun Bhattacharya</td></tr><tr><td>Mohini Kaul</td></tr><tr><td>Monika Valentova</td></tr><tr><td>Nada Ana Slosar</td></tr><tr><td>Nada Jovanovic</td></tr><tr><td>Nadir Seddigh</td></tr><tr><td>Nagur Atluri</td></tr><tr><td>Narendra Tickoo</td></tr><tr><td>Naseem Radan</td></tr><tr><td>Nasrin Omidzadeh</td></tr><tr><td>Natalie Horackova</td></tr><tr><td>Neil Farrelly</td></tr><tr><td>Nejc Vosnik</td></tr><tr><td>Ngai Lam</td></tr><tr><td>Nghi Hua</td></tr><tr><td>Nguyen Banh</td></tr><tr><td>Nguyet Bach</td></tr><tr><td>Nhung Thach</td></tr><tr><td>Nicolo Cattaneo</td></tr><tr><td>Nikolajs Kalejs</td></tr><tr><td>Nils Balodis</td></tr><tr><td>Nils Kalnins</td></tr><tr><td>Nils Kaulins</td></tr><tr><td>Nishant Menon</td></tr><tr><td>Nishant Patil</td></tr><tr><td>Nitin Matondkar</td></tr><tr><td>Noel Cartier</td></tr><tr><td>Nu Bach</td></tr><tr><td>Odessa Schneider</td></tr><tr><td>Olafs Rozitis</td></tr><tr><td>Olga Alexandrova</td></tr><tr><td>Olya Izmaylov</td></tr><tr><td>Om Yadav</td></tr><tr><td>omer ozbek</td></tr><tr><td>Ondrej Tomek</td></tr><tr><td>Padma Iyer</td></tr><tr><td>Paola Greece</td></tr><tr><td>Pari Hosseini</td></tr><tr><td>Parsa Reuser</td></tr><tr><td>Parveen Haldar</td></tr><tr><td>Paula Gonzales</td></tr><tr><td>Pavel Bogdanov</td></tr><tr><td>Pavel Bohuslav</td></tr><tr><td>Peter Macias</td></tr><tr><td>Philip Walker</td></tr><tr><td>Phoung Cu</td></tr><tr><td>Pinja Jantunen</td></tr><tr><td>Piper Leigh</td></tr><tr><td>Pongrit Srisati</td></tr><tr><td>Prabodh Nair</td></tr><tr><td>Pracha Nantakarn</td></tr><tr><td>Pramod Nishad</td></tr><tr><td>Prasert Supitayaporn</td></tr><tr><td>Prasong Tuntayakul</td></tr><tr><td>Pratap Varghese</td></tr><tr><td>Premwadee Atitarn</td></tr><tr><td>Premwadee Saowaluk</td></tr><tr><td>Preyakshna Aluri</td></tr><tr><td>Rachelle Brasseur</td></tr><tr><td>Radha Barua</td></tr><tr><td>Raghu Sandhu</td></tr><tr><td>Rahul Ghate</td></tr><tr><td>Rahul Sarma</td></tr><tr><td>Raine Knihtila</td></tr><tr><td>Raj Verma</td></tr><tr><td>Rajeev Sandhu</td></tr><tr><td>Raju Atluri</td></tr><tr><td>Rakesh Nishad</td></tr><tr><td>Ramesh Mukherjee</td></tr><tr><td>Rani Ganguly</td></tr><tr><td>Ranjeet Haldar</td></tr><tr><td>Ranjit Dikshit</td></tr><tr><td>Ratan Poddar</td></tr><tr><td>Ravindra Sandhu</td></tr><tr><td>Raymond Desforges</td></tr><tr><td>Raymond Levesque</td></tr><tr><td>Razeena Hosseini</td></tr><tr><td>Richard Friar</td></tr><tr><td>Richard Zahradnicek</td></tr><tr><td>Risto Valbe</td></tr><tr><td>Rodrigo Figueiredo</td></tr><tr><td>Rohan Das</td></tr><tr><td>Rohana Kaskar</td></tr><tr><td>Roko Ilic</td></tr><tr><td>Roman Pajer</td></tr><tr><td>Roxane Rastgu</td></tr><tr><td>Sabine Alksne</td></tr><tr><td>Sabine Zalite</td></tr><tr><td>Samuel Almaraz</td></tr><tr><td>Sang Tran</td></tr><tr><td>Santiago Vera</td></tr><tr><td>Sara Charlton</td></tr><tr><td>Sara Huiting</td></tr><tr><td>Sara Walkky</td></tr><tr><td>Sarmis Skujins</td></tr><tr><td>Satish Mittal</td></tr><tr><td>Selma Seppanen</td></tr><tr><td>Seo-yeon Rim</td></tr><tr><td>Seo-yun Paik</td></tr><tr><td>Sercan Celik</td></tr><tr><td>Serdar ozCelik</td></tr><tr><td>Serdar ozden</td></tr><tr><td>Serhat Akbulut</td></tr><tr><td>Serkan senturk</td></tr><tr><td>Severins Polis</td></tr><tr><td>Sevim AydÄ±n</td></tr><tr><td>Shah Alizadeh</td></tr><tr><td>Shah Omidi</td></tr><tr><td>Shantanu Huq</td></tr><tr><td>Shi Tu</td></tr><tr><td>Shiva Pipalia</td></tr><tr><td>Shyam Poddar</td></tr><tr><td>Siddhartha Parkar</td></tr><tr><td>Sintja Buecek</td></tr><tr><td>Sirirat Kongpaisarn</td></tr><tr><td>Sitara Benjaree</td></tr><tr><td>Slavko Pavlovic</td></tr><tr><td>Sointu Aalto</td></tr><tr><td>Sointu Savonheimo</td></tr><tr><td>Som Mukherjee</td></tr><tr><td>Sophie Van Lier</td></tr><tr><td>Staffan Persson</td></tr><tr><td>Stanislav Sedlar</td></tr><tr><td>Stefan Selezeanu</td></tr><tr><td>Steven Frasier</td></tr><tr><td>Subhash Matondkar</td></tr><tr><td>Sulabha Khalsa</td></tr><tr><td>Sumati Bhat</td></tr><tr><td>Sumati Chatterjee</td></tr><tr><td>Sung-Hwan Hwang</td></tr><tr><td>Suparna Bhattacharya</td></tr><tr><td>Surendra Sahu</td></tr><tr><td>Svetlana Todorovic</td></tr><tr><td>Sylvie Laramee</td></tr><tr><td>Tai Bach</td></tr><tr><td>Taj Syme</td></tr><tr><td>Taneli Riutta</td></tr><tr><td>Taner YÄ±lmaz</td></tr><tr><td>Tarja Penttila</td></tr><tr><td>Tatjana Utjesenovic</td></tr><tr><td>Tea Koppel</td></tr><tr><td>Telma Hermansson</td></tr><tr><td>Teodor Vlad</td></tr><tr><td>Teresa Bender</td></tr><tr><td>Teresa Pisani</td></tr><tr><td>Tereza Valentova</td></tr><tr><td>Theodore Saucier</td></tr><tr><td>Thomas Fischer</td></tr><tr><td>Tian Peng</td></tr><tr><td>Timea Peto</td></tr><tr><td>Tjasa Weitzer</td></tr><tr><td>Tobias Gruber</td></tr><tr><td>Toma Nastase</td></tr><tr><td>Tommy Kilpi</td></tr><tr><td>Tomo Vidovic</td></tr><tr><td>Truman Eder</td></tr><tr><td>Tuulikki Linna</td></tr><tr><td>Urve Kasesalu</td></tr><tr><td>Vaclav Polaskova</td></tr><tr><td>Valentin Tirlea</td></tr><tr><td>Valentina Conti</td></tr><tr><td>Valerio Cardoso</td></tr><tr><td>Vallo Vesik</td></tr><tr><td>Valter Viiding</td></tr><tr><td>Vanita Bhowmick</td></tr><tr><td>Vanja Grgic</td></tr><tr><td>Varuna Ganguly</td></tr><tr><td>Vedrana Kovacevic</td></tr><tr><td>Vera Kubatova</td></tr><tr><td>Veronika Necesana</td></tr><tr><td>Victoria Ene</td></tr><tr><td>Victoria Lacusta</td></tr><tr><td>Viktorie Stejskalova</td></tr><tr><td>Vinicius Correa</td></tr><tr><td>Violetta KlanCisar</td></tr><tr><td>Viollette Monty</td></tr><tr><td>Vitezslav Holy</td></tr><tr><td>Vitezslav Rehak</td></tr><tr><td>Vladimir Henzl</td></tr><tr><td>Vlasta Srbova</td></tr><tr><td>Vlastimil Bohuslav</td></tr><tr><td>Volkan senturk</td></tr><tr><td>Waldemar Fisar</td></tr><tr><td>Yasmine Berggren</td></tr><tr><td>Yavuz Cetinkaya</td></tr><tr><td>Youssef Eriksson</td></tr><tr><td>Yves Belisle</td></tr><tr><td>Zala Ibrahimagic</td></tr><tr><td>Zuzana Kuchtova</td></tr></table>"
                    },
                    "metadata": {}
                }
            ],
            "execution_count": 3
        },
        {
            "cell_type": "markdown",
            "source": "## Next Steps: Continue on to Working with the SQL Server Data Pool",
            "metadata": {}
        }
    ]
}