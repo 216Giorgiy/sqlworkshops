{
    "metadata": {
        "kernelspec": {
            "name": "SQL",
            "display_name": "SQL",
            "language": "sql"
        },
        "language_info": {
            "name": "sql",
            "version": ""
        }
    },
    "nbformat_minor": 2,
    "nbformat": 4,
    "cells": [
        {
            "cell_type": "markdown",
            "source": "<img src=\"https://github.com/Microsoft/sqlworkshops/blob/master/graphics/solutions-microsoft-logo-small.png?raw=true\" alt=\"Microsoft\">\r\n<br>\r\n\r\n# SQL Server 2019 big data cluster Tutorial\r\n## 02 - Data Virtualization\r\n\r\nIn this tutorial you will learn how to create and query Virtualized Data in a SQL Server big data cluster. \r\n\r\n**TODO:** Complete Tutorial \r\n",
            "metadata": {}
        },
        {
            "cell_type": "code",
            "source": "/* Create External File Format */\r\n\r\nUSE WideWorldImporters;\r\nGO\r\n\r\nIF NOT EXISTS(SELECT * FROM sys.external_file_formats WHERE name = 'csv_file')\r\nBEGIN\r\n    CREATE EXTERNAL FILE FORMAT csv_file\r\n    WITH (\r\n        FORMAT_TYPE = DELIMITEDTEXT,\r\n        FORMAT_OPTIONS(\r\n            FIELD_TERMINATOR = ',',\r\n            STRING_DELIMITER = '0x22',\r\n            FIRST_ROW = 2,\r\n            USE_TYPE_DEFAULT = TRUE)\r\n    );\r\nEND",
            "metadata": {},
            "outputs": [],
            "execution_count": 31
        },
        {
            "cell_type": "code",
            "source": "/* Create External Data Source to the Storage Pool */\r\nIF NOT EXISTS(SELECT * FROM sys.external_data_sources WHERE name = 'SqlStoragePool')\r\nBEGIN\r\n  IF (SELECT @@VERSION) LIKE '%CTP2.3%'\r\n    CREATE EXTERNAL DATA SOURCE SqlStoragePool\r\n    WITH (LOCATION = 'sqlhdfs://service-mssql-controller:8080');\r\n  ELSE IF (SELECT @@VERSION) LIKE '%CTP2.4%'\r\n    CREATE EXTERNAL DATA SOURCE SqlStoragePool\r\n    WITH (LOCATION = 'sqlhdfs://service-master-pool:50070');\r\nEND",
            "metadata": {},
            "outputs": [],
            "execution_count": 6
        },
        {
            "cell_type": "code",
            "source": "/* Create an External Table that can read from the Storage Pool File Location */\r\nIF NOT EXISTS(SELECT * FROM sys.external_tables WHERE name = 'web_customers_hdfs')\r\nBEGIN\r\n    CREATE EXTERNAL TABLE [web_customers_hdfs]\r\n    (\"CustomerCategoryName\" VARCHAR(250) \r\n    , \"PrimaryContact\" VARCHAR(250) \r\n    , \"WebsiteURL\" VARCHAR(250))\r\n    WITH\r\n    (\r\n        DATA_SOURCE = SqlStoragePool,\r\n        LOCATION = '/adventureworks_export',\r\n        FILE_FORMAT = csv_file\r\n    );\r\nEND",
            "metadata": {},
            "outputs": [],
            "execution_count": 40
        },
        {
            "cell_type": "code",
            "source": "/* Read Data from HDFS using only T-SQL */\r\n\r\nSELECT hdfs.PrimaryContact\r\n, hdfs.CustomerCategoryName\r\n    FROM [web_customers_hdfs] hdfs\r\nWHERE WebsiteURL LIKE '%wingtip%';\r\nGO\r\n",
            "metadata": {},
            "outputs": [],
            "execution_count": 44
        }
    ]
}