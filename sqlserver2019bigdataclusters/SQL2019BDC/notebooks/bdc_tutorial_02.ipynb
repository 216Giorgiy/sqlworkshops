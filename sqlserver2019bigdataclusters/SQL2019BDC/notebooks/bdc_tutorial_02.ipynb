{
    "metadata": {
        "kernelspec": {
            "name": "SQL",
            "display_name": "SQL",
            "language": "sql"
        },
        "language_info": {
            "name": "sql",
            "version": ""
        }
    },
    "nbformat_minor": 2,
    "nbformat": 4,
    "cells": [
        {
            "cell_type": "markdown",
            "source": "<img src=\"https://github.com/Microsoft/sqlworkshops/blob/master/graphics/solutions-microsoft-logo-small.png?raw=true\" alt=\"Microsoft\">\r\n<br>\r\n\r\n# SQL Server 2019 big data cluster Tutorial\r\n## 02 - Data Virtualization\r\n\r\nIn this tutorial you will learn how to create and query Virtualized Data in a SQL Server big data cluster. \r\n\r\n**TODO:** Complete Tutorial \r\n",
            "metadata": {}
        },
        {
            "cell_type": "code",
            "source": "/* Create External File Format */\r\n\r\nUSE WideWorldImporters;\r\nGO\r\n\r\nIF NOT EXISTS(SELECT * FROM sys.external_file_formats WHERE name = 'csv_file')\r\nBEGIN\r\n    CREATE EXTERNAL FILE FORMAT csv_file\r\n    WITH (\r\n        FORMAT_TYPE = DELIMITEDTEXT,\r\n        FORMAT_OPTIONS(\r\n            FIELD_TERMINATOR = ',',\r\n            STRING_DELIMITER = '0x22',\r\n            FIRST_ROW = 2,\r\n            USE_TYPE_DEFAULT = TRUE)\r\n    );\r\nEND",
            "metadata": {},
            "outputs": [
                {
                    "output_type": "display_data",
                    "data": {
                        "text/html": "Commands completed successfully."
                    },
                    "metadata": {}
                },
                {
                    "output_type": "display_data",
                    "data": {
                        "text/html": "Total execution time: 00:00:00.0788445"
                    },
                    "metadata": {}
                },
                {
                    "output_type": "display_data",
                    "data": {
                        "text/html": "Commands completed successfully."
                    },
                    "metadata": {}
                },
                {
                    "output_type": "display_data",
                    "data": {
                        "text/html": "Total execution time: 00:00:00.8864665"
                    },
                    "metadata": {}
                }
            ],
            "execution_count": 1
        },
        {
            "cell_type": "code",
            "source": "/* Create External Data Source to the Storage Pool */\r\nIF NOT EXISTS(SELECT * FROM sys.external_data_sources WHERE name = 'SqlStoragePool')\r\nBEGIN\r\n    CREATE EXTERNAL DATA SOURCE SqlStoragePool\r\n    WITH (LOCATION = 'sqlhdfs://service-master-pool:50070');\r\nEND",
            "metadata": {},
            "outputs": [
                {
                    "output_type": "display_data",
                    "data": {
                        "text/html": "Commands completed successfully."
                    },
                    "metadata": {}
                },
                {
                    "output_type": "display_data",
                    "data": {
                        "text/html": "Total execution time: 00:00:00.3917940"
                    },
                    "metadata": {}
                }
            ],
            "execution_count": 2
        },
        {
            "cell_type": "code",
            "source": "/* Create an External Table that can read from the Storage Pool File Location */\r\nIF NOT EXISTS(SELECT * FROM sys.external_tables WHERE name = 'partner_customers_hdfs')\r\nBEGIN\r\n    CREATE EXTERNAL TABLE [partner_customers_hdfs]\r\n    (\"CustomerSource\" VARCHAR(250) \r\n    , \"CustomerName\" VARCHAR(250) \r\n    , \"EmailAddress\" VARCHAR(250))\r\n    WITH\r\n    (\r\n        DATA_SOURCE = SqlStoragePool,\r\n        LOCATION = '/partner_customers',\r\n        FILE_FORMAT = csv_file\r\n    );\r\nEND",
            "metadata": {},
            "outputs": [
                {
                    "output_type": "display_data",
                    "data": {
                        "text/html": "Commands completed successfully."
                    },
                    "metadata": {}
                },
                {
                    "output_type": "display_data",
                    "data": {
                        "text/html": "Total execution time: 00:00:00.7815709"
                    },
                    "metadata": {}
                }
            ],
            "execution_count": 3
        },
        {
            "cell_type": "code",
            "source": "/* Read Data from HDFS using only T-SQL */\r\n\r\nSELECT TOP 10 CustomerSource\r\n, CustomerName\r\n, EMailAddress\r\n    FROM [partner_customers_hdfs] hdfs\r\nWHERE EmailAddress LIKE '%wingtip%';\r\nGO\r\n",
            "metadata": {},
            "outputs": [
                {
                    "output_type": "display_data",
                    "data": {
                        "text/html": "(10 rows affected)"
                    },
                    "metadata": {}
                },
                {
                    "output_type": "display_data",
                    "data": {
                        "text/html": "Total execution time: 00:00:06.1719983"
                    },
                    "metadata": {}
                },
                {
                    "output_type": "execute_result",
                    "metadata": {},
                    "execution_count": 4,
                    "data": {
                        "application/vnd.dataresource+json": {
                            "schema": {
                                "fields": [
                                    {
                                        "name": "CustomerSource"
                                    },
                                    {
                                        "name": "CustomerName"
                                    },
                                    {
                                        "name": "EMailAddress"
                                    }
                                ]
                            },
                            "data": [
                                {
                                    "0": "AdventureWorks",
                                    "1": "Olga Alexandrova",
                                    "2": "olga@wingtiptoys.com\r"
                                },
                                {
                                    "0": "AdventureWorks",
                                    "1": "Bibi Javan",
                                    "2": "bibi@wingtiptoys.com\r"
                                },
                                {
                                    "0": "AdventureWorks",
                                    "1": "Maris Baltins",
                                    "2": "maris@wingtiptoys.com\r"
                                },
                                {
                                    "0": "AdventureWorks",
                                    "1": "Taneli Hahl",
                                    "2": "taneli@wingtiptoys.com\r"
                                },
                                {
                                    "0": "AdventureWorks",
                                    "1": "Parsa Reuser",
                                    "2": "parsa@wingtiptoys.com\r"
                                },
                                {
                                    "0": "AdventureWorks",
                                    "1": "Da-eun Kwak",
                                    "2": "da-eun@wingtiptoys.com\r"
                                },
                                {
                                    "0": "AdventureWorks",
                                    "1": "Duleep Srivastava",
                                    "2": "duleep@wingtiptoys.com\r"
                                },
                                {
                                    "0": "AdventureWorks",
                                    "1": "Kurt Balog",
                                    "2": "kurt@wingtiptoys.com\r"
                                },
                                {
                                    "0": "AdventureWorks",
                                    "1": "Miran Nikolic",
                                    "2": "miran@wingtiptoys.com\r"
                                },
                                {
                                    "0": "AdventureWorks",
                                    "1": "Indra Mudaliyar",
                                    "2": "indra@wingtiptoys.com\r"
                                }
                            ]
                        },
                        "text/html": "<table><tr><th>CustomerSource</th><th>CustomerName</th><th>EMailAddress</th></tr><tr><td>AdventureWorks</td><td>Olga Alexandrova</td><td>olga@wingtiptoys.com\r</td></tr><tr><td>AdventureWorks</td><td>Bibi Javan</td><td>bibi@wingtiptoys.com\r</td></tr><tr><td>AdventureWorks</td><td>Maris Baltins</td><td>maris@wingtiptoys.com\r</td></tr><tr><td>AdventureWorks</td><td>Taneli Hahl</td><td>taneli@wingtiptoys.com\r</td></tr><tr><td>AdventureWorks</td><td>Parsa Reuser</td><td>parsa@wingtiptoys.com\r</td></tr><tr><td>AdventureWorks</td><td>Da-eun Kwak</td><td>da-eun@wingtiptoys.com\r</td></tr><tr><td>AdventureWorks</td><td>Duleep Srivastava</td><td>duleep@wingtiptoys.com\r</td></tr><tr><td>AdventureWorks</td><td>Kurt Balog</td><td>kurt@wingtiptoys.com\r</td></tr><tr><td>AdventureWorks</td><td>Miran Nikolic</td><td>miran@wingtiptoys.com\r</td></tr><tr><td>AdventureWorks</td><td>Indra Mudaliyar</td><td>indra@wingtiptoys.com\r</td></tr></table>"
                    }
                }
            ],
            "execution_count": 4
        },
        {
            "cell_type": "code",
            "source": "/* Now Join Those to show customers we currently have in a SQL Server Database \r\nand the Category they qre in the External Table */\r\nUSE WideWorldImporters;\r\nGO\r\n\r\nSELECT TOP 10 a.FullName\r\n  , b.CustomerSource\r\n  FROM Application.People a\r\n  INNER JOIN partner_customers_hdfs b  ON a.FullName = b.CustomerName;\r\n  GO",
            "metadata": {},
            "outputs": [
                {
                    "output_type": "display_data",
                    "data": {
                        "text/html": "Commands completed successfully."
                    },
                    "metadata": {}
                },
                {
                    "output_type": "display_data",
                    "data": {
                        "text/html": "Total execution time: 00:00:00.0798501"
                    },
                    "metadata": {}
                },
                {
                    "output_type": "display_data",
                    "data": {
                        "text/html": "(10 rows affected)"
                    },
                    "metadata": {}
                },
                {
                    "output_type": "display_data",
                    "data": {
                        "text/html": "Total execution time: 00:00:08.6235983"
                    },
                    "metadata": {}
                },
                {
                    "output_type": "execute_result",
                    "metadata": {},
                    "execution_count": 18,
                    "data": {
                        "application/vnd.dataresource+json": {
                            "schema": {
                                "fields": [
                                    {
                                        "name": "FullName"
                                    },
                                    {
                                        "name": "CustomerSource"
                                    }
                                ]
                            },
                            "data": [
                                {
                                    "0": "Deeptendu Das",
                                    "1": "AdventureWorks"
                                },
                                {
                                    "0": "Bhaagyalakshmi Rajanala",
                                    "1": "AdventureWorks"
                                },
                                {
                                    "0": "Rohan Das",
                                    "1": "AdventureWorks"
                                },
                                {
                                    "0": "Bhaanusree Ankitham",
                                    "1": "AdventureWorks"
                                },
                                {
                                    "0": "Aamdaal Kamasamudram",
                                    "1": "AdventureWorks"
                                },
                                {
                                    "0": "Karita Rosberg",
                                    "1": "AdventureWorks"
                                },
                                {
                                    "0": "Baebeesarasvati Kamasamudram",
                                    "1": "AdventureWorks"
                                },
                                {
                                    "0": "Hana Palatova",
                                    "1": "AdventureWorks"
                                },
                                {
                                    "0": "Marcello Dellucci",
                                    "1": "AdventureWorks"
                                },
                                {
                                    "0": "Shobha Raju",
                                    "1": "AdventureWorks"
                                }
                            ]
                        },
                        "text/html": "<table><tr><th>FullName</th><th>CustomerSource</th></tr><tr><td>Deeptendu Das</td><td>AdventureWorks</td></tr><tr><td>Bhaagyalakshmi Rajanala</td><td>AdventureWorks</td></tr><tr><td>Rohan Das</td><td>AdventureWorks</td></tr><tr><td>Bhaanusree Ankitham</td><td>AdventureWorks</td></tr><tr><td>Aamdaal Kamasamudram</td><td>AdventureWorks</td></tr><tr><td>Karita Rosberg</td><td>AdventureWorks</td></tr><tr><td>Baebeesarasvati Kamasamudram</td><td>AdventureWorks</td></tr><tr><td>Hana Palatova</td><td>AdventureWorks</td></tr><tr><td>Marcello Dellucci</td><td>AdventureWorks</td></tr><tr><td>Shobha Raju</td><td>AdventureWorks</td></tr></table>"
                    }
                }
            ],
            "execution_count": 18
        },
        {
            "cell_type": "markdown",
            "source": "## Next Steps: Continue on to Working with the SQL Server Data Pool",
            "metadata": {}
        }
    ]
}